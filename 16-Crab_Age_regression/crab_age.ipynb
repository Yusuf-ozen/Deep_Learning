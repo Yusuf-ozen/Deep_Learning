{
 "cells": [
  {
   "cell_type": "markdown",
   "id": "2e0cc998",
   "metadata": {},
   "source": [
    "## Import libraries"
   ]
  },
  {
   "cell_type": "code",
   "execution_count": 1,
   "id": "a8872d67",
   "metadata": {},
   "outputs": [],
   "source": [
    "import numpy as np\n",
    "import pandas as pd\n",
    "import matplotlib.pyplot as plt\n",
    "import seaborn as sbn\n",
    "import warnings\n",
    "warnings.simplefilter(\"ignore\")\n",
    "pd.set_option(\"display.max_columns\", 100)\n",
    "from sklearn.metrics import mean_squared_error, r2_score\n",
    "from sklearn.model_selection import train_test_split\n",
    "from sklearn.linear_model import LinearRegression, Ridge, Lasso, ElasticNet\n",
    "from sklearn.preprocessing import PolynomialFeatures, MinMaxScaler, StandardScaler\n",
    "from sklearn.svm import SVR\n",
    "from sklearn.tree import DecisionTreeRegressor\n",
    "from sklearn.ensemble import RandomForestRegressor"
   ]
  },
  {
   "cell_type": "code",
   "execution_count": 2,
   "id": "46670404",
   "metadata": {},
   "outputs": [],
   "source": [
    "data = pd.read_csv(\"CrabAgePrediction.csv\")"
   ]
  },
  {
   "cell_type": "markdown",
   "id": "caa40f29",
   "metadata": {},
   "source": [
    "## E.D.A."
   ]
  },
  {
   "cell_type": "code",
   "execution_count": 3,
   "id": "7cd95b4a",
   "metadata": {},
   "outputs": [
    {
     "data": {
      "text/html": [
       "<div>\n",
       "<style scoped>\n",
       "    .dataframe tbody tr th:only-of-type {\n",
       "        vertical-align: middle;\n",
       "    }\n",
       "\n",
       "    .dataframe tbody tr th {\n",
       "        vertical-align: top;\n",
       "    }\n",
       "\n",
       "    .dataframe thead th {\n",
       "        text-align: right;\n",
       "    }\n",
       "</style>\n",
       "<table border=\"1\" class=\"dataframe\">\n",
       "  <thead>\n",
       "    <tr style=\"text-align: right;\">\n",
       "      <th></th>\n",
       "      <th>Sex</th>\n",
       "      <th>Length</th>\n",
       "      <th>Diameter</th>\n",
       "      <th>Height</th>\n",
       "      <th>Weight</th>\n",
       "      <th>Shucked Weight</th>\n",
       "      <th>Viscera Weight</th>\n",
       "      <th>Shell Weight</th>\n",
       "      <th>Age</th>\n",
       "    </tr>\n",
       "  </thead>\n",
       "  <tbody>\n",
       "    <tr>\n",
       "      <th>0</th>\n",
       "      <td>F</td>\n",
       "      <td>1.4375</td>\n",
       "      <td>1.1750</td>\n",
       "      <td>0.4125</td>\n",
       "      <td>24.635715</td>\n",
       "      <td>12.332033</td>\n",
       "      <td>5.584852</td>\n",
       "      <td>6.747181</td>\n",
       "      <td>9</td>\n",
       "    </tr>\n",
       "    <tr>\n",
       "      <th>1</th>\n",
       "      <td>M</td>\n",
       "      <td>0.8875</td>\n",
       "      <td>0.6500</td>\n",
       "      <td>0.2125</td>\n",
       "      <td>5.400580</td>\n",
       "      <td>2.296310</td>\n",
       "      <td>1.374951</td>\n",
       "      <td>1.559222</td>\n",
       "      <td>6</td>\n",
       "    </tr>\n",
       "    <tr>\n",
       "      <th>2</th>\n",
       "      <td>I</td>\n",
       "      <td>1.0375</td>\n",
       "      <td>0.7750</td>\n",
       "      <td>0.2500</td>\n",
       "      <td>7.952035</td>\n",
       "      <td>3.231843</td>\n",
       "      <td>1.601747</td>\n",
       "      <td>2.764076</td>\n",
       "      <td>6</td>\n",
       "    </tr>\n",
       "    <tr>\n",
       "      <th>3</th>\n",
       "      <td>F</td>\n",
       "      <td>1.1750</td>\n",
       "      <td>0.8875</td>\n",
       "      <td>0.2500</td>\n",
       "      <td>13.480187</td>\n",
       "      <td>4.748541</td>\n",
       "      <td>2.282135</td>\n",
       "      <td>5.244657</td>\n",
       "      <td>10</td>\n",
       "    </tr>\n",
       "    <tr>\n",
       "      <th>4</th>\n",
       "      <td>I</td>\n",
       "      <td>0.8875</td>\n",
       "      <td>0.6625</td>\n",
       "      <td>0.2125</td>\n",
       "      <td>6.903103</td>\n",
       "      <td>3.458639</td>\n",
       "      <td>1.488349</td>\n",
       "      <td>1.700970</td>\n",
       "      <td>6</td>\n",
       "    </tr>\n",
       "  </tbody>\n",
       "</table>\n",
       "</div>"
      ],
      "text/plain": [
       "  Sex  Length  Diameter  Height     Weight  Shucked Weight  Viscera Weight  \\\n",
       "0   F  1.4375    1.1750  0.4125  24.635715       12.332033        5.584852   \n",
       "1   M  0.8875    0.6500  0.2125   5.400580        2.296310        1.374951   \n",
       "2   I  1.0375    0.7750  0.2500   7.952035        3.231843        1.601747   \n",
       "3   F  1.1750    0.8875  0.2500  13.480187        4.748541        2.282135   \n",
       "4   I  0.8875    0.6625  0.2125   6.903103        3.458639        1.488349   \n",
       "\n",
       "   Shell Weight  Age  \n",
       "0      6.747181    9  \n",
       "1      1.559222    6  \n",
       "2      2.764076    6  \n",
       "3      5.244657   10  \n",
       "4      1.700970    6  "
      ]
     },
     "execution_count": 3,
     "metadata": {},
     "output_type": "execute_result"
    }
   ],
   "source": [
    "data.head()"
   ]
  },
  {
   "cell_type": "code",
   "execution_count": 4,
   "id": "7eb90e02",
   "metadata": {},
   "outputs": [
    {
     "data": {
      "text/html": [
       "<div>\n",
       "<style scoped>\n",
       "    .dataframe tbody tr th:only-of-type {\n",
       "        vertical-align: middle;\n",
       "    }\n",
       "\n",
       "    .dataframe tbody tr th {\n",
       "        vertical-align: top;\n",
       "    }\n",
       "\n",
       "    .dataframe thead th {\n",
       "        text-align: right;\n",
       "    }\n",
       "</style>\n",
       "<table border=\"1\" class=\"dataframe\">\n",
       "  <thead>\n",
       "    <tr style=\"text-align: right;\">\n",
       "      <th></th>\n",
       "      <th>Sex</th>\n",
       "      <th>Length</th>\n",
       "      <th>Diameter</th>\n",
       "      <th>Height</th>\n",
       "      <th>Weight</th>\n",
       "      <th>Shucked Weight</th>\n",
       "      <th>Viscera Weight</th>\n",
       "      <th>Shell Weight</th>\n",
       "      <th>Age</th>\n",
       "    </tr>\n",
       "  </thead>\n",
       "  <tbody>\n",
       "    <tr>\n",
       "      <th>3888</th>\n",
       "      <td>F</td>\n",
       "      <td>1.4625</td>\n",
       "      <td>1.1375</td>\n",
       "      <td>0.3250</td>\n",
       "      <td>24.819987</td>\n",
       "      <td>11.651644</td>\n",
       "      <td>5.854172</td>\n",
       "      <td>6.378637</td>\n",
       "      <td>8</td>\n",
       "    </tr>\n",
       "    <tr>\n",
       "      <th>3889</th>\n",
       "      <td>F</td>\n",
       "      <td>1.5500</td>\n",
       "      <td>1.2125</td>\n",
       "      <td>0.4375</td>\n",
       "      <td>34.458817</td>\n",
       "      <td>15.450477</td>\n",
       "      <td>7.172423</td>\n",
       "      <td>9.780577</td>\n",
       "      <td>10</td>\n",
       "    </tr>\n",
       "    <tr>\n",
       "      <th>3890</th>\n",
       "      <td>I</td>\n",
       "      <td>0.6250</td>\n",
       "      <td>0.4625</td>\n",
       "      <td>0.1625</td>\n",
       "      <td>2.012815</td>\n",
       "      <td>0.765436</td>\n",
       "      <td>0.524466</td>\n",
       "      <td>0.637864</td>\n",
       "      <td>5</td>\n",
       "    </tr>\n",
       "    <tr>\n",
       "      <th>3891</th>\n",
       "      <td>I</td>\n",
       "      <td>1.0625</td>\n",
       "      <td>0.7750</td>\n",
       "      <td>0.2625</td>\n",
       "      <td>10.347568</td>\n",
       "      <td>4.507570</td>\n",
       "      <td>2.338834</td>\n",
       "      <td>2.976698</td>\n",
       "      <td>6</td>\n",
       "    </tr>\n",
       "    <tr>\n",
       "      <th>3892</th>\n",
       "      <td>I</td>\n",
       "      <td>0.7875</td>\n",
       "      <td>0.6125</td>\n",
       "      <td>0.2125</td>\n",
       "      <td>4.068153</td>\n",
       "      <td>1.502523</td>\n",
       "      <td>1.346601</td>\n",
       "      <td>1.417475</td>\n",
       "      <td>8</td>\n",
       "    </tr>\n",
       "  </tbody>\n",
       "</table>\n",
       "</div>"
      ],
      "text/plain": [
       "     Sex  Length  Diameter  Height     Weight  Shucked Weight  Viscera Weight  \\\n",
       "3888   F  1.4625    1.1375  0.3250  24.819987       11.651644        5.854172   \n",
       "3889   F  1.5500    1.2125  0.4375  34.458817       15.450477        7.172423   \n",
       "3890   I  0.6250    0.4625  0.1625   2.012815        0.765436        0.524466   \n",
       "3891   I  1.0625    0.7750  0.2625  10.347568        4.507570        2.338834   \n",
       "3892   I  0.7875    0.6125  0.2125   4.068153        1.502523        1.346601   \n",
       "\n",
       "      Shell Weight  Age  \n",
       "3888      6.378637    8  \n",
       "3889      9.780577   10  \n",
       "3890      0.637864    5  \n",
       "3891      2.976698    6  \n",
       "3892      1.417475    8  "
      ]
     },
     "execution_count": 4,
     "metadata": {},
     "output_type": "execute_result"
    }
   ],
   "source": [
    "data.tail()"
   ]
  },
  {
   "cell_type": "code",
   "execution_count": 5,
   "id": "6935d29c",
   "metadata": {},
   "outputs": [
    {
     "data": {
      "text/html": [
       "<div>\n",
       "<style scoped>\n",
       "    .dataframe tbody tr th:only-of-type {\n",
       "        vertical-align: middle;\n",
       "    }\n",
       "\n",
       "    .dataframe tbody tr th {\n",
       "        vertical-align: top;\n",
       "    }\n",
       "\n",
       "    .dataframe thead th {\n",
       "        text-align: right;\n",
       "    }\n",
       "</style>\n",
       "<table border=\"1\" class=\"dataframe\">\n",
       "  <thead>\n",
       "    <tr style=\"text-align: right;\">\n",
       "      <th></th>\n",
       "      <th>Sex</th>\n",
       "      <th>Length</th>\n",
       "      <th>Diameter</th>\n",
       "      <th>Height</th>\n",
       "      <th>Weight</th>\n",
       "      <th>Shucked Weight</th>\n",
       "      <th>Viscera Weight</th>\n",
       "      <th>Shell Weight</th>\n",
       "      <th>Age</th>\n",
       "    </tr>\n",
       "  </thead>\n",
       "  <tbody>\n",
       "    <tr>\n",
       "      <th>682</th>\n",
       "      <td>F</td>\n",
       "      <td>1.450</td>\n",
       "      <td>1.1500</td>\n",
       "      <td>0.3750</td>\n",
       "      <td>28.221927</td>\n",
       "      <td>12.161936</td>\n",
       "      <td>6.010094</td>\n",
       "      <td>7.370870</td>\n",
       "      <td>19</td>\n",
       "    </tr>\n",
       "    <tr>\n",
       "      <th>3020</th>\n",
       "      <td>M</td>\n",
       "      <td>1.700</td>\n",
       "      <td>1.2875</td>\n",
       "      <td>0.4250</td>\n",
       "      <td>45.685219</td>\n",
       "      <td>23.856104</td>\n",
       "      <td>8.674947</td>\n",
       "      <td>11.198052</td>\n",
       "      <td>11</td>\n",
       "    </tr>\n",
       "    <tr>\n",
       "      <th>81</th>\n",
       "      <td>F</td>\n",
       "      <td>1.550</td>\n",
       "      <td>1.2500</td>\n",
       "      <td>0.4375</td>\n",
       "      <td>32.488527</td>\n",
       "      <td>13.522711</td>\n",
       "      <td>6.520385</td>\n",
       "      <td>11.056305</td>\n",
       "      <td>13</td>\n",
       "    </tr>\n",
       "    <tr>\n",
       "      <th>1272</th>\n",
       "      <td>M</td>\n",
       "      <td>1.475</td>\n",
       "      <td>1.1625</td>\n",
       "      <td>0.3875</td>\n",
       "      <td>32.205032</td>\n",
       "      <td>14.869313</td>\n",
       "      <td>7.413394</td>\n",
       "      <td>7.796112</td>\n",
       "      <td>11</td>\n",
       "    </tr>\n",
       "    <tr>\n",
       "      <th>2402</th>\n",
       "      <td>F</td>\n",
       "      <td>1.600</td>\n",
       "      <td>1.3125</td>\n",
       "      <td>0.4375</td>\n",
       "      <td>39.179009</td>\n",
       "      <td>18.313777</td>\n",
       "      <td>8.830869</td>\n",
       "      <td>10.489315</td>\n",
       "      <td>9</td>\n",
       "    </tr>\n",
       "  </tbody>\n",
       "</table>\n",
       "</div>"
      ],
      "text/plain": [
       "     Sex  Length  Diameter  Height     Weight  Shucked Weight  Viscera Weight  \\\n",
       "682    F   1.450    1.1500  0.3750  28.221927       12.161936        6.010094   \n",
       "3020   M   1.700    1.2875  0.4250  45.685219       23.856104        8.674947   \n",
       "81     F   1.550    1.2500  0.4375  32.488527       13.522711        6.520385   \n",
       "1272   M   1.475    1.1625  0.3875  32.205032       14.869313        7.413394   \n",
       "2402   F   1.600    1.3125  0.4375  39.179009       18.313777        8.830869   \n",
       "\n",
       "      Shell Weight  Age  \n",
       "682       7.370870   19  \n",
       "3020     11.198052   11  \n",
       "81       11.056305   13  \n",
       "1272      7.796112   11  \n",
       "2402     10.489315    9  "
      ]
     },
     "execution_count": 5,
     "metadata": {},
     "output_type": "execute_result"
    }
   ],
   "source": [
    "data.sample(5)"
   ]
  },
  {
   "cell_type": "code",
   "execution_count": 6,
   "id": "3d4c957a",
   "metadata": {},
   "outputs": [
    {
     "name": "stdout",
     "output_type": "stream",
     "text": [
      "<class 'pandas.core.frame.DataFrame'>\n",
      "RangeIndex: 3893 entries, 0 to 3892\n",
      "Data columns (total 9 columns):\n",
      " #   Column          Non-Null Count  Dtype  \n",
      "---  ------          --------------  -----  \n",
      " 0   Sex             3893 non-null   object \n",
      " 1   Length          3893 non-null   float64\n",
      " 2   Diameter        3893 non-null   float64\n",
      " 3   Height          3893 non-null   float64\n",
      " 4   Weight          3893 non-null   float64\n",
      " 5   Shucked Weight  3893 non-null   float64\n",
      " 6   Viscera Weight  3893 non-null   float64\n",
      " 7   Shell Weight    3893 non-null   float64\n",
      " 8   Age             3893 non-null   int64  \n",
      "dtypes: float64(7), int64(1), object(1)\n",
      "memory usage: 273.9+ KB\n"
     ]
    }
   ],
   "source": [
    "data.info()"
   ]
  },
  {
   "cell_type": "code",
   "execution_count": 7,
   "id": "82896d06",
   "metadata": {},
   "outputs": [
    {
     "data": {
      "text/plain": [
       "Sex               0\n",
       "Length            0\n",
       "Diameter          0\n",
       "Height            0\n",
       "Weight            0\n",
       "Shucked Weight    0\n",
       "Viscera Weight    0\n",
       "Shell Weight      0\n",
       "Age               0\n",
       "dtype: int64"
      ]
     },
     "execution_count": 7,
     "metadata": {},
     "output_type": "execute_result"
    }
   ],
   "source": [
    "data.isnull().sum()"
   ]
  },
  {
   "cell_type": "code",
   "execution_count": 8,
   "id": "0c0b70e4",
   "metadata": {},
   "outputs": [
    {
     "data": {
      "text/html": [
       "<div>\n",
       "<style scoped>\n",
       "    .dataframe tbody tr th:only-of-type {\n",
       "        vertical-align: middle;\n",
       "    }\n",
       "\n",
       "    .dataframe tbody tr th {\n",
       "        vertical-align: top;\n",
       "    }\n",
       "\n",
       "    .dataframe thead th {\n",
       "        text-align: right;\n",
       "    }\n",
       "</style>\n",
       "<table border=\"1\" class=\"dataframe\">\n",
       "  <thead>\n",
       "    <tr style=\"text-align: right;\">\n",
       "      <th></th>\n",
       "      <th>Length</th>\n",
       "      <th>Diameter</th>\n",
       "      <th>Height</th>\n",
       "      <th>Weight</th>\n",
       "      <th>Shucked Weight</th>\n",
       "      <th>Viscera Weight</th>\n",
       "      <th>Shell Weight</th>\n",
       "      <th>Age</th>\n",
       "    </tr>\n",
       "  </thead>\n",
       "  <tbody>\n",
       "    <tr>\n",
       "      <th>Length</th>\n",
       "      <td>1.000000</td>\n",
       "      <td>0.986653</td>\n",
       "      <td>0.823081</td>\n",
       "      <td>0.925374</td>\n",
       "      <td>0.898181</td>\n",
       "      <td>0.903253</td>\n",
       "      <td>0.897736</td>\n",
       "      <td>0.554973</td>\n",
       "    </tr>\n",
       "    <tr>\n",
       "      <th>Diameter</th>\n",
       "      <td>0.986653</td>\n",
       "      <td>1.000000</td>\n",
       "      <td>0.829532</td>\n",
       "      <td>0.925770</td>\n",
       "      <td>0.893626</td>\n",
       "      <td>0.899810</td>\n",
       "      <td>0.905561</td>\n",
       "      <td>0.573844</td>\n",
       "    </tr>\n",
       "    <tr>\n",
       "      <th>Height</th>\n",
       "      <td>0.823081</td>\n",
       "      <td>0.829532</td>\n",
       "      <td>1.000000</td>\n",
       "      <td>0.814405</td>\n",
       "      <td>0.770961</td>\n",
       "      <td>0.793272</td>\n",
       "      <td>0.812290</td>\n",
       "      <td>0.551956</td>\n",
       "    </tr>\n",
       "    <tr>\n",
       "      <th>Weight</th>\n",
       "      <td>0.925374</td>\n",
       "      <td>0.925770</td>\n",
       "      <td>0.814405</td>\n",
       "      <td>1.000000</td>\n",
       "      <td>0.969077</td>\n",
       "      <td>0.965583</td>\n",
       "      <td>0.955269</td>\n",
       "      <td>0.538819</td>\n",
       "    </tr>\n",
       "    <tr>\n",
       "      <th>Shucked Weight</th>\n",
       "      <td>0.898181</td>\n",
       "      <td>0.893626</td>\n",
       "      <td>0.770961</td>\n",
       "      <td>0.969077</td>\n",
       "      <td>1.000000</td>\n",
       "      <td>0.931280</td>\n",
       "      <td>0.882406</td>\n",
       "      <td>0.418760</td>\n",
       "    </tr>\n",
       "    <tr>\n",
       "      <th>Viscera Weight</th>\n",
       "      <td>0.903253</td>\n",
       "      <td>0.899810</td>\n",
       "      <td>0.793272</td>\n",
       "      <td>0.965583</td>\n",
       "      <td>0.931280</td>\n",
       "      <td>1.000000</td>\n",
       "      <td>0.906105</td>\n",
       "      <td>0.501328</td>\n",
       "    </tr>\n",
       "    <tr>\n",
       "      <th>Shell Weight</th>\n",
       "      <td>0.897736</td>\n",
       "      <td>0.905561</td>\n",
       "      <td>0.812290</td>\n",
       "      <td>0.955269</td>\n",
       "      <td>0.882406</td>\n",
       "      <td>0.906105</td>\n",
       "      <td>1.000000</td>\n",
       "      <td>0.625195</td>\n",
       "    </tr>\n",
       "    <tr>\n",
       "      <th>Age</th>\n",
       "      <td>0.554973</td>\n",
       "      <td>0.573844</td>\n",
       "      <td>0.551956</td>\n",
       "      <td>0.538819</td>\n",
       "      <td>0.418760</td>\n",
       "      <td>0.501328</td>\n",
       "      <td>0.625195</td>\n",
       "      <td>1.000000</td>\n",
       "    </tr>\n",
       "  </tbody>\n",
       "</table>\n",
       "</div>"
      ],
      "text/plain": [
       "                  Length  Diameter    Height    Weight  Shucked Weight  \\\n",
       "Length          1.000000  0.986653  0.823081  0.925374        0.898181   \n",
       "Diameter        0.986653  1.000000  0.829532  0.925770        0.893626   \n",
       "Height          0.823081  0.829532  1.000000  0.814405        0.770961   \n",
       "Weight          0.925374  0.925770  0.814405  1.000000        0.969077   \n",
       "Shucked Weight  0.898181  0.893626  0.770961  0.969077        1.000000   \n",
       "Viscera Weight  0.903253  0.899810  0.793272  0.965583        0.931280   \n",
       "Shell Weight    0.897736  0.905561  0.812290  0.955269        0.882406   \n",
       "Age             0.554973  0.573844  0.551956  0.538819        0.418760   \n",
       "\n",
       "                Viscera Weight  Shell Weight       Age  \n",
       "Length                0.903253      0.897736  0.554973  \n",
       "Diameter              0.899810      0.905561  0.573844  \n",
       "Height                0.793272      0.812290  0.551956  \n",
       "Weight                0.965583      0.955269  0.538819  \n",
       "Shucked Weight        0.931280      0.882406  0.418760  \n",
       "Viscera Weight        1.000000      0.906105  0.501328  \n",
       "Shell Weight          0.906105      1.000000  0.625195  \n",
       "Age                   0.501328      0.625195  1.000000  "
      ]
     },
     "execution_count": 8,
     "metadata": {},
     "output_type": "execute_result"
    }
   ],
   "source": [
    "data.corr()"
   ]
  },
  {
   "cell_type": "code",
   "execution_count": 9,
   "id": "267d8edf",
   "metadata": {},
   "outputs": [
    {
     "data": {
      "text/plain": [
       "<AxesSubplot:>"
      ]
     },
     "execution_count": 9,
     "metadata": {},
     "output_type": "execute_result"
    },
    {
     "data": {
      "image/png": "[encoded data removed]",
      "text/plain": [
       "<Figure size 432x288 with 1 Axes>"
      ]
     },
     "metadata": {
      "needs_background": "light"
     },
     "output_type": "display_data"
    }
   ],
   "source": [
    "data.corr()[\"Age\"].plot(kind = \"bar\")"
   ]
  },
  {
   "cell_type": "code",
   "execution_count": 10,
   "id": "80abc811",
   "metadata": {},
   "outputs": [
    {
     "data": {
      "text/html": [
       "<style type=\"text/css\">\n",
       "#T_5882c_row0_col0 {\n",
       "  background-color: #3f93c2;\n",
       "  color: #f1f1f1;\n",
       "}\n",
       "#T_5882c_row0_col1 {\n",
       "  background-color: #4496c3;\n",
       "  color: #f1f1f1;\n",
       "}\n",
       "#T_5882c_row0_col2, #T_5882c_row3_col5 {\n",
       "  background-color: #ede7f2;\n",
       "  color: #000000;\n",
       "}\n",
       "#T_5882c_row0_col3 {\n",
       "  background-color: #c1cae2;\n",
       "  color: #000000;\n",
       "}\n",
       "#T_5882c_row0_col4 {\n",
       "  background-color: #d2d3e7;\n",
       "  color: #000000;\n",
       "}\n",
       "#T_5882c_row0_col5, #T_5882c_row0_col6 {\n",
       "  background-color: #d3d4e7;\n",
       "  color: #000000;\n",
       "}\n",
       "#T_5882c_row0_col7 {\n",
       "  background-color: #b9c6e0;\n",
       "  color: #000000;\n",
       "}\n",
       "#T_5882c_row1_col0 {\n",
       "  background-color: #f6eff7;\n",
       "  color: #000000;\n",
       "}\n",
       "#T_5882c_row1_col1 {\n",
       "  background-color: #f4edf6;\n",
       "  color: #000000;\n",
       "}\n",
       "#T_5882c_row1_col2 {\n",
       "  background-color: #faf2f8;\n",
       "  color: #000000;\n",
       "}\n",
       "#T_5882c_row1_col3 {\n",
       "  background-color: #e1dfed;\n",
       "  color: #000000;\n",
       "}\n",
       "#T_5882c_row1_col4, #T_5882c_row5_col2 {\n",
       "  background-color: #e7e3f0;\n",
       "  color: #000000;\n",
       "}\n",
       "#T_5882c_row1_col5 {\n",
       "  background-color: #e8e4f0;\n",
       "  color: #000000;\n",
       "}\n",
       "#T_5882c_row1_col6 {\n",
       "  background-color: #e9e5f1;\n",
       "  color: #000000;\n",
       "}\n",
       "#T_5882c_row1_col7 {\n",
       "  background-color: #f3edf5;\n",
       "  color: #000000;\n",
       "}\n",
       "#T_5882c_row2_col0, #T_5882c_row2_col1, #T_5882c_row2_col2, #T_5882c_row2_col3, #T_5882c_row2_col4, #T_5882c_row2_col5, #T_5882c_row2_col6, #T_5882c_row2_col7 {\n",
       "  background-color: #fff7fb;\n",
       "  color: #000000;\n",
       "}\n",
       "#T_5882c_row3_col0 {\n",
       "  background-color: #71a8ce;\n",
       "  color: #f1f1f1;\n",
       "}\n",
       "#T_5882c_row3_col1 {\n",
       "  background-color: #76aad0;\n",
       "  color: #f1f1f1;\n",
       "}\n",
       "#T_5882c_row3_col2 {\n",
       "  background-color: #f0eaf4;\n",
       "  color: #000000;\n",
       "}\n",
       "#T_5882c_row3_col3 {\n",
       "  background-color: #e5e1ef;\n",
       "  color: #000000;\n",
       "}\n",
       "#T_5882c_row3_col4, #T_5882c_row4_col2 {\n",
       "  background-color: #ece7f2;\n",
       "  color: #000000;\n",
       "}\n",
       "#T_5882c_row3_col6 {\n",
       "  background-color: #ebe6f2;\n",
       "  color: #000000;\n",
       "}\n",
       "#T_5882c_row3_col7 {\n",
       "  background-color: #d0d1e6;\n",
       "  color: #000000;\n",
       "}\n",
       "#T_5882c_row4_col0 {\n",
       "  background-color: #328dbf;\n",
       "  color: #f1f1f1;\n",
       "}\n",
       "#T_5882c_row4_col1 {\n",
       "  background-color: #3790c0;\n",
       "  color: #f1f1f1;\n",
       "}\n",
       "#T_5882c_row4_col3 {\n",
       "  background-color: #c5cce3;\n",
       "  color: #000000;\n",
       "}\n",
       "#T_5882c_row4_col4, #T_5882c_row4_col5 {\n",
       "  background-color: #d6d6e9;\n",
       "  color: #000000;\n",
       "}\n",
       "#T_5882c_row4_col6 {\n",
       "  background-color: #d4d4e8;\n",
       "  color: #000000;\n",
       "}\n",
       "#T_5882c_row4_col7 {\n",
       "  background-color: #b8c6e0;\n",
       "  color: #000000;\n",
       "}\n",
       "#T_5882c_row5_col0 {\n",
       "  background-color: #0d75b3;\n",
       "  color: #f1f1f1;\n",
       "}\n",
       "#T_5882c_row5_col1 {\n",
       "  background-color: #1379b5;\n",
       "  color: #f1f1f1;\n",
       "}\n",
       "#T_5882c_row5_col3 {\n",
       "  background-color: #99b8d8;\n",
       "  color: #000000;\n",
       "}\n",
       "#T_5882c_row5_col4 {\n",
       "  background-color: #b3c3de;\n",
       "  color: #000000;\n",
       "}\n",
       "#T_5882c_row5_col5 {\n",
       "  background-color: #b4c4df;\n",
       "  color: #000000;\n",
       "}\n",
       "#T_5882c_row5_col6 {\n",
       "  background-color: #b7c5df;\n",
       "  color: #000000;\n",
       "}\n",
       "#T_5882c_row5_col7 {\n",
       "  background-color: #acc0dd;\n",
       "  color: #000000;\n",
       "}\n",
       "#T_5882c_row6_col0, #T_5882c_row6_col1, #T_5882c_row6_col2, #T_5882c_row6_col3, #T_5882c_row6_col4, #T_5882c_row6_col5, #T_5882c_row6_col6, #T_5882c_row6_col7 {\n",
       "  background-color: #023858;\n",
       "  color: #f1f1f1;\n",
       "}\n",
       "</style>\n",
       "<table id=\"T_5882c\">\n",
       "  <thead>\n",
       "    <tr>\n",
       "      <th class=\"blank level0\" >&nbsp;</th>\n",
       "      <th id=\"T_5882c_level0_col0\" class=\"col_heading level0 col0\" >Length</th>\n",
       "      <th id=\"T_5882c_level0_col1\" class=\"col_heading level0 col1\" >Diameter</th>\n",
       "      <th id=\"T_5882c_level0_col2\" class=\"col_heading level0 col2\" >Height</th>\n",
       "      <th id=\"T_5882c_level0_col3\" class=\"col_heading level0 col3\" >Weight</th>\n",
       "      <th id=\"T_5882c_level0_col4\" class=\"col_heading level0 col4\" >Shucked Weight</th>\n",
       "      <th id=\"T_5882c_level0_col5\" class=\"col_heading level0 col5\" >Viscera Weight</th>\n",
       "      <th id=\"T_5882c_level0_col6\" class=\"col_heading level0 col6\" >Shell Weight</th>\n",
       "      <th id=\"T_5882c_level0_col7\" class=\"col_heading level0 col7\" >Age</th>\n",
       "    </tr>\n",
       "  </thead>\n",
       "  <tbody>\n",
       "    <tr>\n",
       "      <th id=\"T_5882c_level0_row0\" class=\"row_heading level0 row0\" >mean</th>\n",
       "      <td id=\"T_5882c_row0_col0\" class=\"data row0 col0\" >1.311306</td>\n",
       "      <td id=\"T_5882c_row0_col1\" class=\"data row0 col1\" >1.020893</td>\n",
       "      <td id=\"T_5882c_row0_col2\" class=\"data row0 col2\" >0.349374</td>\n",
       "      <td id=\"T_5882c_row0_col3\" class=\"data row0 col3\" >23.567275</td>\n",
       "      <td id=\"T_5882c_row0_col4\" class=\"data row0 col4\" >10.207342</td>\n",
       "      <td id=\"T_5882c_row0_col5\" class=\"data row0 col5\" >5.136546</td>\n",
       "      <td id=\"T_5882c_row0_col6\" class=\"data row0 col6\" >6.795844</td>\n",
       "      <td id=\"T_5882c_row0_col7\" class=\"data row0 col7\" >9.954791</td>\n",
       "    </tr>\n",
       "    <tr>\n",
       "      <th id=\"T_5882c_level0_row1\" class=\"row_heading level0 row1\" >std</th>\n",
       "      <td id=\"T_5882c_row1_col0\" class=\"data row1 col0\" >0.300431</td>\n",
       "      <td id=\"T_5882c_row1_col1\" class=\"data row1 col1\" >0.248233</td>\n",
       "      <td id=\"T_5882c_row1_col2\" class=\"data row1 col2\" >0.104976</td>\n",
       "      <td id=\"T_5882c_row1_col3\" class=\"data row1 col3\" >13.891201</td>\n",
       "      <td id=\"T_5882c_row1_col4\" class=\"data row1 col4\" >6.275275</td>\n",
       "      <td id=\"T_5882c_row1_col5\" class=\"data row1 col5\" >3.104133</td>\n",
       "      <td id=\"T_5882c_row1_col6\" class=\"data row1 col6\" >3.943392</td>\n",
       "      <td id=\"T_5882c_row1_col7\" class=\"data row1 col7\" >3.220967</td>\n",
       "    </tr>\n",
       "    <tr>\n",
       "      <th id=\"T_5882c_level0_row2\" class=\"row_heading level0 row2\" >min</th>\n",
       "      <td id=\"T_5882c_row2_col0\" class=\"data row2 col0\" >0.187500</td>\n",
       "      <td id=\"T_5882c_row2_col1\" class=\"data row2 col1\" >0.137500</td>\n",
       "      <td id=\"T_5882c_row2_col2\" class=\"data row2 col2\" >0.000000</td>\n",
       "      <td id=\"T_5882c_row2_col3\" class=\"data row2 col3\" >0.056699</td>\n",
       "      <td id=\"T_5882c_row2_col4\" class=\"data row2 col4\" >0.028349</td>\n",
       "      <td id=\"T_5882c_row2_col5\" class=\"data row2 col5\" >0.014175</td>\n",
       "      <td id=\"T_5882c_row2_col6\" class=\"data row2 col6\" >0.042524</td>\n",
       "      <td id=\"T_5882c_row2_col7\" class=\"data row2 col7\" >1.000000</td>\n",
       "    </tr>\n",
       "    <tr>\n",
       "      <th id=\"T_5882c_level0_row3\" class=\"row_heading level0 row3\" >25%</th>\n",
       "      <td id=\"T_5882c_row3_col0\" class=\"data row3 col0\" >1.125000</td>\n",
       "      <td id=\"T_5882c_row3_col1\" class=\"data row3 col1\" >0.875000</td>\n",
       "      <td id=\"T_5882c_row3_col2\" class=\"data row3 col2\" >0.287500</td>\n",
       "      <td id=\"T_5882c_row3_col3\" class=\"data row3 col3\" >12.672227</td>\n",
       "      <td id=\"T_5882c_row3_col4\" class=\"data row3 col4\" >5.343881</td>\n",
       "      <td id=\"T_5882c_row3_col5\" class=\"data row3 col5\" >2.664853</td>\n",
       "      <td id=\"T_5882c_row3_col6\" class=\"data row3 col6\" >3.713785</td>\n",
       "      <td id=\"T_5882c_row3_col7\" class=\"data row3 col7\" >8.000000</td>\n",
       "    </tr>\n",
       "    <tr>\n",
       "      <th id=\"T_5882c_level0_row4\" class=\"row_heading level0 row4\" >50%</th>\n",
       "      <td id=\"T_5882c_row4_col0\" class=\"data row4 col0\" >1.362500</td>\n",
       "      <td id=\"T_5882c_row4_col1\" class=\"data row4 col1\" >1.062500</td>\n",
       "      <td id=\"T_5882c_row4_col2\" class=\"data row4 col2\" >0.362500</td>\n",
       "      <td id=\"T_5882c_row4_col3\" class=\"data row4 col3\" >22.792998</td>\n",
       "      <td id=\"T_5882c_row4_col4\" class=\"data row4 col4\" >9.539607</td>\n",
       "      <td id=\"T_5882c_row4_col5\" class=\"data row4 col5\" >4.861939</td>\n",
       "      <td id=\"T_5882c_row4_col6\" class=\"data row4 col6\" >6.662133</td>\n",
       "      <td id=\"T_5882c_row4_col7\" class=\"data row4 col7\" >10.000000</td>\n",
       "    </tr>\n",
       "    <tr>\n",
       "      <th id=\"T_5882c_level0_row5\" class=\"row_heading level0 row5\" >75%</th>\n",
       "      <td id=\"T_5882c_row5_col0\" class=\"data row5 col0\" >1.537500</td>\n",
       "      <td id=\"T_5882c_row5_col1\" class=\"data row5 col1\" >1.200000</td>\n",
       "      <td id=\"T_5882c_row5_col2\" class=\"data row5 col2\" >0.412500</td>\n",
       "      <td id=\"T_5882c_row5_col3\" class=\"data row5 col3\" >32.786197</td>\n",
       "      <td id=\"T_5882c_row5_col4\" class=\"data row5 col4\" >14.273973</td>\n",
       "      <td id=\"T_5882c_row5_col5\" class=\"data row5 col5\" >7.200773</td>\n",
       "      <td id=\"T_5882c_row5_col6\" class=\"data row5 col6\" >9.355335</td>\n",
       "      <td id=\"T_5882c_row5_col7\" class=\"data row5 col7\" >11.000000</td>\n",
       "    </tr>\n",
       "    <tr>\n",
       "      <th id=\"T_5882c_level0_row6\" class=\"row_heading level0 row6\" >max</th>\n",
       "      <td id=\"T_5882c_row6_col0\" class=\"data row6 col0\" >2.037500</td>\n",
       "      <td id=\"T_5882c_row6_col1\" class=\"data row6 col1\" >1.625000</td>\n",
       "      <td id=\"T_5882c_row6_col2\" class=\"data row6 col2\" >2.825000</td>\n",
       "      <td id=\"T_5882c_row6_col3\" class=\"data row6 col3\" >80.101512</td>\n",
       "      <td id=\"T_5882c_row6_col4\" class=\"data row6 col4\" >42.184056</td>\n",
       "      <td id=\"T_5882c_row6_col5\" class=\"data row6 col5\" >21.545620</td>\n",
       "      <td id=\"T_5882c_row6_col6\" class=\"data row6 col6\" >28.491248</td>\n",
       "      <td id=\"T_5882c_row6_col7\" class=\"data row6 col7\" >29.000000</td>\n",
       "    </tr>\n",
       "  </tbody>\n",
       "</table>\n"
      ],
      "text/plain": [
       "<pandas.io.formats.style.Styler at 0x1e15bebbee0>"
      ]
     },
     "execution_count": 10,
     "metadata": {},
     "output_type": "execute_result"
    }
   ],
   "source": [
    "data.describe()[1:].style.background_gradient()"
   ]
  },
  {
   "cell_type": "code",
   "execution_count": 12,
   "id": "6edef2c6",
   "metadata": {},
   "outputs": [],
   "source": [
    "y = data[\"Age\"]\n",
    "x = data.drop(\"Age\", axis = 1)"
   ]
  },
  {
   "cell_type": "code",
   "execution_count": 13,
   "id": "5af4d0c3",
   "metadata": {},
   "outputs": [],
   "source": [
    "x = pd.get_dummies(x, drop_first = True)"
   ]
  },
  {
   "cell_type": "code",
   "execution_count": 32,
   "id": "83917da9",
   "metadata": {},
   "outputs": [],
   "source": [
    "def regression(x, y):\n",
    "    lr = LinearRegression()\n",
    "    r = Ridge()\n",
    "    l = Lasso()\n",
    "    e = ElasticNet()\n",
    "    #pf = PolynomialFeatures()\n",
    "    sv = SVR(kernel = \"rbf\")   # 'linear', 'poly', 'rbf', 'sigmoid'\n",
    "    dt = DecisionTreeRegressor(criterion = \"squared_error\") # \"squared_error\", \"friedman_mse\", \"absolute_error\"\n",
    "    rf = RandomForestRegressor()\n",
    "    \n",
    "    models = [lr, r, l, e, sv, dt, rf]\n",
    "    model_names = [\"Linear_Regression\", \"Ridge\", \"Lasso\", \"ElasticNet\", \n",
    "                   \"Support_Vector\", \"Decision_Tree\", \"Random_Forest\"]\n",
    "    r2 = []\n",
    "    mse = []\n",
    "    result_df = pd.DataFrame(columns = [\"R2_Score\", \"Mean_Squared_Error\"], index = model_names)\n",
    "    \n",
    "    x_train, x_test, y_train, y_true = train_test_split(x, y, test_size = 0.2, random_state = 42)\n",
    "    scale1 = StandardScaler()\n",
    "    scale2 = MinMaxScaler()\n",
    "    x_train = scale1.fit_transform(x_train)\n",
    "    x_test = scale1.fit_transform(x_test)\n",
    "    # x_train = scale2.fit_transform(x_train)\n",
    "    # x_test = scale2.fit_transform(x_test)\n",
    "    \n",
    "    for model in models:\n",
    "        model.fit(x_train, y_train)\n",
    "        y_pred = model.predict(x_test)\n",
    "        r2.append(r2_score(y_true, y_pred) * 100)\n",
    "        mse.append(mean_squared_error(y_true, y_pred) ** 0.5)\n",
    "        \n",
    "    result_df[\"R2_Score\"] = r2\n",
    "    result_df[\"Mean_Squared_Error\"] = mse\n",
    "    \n",
    "    return result_df.sort_values(\"R2_Score\", ascending = False)    "
   ]
  },
  {
   "cell_type": "code",
   "execution_count": 33,
   "id": "edd1f083",
   "metadata": {},
   "outputs": [
    {
     "data": {
      "text/html": [
       "<div>\n",
       "<style scoped>\n",
       "    .dataframe tbody tr th:only-of-type {\n",
       "        vertical-align: middle;\n",
       "    }\n",
       "\n",
       "    .dataframe tbody tr th {\n",
       "        vertical-align: top;\n",
       "    }\n",
       "\n",
       "    .dataframe thead th {\n",
       "        text-align: right;\n",
       "    }\n",
       "</style>\n",
       "<table border=\"1\" class=\"dataframe\">\n",
       "  <thead>\n",
       "    <tr style=\"text-align: right;\">\n",
       "      <th></th>\n",
       "      <th>R2_Score</th>\n",
       "      <th>Mean_Squared_Error</th>\n",
       "    </tr>\n",
       "  </thead>\n",
       "  <tbody>\n",
       "    <tr>\n",
       "      <th>Support_Vector</th>\n",
       "      <td>53.002211</td>\n",
       "      <td>2.125143</td>\n",
       "    </tr>\n",
       "    <tr>\n",
       "      <th>Linear_Regression</th>\n",
       "      <td>51.169352</td>\n",
       "      <td>2.166186</td>\n",
       "    </tr>\n",
       "    <tr>\n",
       "      <th>Ridge</th>\n",
       "      <td>51.077628</td>\n",
       "      <td>2.168219</td>\n",
       "    </tr>\n",
       "    <tr>\n",
       "      <th>Random_Forest</th>\n",
       "      <td>50.737265</td>\n",
       "      <td>2.175749</td>\n",
       "    </tr>\n",
       "    <tr>\n",
       "      <th>ElasticNet</th>\n",
       "      <td>33.030842</td>\n",
       "      <td>2.536804</td>\n",
       "    </tr>\n",
       "    <tr>\n",
       "      <th>Lasso</th>\n",
       "      <td>28.542002</td>\n",
       "      <td>2.620444</td>\n",
       "    </tr>\n",
       "    <tr>\n",
       "      <th>Decision_Tree</th>\n",
       "      <td>7.050297</td>\n",
       "      <td>2.988639</td>\n",
       "    </tr>\n",
       "  </tbody>\n",
       "</table>\n",
       "</div>"
      ],
      "text/plain": [
       "                    R2_Score  Mean_Squared_Error\n",
       "Support_Vector     53.002211            2.125143\n",
       "Linear_Regression  51.169352            2.166186\n",
       "Ridge              51.077628            2.168219\n",
       "Random_Forest      50.737265            2.175749\n",
       "ElasticNet         33.030842            2.536804\n",
       "Lasso              28.542002            2.620444\n",
       "Decision_Tree       7.050297            2.988639"
      ]
     },
     "execution_count": 33,
     "metadata": {},
     "output_type": "execute_result"
    }
   ],
   "source": [
    "regression(x, y)"
   ]
  },
  {
   "cell_type": "markdown",
   "id": "e423439a",
   "metadata": {},
   "source": [
    "## Outlier"
   ]
  },
  {
   "cell_type": "code",
   "execution_count": 34,
   "id": "5d2162ff",
   "metadata": {},
   "outputs": [
    {
     "data": {
      "image/png": "[encoded data removed]",
      "text/plain": [
       "<Figure size 360x360 with 1 Axes>"
      ]
     },
     "metadata": {
      "needs_background": "light"
     },
     "output_type": "display_data"
    }
   ],
   "source": [
    "sbn.displot(data[\"Shell Weight\"]);"
   ]
  },
  {
   "cell_type": "code",
   "execution_count": 35,
   "id": "dca6f3fa",
   "metadata": {},
   "outputs": [
    {
     "data": {
      "image/png": "[encoded data removed]",
      "text/plain": [
       "<Figure size 432x288 with 1 Axes>"
      ]
     },
     "metadata": {
      "needs_background": "light"
     },
     "output_type": "display_data"
    }
   ],
   "source": [
    "sbn.distplot(data[\"Shell Weight\"]);"
   ]
  },
  {
   "cell_type": "code",
   "execution_count": 36,
   "id": "8ba0280d",
   "metadata": {},
   "outputs": [
    {
     "data": {
      "image/png": "[encoded data removed]",
      "text/plain": [
       "<Figure size 432x288 with 1 Axes>"
      ]
     },
     "metadata": {
      "needs_background": "light"
     },
     "output_type": "display_data"
    }
   ],
   "source": [
    "sbn.countplot(data[\"Shell Weight\"]);"
   ]
  },
  {
   "cell_type": "code",
   "execution_count": 37,
   "id": "9819f455",
   "metadata": {},
   "outputs": [
    {
     "data": {
      "image/png": "[encoded data removed]",
      "text/plain": [
       "<Figure size 432x288 with 1 Axes>"
      ]
     },
     "metadata": {
      "needs_background": "light"
     },
     "output_type": "display_data"
    }
   ],
   "source": [
    "sbn.scatterplot(x = \"Shell Weight\", y = \"Age\", data = data);"
   ]
  },
  {
   "cell_type": "code",
   "execution_count": 38,
   "id": "5a7298c3",
   "metadata": {},
   "outputs": [
    {
     "data": {
      "image/png": "[encoded data removed]",
      "text/plain": [
       "<Figure size 432x288 with 2 Axes>"
      ]
     },
     "metadata": {
      "needs_background": "light"
     },
     "output_type": "display_data"
    }
   ],
   "source": [
    "sbn.heatmap(data.corr(), annot = True);"
   ]
  },
  {
   "cell_type": "code",
   "execution_count": 39,
   "id": "0da4c8bf",
   "metadata": {},
   "outputs": [
    {
     "data": {
      "image/png": "[encoded data removed]",
      "text/plain": [
       "<Figure size 504x504 with 1 Axes>"
      ]
     },
     "metadata": {
      "needs_background": "light"
     },
     "output_type": "display_data"
    }
   ],
   "source": [
    "plt.figure(figsize = (7, 7))\n",
    "ax = sbn.countplot(x = data[\"Age\"])\n",
    "ax.bar_label(ax.containers[0]);"
   ]
  },
  {
   "cell_type": "code",
   "execution_count": 40,
   "id": "08bf00aa",
   "metadata": {},
   "outputs": [],
   "source": [
    "Q1 = data[\"Shell Weight\"].quantile(0.25)\n",
    "Q3 = data[\"Shell Weight\"].quantile(0.75)\n",
    "IQR = Q3- Q1\n",
    "upper_limit = Q3 + 1.5 * IQR\n",
    "lower_limit = Q1 - 1.5 * IQR\n",
    "data = data[(data[\"Shell Weight\"] > lower_limit) | (data[\"Shell Weight\"] < upper_limit)]"
   ]
  },
  {
   "cell_type": "code",
   "execution_count": 41,
   "id": "7c12c313",
   "metadata": {},
   "outputs": [
    {
     "data": {
      "image/png": "[encoded data removed]",
      "text/plain": [
       "<Figure size 432x288 with 1 Axes>"
      ]
     },
     "metadata": {
      "needs_background": "light"
     },
     "output_type": "display_data"
    }
   ],
   "source": [
    "sbn.distplot(data[\"Shell Weight\"]);"
   ]
  },
  {
   "cell_type": "markdown",
   "id": "f38f3115",
   "metadata": {},
   "source": [
    "## Shell Weight kolonundan outlier'i atinca r2_score az arttı."
   ]
  },
  {
   "cell_type": "code",
   "execution_count": 49,
   "id": "b0776a7b",
   "metadata": {},
   "outputs": [
    {
     "data": {
      "text/html": [
       "<div>\n",
       "<style scoped>\n",
       "    .dataframe tbody tr th:only-of-type {\n",
       "        vertical-align: middle;\n",
       "    }\n",
       "\n",
       "    .dataframe tbody tr th {\n",
       "        vertical-align: top;\n",
       "    }\n",
       "\n",
       "    .dataframe thead th {\n",
       "        text-align: right;\n",
       "    }\n",
       "</style>\n",
       "<table border=\"1\" class=\"dataframe\">\n",
       "  <thead>\n",
       "    <tr style=\"text-align: right;\">\n",
       "      <th></th>\n",
       "      <th>R2_Score</th>\n",
       "      <th>Mean_Squared_Error</th>\n",
       "    </tr>\n",
       "  </thead>\n",
       "  <tbody>\n",
       "    <tr>\n",
       "      <th>Support_Vector</th>\n",
       "      <td>53.002211</td>\n",
       "      <td>2.125143</td>\n",
       "    </tr>\n",
       "    <tr>\n",
       "      <th>Linear_Regression</th>\n",
       "      <td>51.169352</td>\n",
       "      <td>2.166186</td>\n",
       "    </tr>\n",
       "    <tr>\n",
       "      <th>Ridge</th>\n",
       "      <td>51.077628</td>\n",
       "      <td>2.168219</td>\n",
       "    </tr>\n",
       "    <tr>\n",
       "      <th>Random_Forest</th>\n",
       "      <td>50.773694</td>\n",
       "      <td>2.174944</td>\n",
       "    </tr>\n",
       "    <tr>\n",
       "      <th>ElasticNet</th>\n",
       "      <td>33.030842</td>\n",
       "      <td>2.536804</td>\n",
       "    </tr>\n",
       "    <tr>\n",
       "      <th>Lasso</th>\n",
       "      <td>28.542002</td>\n",
       "      <td>2.620444</td>\n",
       "    </tr>\n",
       "    <tr>\n",
       "      <th>Decision_Tree</th>\n",
       "      <td>11.431944</td>\n",
       "      <td>2.917347</td>\n",
       "    </tr>\n",
       "  </tbody>\n",
       "</table>\n",
       "</div>"
      ],
      "text/plain": [
       "                    R2_Score  Mean_Squared_Error\n",
       "Support_Vector     53.002211            2.125143\n",
       "Linear_Regression  51.169352            2.166186\n",
       "Ridge              51.077628            2.168219\n",
       "Random_Forest      50.773694            2.174944\n",
       "ElasticNet         33.030842            2.536804\n",
       "Lasso              28.542002            2.620444\n",
       "Decision_Tree      11.431944            2.917347"
      ]
     },
     "execution_count": 49,
     "metadata": {},
     "output_type": "execute_result"
    }
   ],
   "source": [
    "y1 = data[\"Age\"]\n",
    "x1 = data.drop(\"Age\", axis = 1)\n",
    "x1 = pd.get_dummies(x1, drop_first = True)\n",
    "regression(x1, y1)"
   ]
  },
  {
   "cell_type": "markdown",
   "id": "cf1135fb",
   "metadata": {},
   "source": [
    "## Length column'dan outlier'i atip sonuçları karşılaştıralım."
   ]
  },
  {
   "cell_type": "code",
   "execution_count": 50,
   "id": "10d522a5",
   "metadata": {},
   "outputs": [
    {
     "data": {
      "text/plain": [
       "Length            0.554973\n",
       "Diameter          0.573844\n",
       "Height            0.551956\n",
       "Weight            0.538819\n",
       "Shucked Weight    0.418760\n",
       "Viscera Weight    0.501328\n",
       "Shell Weight      0.625195\n",
       "Age               1.000000\n",
       "Name: Age, dtype: float64"
      ]
     },
     "execution_count": 50,
     "metadata": {},
     "output_type": "execute_result"
    }
   ],
   "source": [
    "data.corr()[\"Age\"]"
   ]
  },
  {
   "cell_type": "code",
   "execution_count": 51,
   "id": "560da43c",
   "metadata": {},
   "outputs": [],
   "source": [
    "Q1 = data[\"Length\"].quantile(0.25)\n",
    "Q3 = data[\"Length\"].quantile(0.75)\n",
    "IQR = Q3 - Q1\n",
    "upper_limit = Q3 + 1.5 * IQR\n",
    "lower_limit = Q1 - 1.5 * IQR\n",
    "data = data[(data[\"Length\"] > lower_limit) | (data[\"Length\"] < upper_limit)]"
   ]
  },
  {
   "cell_type": "code",
   "execution_count": 52,
   "id": "1d726794",
   "metadata": {},
   "outputs": [
    {
     "data": {
      "text/html": [
       "<div>\n",
       "<style scoped>\n",
       "    .dataframe tbody tr th:only-of-type {\n",
       "        vertical-align: middle;\n",
       "    }\n",
       "\n",
       "    .dataframe tbody tr th {\n",
       "        vertical-align: top;\n",
       "    }\n",
       "\n",
       "    .dataframe thead th {\n",
       "        text-align: right;\n",
       "    }\n",
       "</style>\n",
       "<table border=\"1\" class=\"dataframe\">\n",
       "  <thead>\n",
       "    <tr style=\"text-align: right;\">\n",
       "      <th></th>\n",
       "      <th>R2_Score</th>\n",
       "      <th>Mean_Squared_Error</th>\n",
       "    </tr>\n",
       "  </thead>\n",
       "  <tbody>\n",
       "    <tr>\n",
       "      <th>Support_Vector</th>\n",
       "      <td>53.002211</td>\n",
       "      <td>2.125143</td>\n",
       "    </tr>\n",
       "    <tr>\n",
       "      <th>Linear_Regression</th>\n",
       "      <td>51.169352</td>\n",
       "      <td>2.166186</td>\n",
       "    </tr>\n",
       "    <tr>\n",
       "      <th>Ridge</th>\n",
       "      <td>51.077628</td>\n",
       "      <td>2.168219</td>\n",
       "    </tr>\n",
       "    <tr>\n",
       "      <th>Random_Forest</th>\n",
       "      <td>50.537250</td>\n",
       "      <td>2.180161</td>\n",
       "    </tr>\n",
       "    <tr>\n",
       "      <th>ElasticNet</th>\n",
       "      <td>33.030842</td>\n",
       "      <td>2.536804</td>\n",
       "    </tr>\n",
       "    <tr>\n",
       "      <th>Lasso</th>\n",
       "      <td>28.542002</td>\n",
       "      <td>2.620444</td>\n",
       "    </tr>\n",
       "    <tr>\n",
       "      <th>Decision_Tree</th>\n",
       "      <td>10.817445</td>\n",
       "      <td>2.927450</td>\n",
       "    </tr>\n",
       "  </tbody>\n",
       "</table>\n",
       "</div>"
      ],
      "text/plain": [
       "                    R2_Score  Mean_Squared_Error\n",
       "Support_Vector     53.002211            2.125143\n",
       "Linear_Regression  51.169352            2.166186\n",
       "Ridge              51.077628            2.168219\n",
       "Random_Forest      50.537250            2.180161\n",
       "ElasticNet         33.030842            2.536804\n",
       "Lasso              28.542002            2.620444\n",
       "Decision_Tree      10.817445            2.927450"
      ]
     },
     "execution_count": 52,
     "metadata": {},
     "output_type": "execute_result"
    }
   ],
   "source": [
    "y2 = data[\"Age\"]\n",
    "x2 = data.drop(\"Age\", axis = 1)\n",
    "x2 = pd.get_dummies(x2, drop_first = True)\n",
    "regression(x2, y2)"
   ]
  }
 ],
 "metadata": {
  "kernelspec": {
   "display_name": "Python 3 (ipykernel)",
   "language": "python",
   "name": "python3"
  },
  "language_info": {
   "codemirror_mode": {
    "name": "ipython",
    "version": 3
   },
   "file_extension": ".py",
   "mimetype": "text/x-python",
   "name": "python",
   "nbconvert_exporter": "python",
   "pygments_lexer": "ipython3",
   "version": "3.9.12"
  }
 },
 "nbformat": 4,
 "nbformat_minor": 5
}
