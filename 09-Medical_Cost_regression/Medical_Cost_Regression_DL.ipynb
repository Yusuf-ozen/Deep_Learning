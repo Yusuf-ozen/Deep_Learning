{
 "cells": [
  {
   "cell_type": "code",
   "execution_count": 63,
   "id": "027ecf60",
   "metadata": {},
   "outputs": [],
   "source": [
    "import pandas as pd\n",
    "import seaborn as sbn\n",
    "import warnings\n",
    "warnings.filterwarnings('ignore')\n",
    "from tensorflow.keras.models import Sequential\n",
    "from tensorflow.keras.layers import Dense\n",
    "from sklearn.model_selection import train_test_split\n",
    "from sklearn.metrics import r2_score, mean_squared_error\n",
    "import matplotlib.pyplot as plt"
   ]
  },
  {
   "cell_type": "code",
   "execution_count": 2,
   "id": "cdc4c048",
   "metadata": {},
   "outputs": [],
   "source": [
    "data = pd.read_csv(\"insurance.csv\")"
   ]
  },
  {
   "cell_type": "code",
   "execution_count": 3,
   "id": "1db4b13e",
   "metadata": {},
   "outputs": [
    {
     "data": {
      "text/html": [
       "<div>\n",
       "<style scoped>\n",
       "    .dataframe tbody tr th:only-of-type {\n",
       "        vertical-align: middle;\n",
       "    }\n",
       "\n",
       "    .dataframe tbody tr th {\n",
       "        vertical-align: top;\n",
       "    }\n",
       "\n",
       "    .dataframe thead th {\n",
       "        text-align: right;\n",
       "    }\n",
       "</style>\n",
       "<table border=\"1\" class=\"dataframe\">\n",
       "  <thead>\n",
       "    <tr style=\"text-align: right;\">\n",
       "      <th></th>\n",
       "      <th>age</th>\n",
       "      <th>sex</th>\n",
       "      <th>bmi</th>\n",
       "      <th>children</th>\n",
       "      <th>smoker</th>\n",
       "      <th>region</th>\n",
       "      <th>charges</th>\n",
       "    </tr>\n",
       "  </thead>\n",
       "  <tbody>\n",
       "    <tr>\n",
       "      <th>0</th>\n",
       "      <td>19</td>\n",
       "      <td>female</td>\n",
       "      <td>27.900</td>\n",
       "      <td>0</td>\n",
       "      <td>yes</td>\n",
       "      <td>southwest</td>\n",
       "      <td>16884.92400</td>\n",
       "    </tr>\n",
       "    <tr>\n",
       "      <th>1</th>\n",
       "      <td>18</td>\n",
       "      <td>male</td>\n",
       "      <td>33.770</td>\n",
       "      <td>1</td>\n",
       "      <td>no</td>\n",
       "      <td>southeast</td>\n",
       "      <td>1725.55230</td>\n",
       "    </tr>\n",
       "    <tr>\n",
       "      <th>2</th>\n",
       "      <td>28</td>\n",
       "      <td>male</td>\n",
       "      <td>33.000</td>\n",
       "      <td>3</td>\n",
       "      <td>no</td>\n",
       "      <td>southeast</td>\n",
       "      <td>4449.46200</td>\n",
       "    </tr>\n",
       "    <tr>\n",
       "      <th>3</th>\n",
       "      <td>33</td>\n",
       "      <td>male</td>\n",
       "      <td>22.705</td>\n",
       "      <td>0</td>\n",
       "      <td>no</td>\n",
       "      <td>northwest</td>\n",
       "      <td>21984.47061</td>\n",
       "    </tr>\n",
       "    <tr>\n",
       "      <th>4</th>\n",
       "      <td>32</td>\n",
       "      <td>male</td>\n",
       "      <td>28.880</td>\n",
       "      <td>0</td>\n",
       "      <td>no</td>\n",
       "      <td>northwest</td>\n",
       "      <td>3866.85520</td>\n",
       "    </tr>\n",
       "  </tbody>\n",
       "</table>\n",
       "</div>"
      ],
      "text/plain": [
       "   age     sex     bmi  children smoker     region      charges\n",
       "0   19  female  27.900         0    yes  southwest  16884.92400\n",
       "1   18    male  33.770         1     no  southeast   1725.55230\n",
       "2   28    male  33.000         3     no  southeast   4449.46200\n",
       "3   33    male  22.705         0     no  northwest  21984.47061\n",
       "4   32    male  28.880         0     no  northwest   3866.85520"
      ]
     },
     "execution_count": 3,
     "metadata": {},
     "output_type": "execute_result"
    }
   ],
   "source": [
    "data.head()"
   ]
  },
  {
   "cell_type": "code",
   "execution_count": 4,
   "id": "f0acdda4",
   "metadata": {},
   "outputs": [
    {
     "name": "stdout",
     "output_type": "stream",
     "text": [
      "<class 'pandas.core.frame.DataFrame'>\n",
      "RangeIndex: 1338 entries, 0 to 1337\n",
      "Data columns (total 7 columns):\n",
      " #   Column    Non-Null Count  Dtype  \n",
      "---  ------    --------------  -----  \n",
      " 0   age       1338 non-null   int64  \n",
      " 1   sex       1338 non-null   object \n",
      " 2   bmi       1338 non-null   float64\n",
      " 3   children  1338 non-null   int64  \n",
      " 4   smoker    1338 non-null   object \n",
      " 5   region    1338 non-null   object \n",
      " 6   charges   1338 non-null   float64\n",
      "dtypes: float64(2), int64(2), object(3)\n",
      "memory usage: 73.3+ KB\n"
     ]
    }
   ],
   "source": [
    "data.info()"
   ]
  },
  {
   "cell_type": "code",
   "execution_count": 5,
   "id": "6beebcc9",
   "metadata": {},
   "outputs": [
    {
     "data": {
      "text/plain": [
       "age         0\n",
       "sex         0\n",
       "bmi         0\n",
       "children    0\n",
       "smoker      0\n",
       "region      0\n",
       "charges     0\n",
       "dtype: int64"
      ]
     },
     "execution_count": 5,
     "metadata": {},
     "output_type": "execute_result"
    }
   ],
   "source": [
    "data.isnull().sum()"
   ]
  },
  {
   "cell_type": "code",
   "execution_count": 6,
   "id": "a8092471",
   "metadata": {},
   "outputs": [],
   "source": [
    "d = {\"yes\" : 1, \"no\" : 0}\n",
    "data.smoker = data.smoker.map(d)"
   ]
  },
  {
   "cell_type": "code",
   "execution_count": 7,
   "id": "4f84086a",
   "metadata": {},
   "outputs": [
    {
     "data": {
      "text/html": [
       "<div>\n",
       "<style scoped>\n",
       "    .dataframe tbody tr th:only-of-type {\n",
       "        vertical-align: middle;\n",
       "    }\n",
       "\n",
       "    .dataframe tbody tr th {\n",
       "        vertical-align: top;\n",
       "    }\n",
       "\n",
       "    .dataframe thead th {\n",
       "        text-align: right;\n",
       "    }\n",
       "</style>\n",
       "<table border=\"1\" class=\"dataframe\">\n",
       "  <thead>\n",
       "    <tr style=\"text-align: right;\">\n",
       "      <th></th>\n",
       "      <th>age</th>\n",
       "      <th>sex</th>\n",
       "      <th>bmi</th>\n",
       "      <th>children</th>\n",
       "      <th>smoker</th>\n",
       "      <th>region</th>\n",
       "      <th>charges</th>\n",
       "    </tr>\n",
       "  </thead>\n",
       "  <tbody>\n",
       "    <tr>\n",
       "      <th>0</th>\n",
       "      <td>19</td>\n",
       "      <td>female</td>\n",
       "      <td>27.900</td>\n",
       "      <td>0</td>\n",
       "      <td>1</td>\n",
       "      <td>southwest</td>\n",
       "      <td>16884.92400</td>\n",
       "    </tr>\n",
       "    <tr>\n",
       "      <th>1</th>\n",
       "      <td>18</td>\n",
       "      <td>male</td>\n",
       "      <td>33.770</td>\n",
       "      <td>1</td>\n",
       "      <td>0</td>\n",
       "      <td>southeast</td>\n",
       "      <td>1725.55230</td>\n",
       "    </tr>\n",
       "    <tr>\n",
       "      <th>2</th>\n",
       "      <td>28</td>\n",
       "      <td>male</td>\n",
       "      <td>33.000</td>\n",
       "      <td>3</td>\n",
       "      <td>0</td>\n",
       "      <td>southeast</td>\n",
       "      <td>4449.46200</td>\n",
       "    </tr>\n",
       "    <tr>\n",
       "      <th>3</th>\n",
       "      <td>33</td>\n",
       "      <td>male</td>\n",
       "      <td>22.705</td>\n",
       "      <td>0</td>\n",
       "      <td>0</td>\n",
       "      <td>northwest</td>\n",
       "      <td>21984.47061</td>\n",
       "    </tr>\n",
       "    <tr>\n",
       "      <th>4</th>\n",
       "      <td>32</td>\n",
       "      <td>male</td>\n",
       "      <td>28.880</td>\n",
       "      <td>0</td>\n",
       "      <td>0</td>\n",
       "      <td>northwest</td>\n",
       "      <td>3866.85520</td>\n",
       "    </tr>\n",
       "  </tbody>\n",
       "</table>\n",
       "</div>"
      ],
      "text/plain": [
       "   age     sex     bmi  children  smoker     region      charges\n",
       "0   19  female  27.900         0       1  southwest  16884.92400\n",
       "1   18    male  33.770         1       0  southeast   1725.55230\n",
       "2   28    male  33.000         3       0  southeast   4449.46200\n",
       "3   33    male  22.705         0       0  northwest  21984.47061\n",
       "4   32    male  28.880         0       0  northwest   3866.85520"
      ]
     },
     "execution_count": 7,
     "metadata": {},
     "output_type": "execute_result"
    }
   ],
   "source": [
    "data.head()"
   ]
  },
  {
   "cell_type": "code",
   "execution_count": 8,
   "id": "34f227e0",
   "metadata": {},
   "outputs": [],
   "source": [
    "data = pd.get_dummies(data, drop_first = True)"
   ]
  },
  {
   "cell_type": "code",
   "execution_count": 9,
   "id": "173d7216",
   "metadata": {},
   "outputs": [
    {
     "data": {
      "text/html": [
       "<div>\n",
       "<style scoped>\n",
       "    .dataframe tbody tr th:only-of-type {\n",
       "        vertical-align: middle;\n",
       "    }\n",
       "\n",
       "    .dataframe tbody tr th {\n",
       "        vertical-align: top;\n",
       "    }\n",
       "\n",
       "    .dataframe thead th {\n",
       "        text-align: right;\n",
       "    }\n",
       "</style>\n",
       "<table border=\"1\" class=\"dataframe\">\n",
       "  <thead>\n",
       "    <tr style=\"text-align: right;\">\n",
       "      <th></th>\n",
       "      <th>age</th>\n",
       "      <th>bmi</th>\n",
       "      <th>children</th>\n",
       "      <th>smoker</th>\n",
       "      <th>charges</th>\n",
       "      <th>sex_male</th>\n",
       "      <th>region_northwest</th>\n",
       "      <th>region_southeast</th>\n",
       "      <th>region_southwest</th>\n",
       "    </tr>\n",
       "  </thead>\n",
       "  <tbody>\n",
       "    <tr>\n",
       "      <th>0</th>\n",
       "      <td>19</td>\n",
       "      <td>27.900</td>\n",
       "      <td>0</td>\n",
       "      <td>1</td>\n",
       "      <td>16884.92400</td>\n",
       "      <td>0</td>\n",
       "      <td>0</td>\n",
       "      <td>0</td>\n",
       "      <td>1</td>\n",
       "    </tr>\n",
       "    <tr>\n",
       "      <th>1</th>\n",
       "      <td>18</td>\n",
       "      <td>33.770</td>\n",
       "      <td>1</td>\n",
       "      <td>0</td>\n",
       "      <td>1725.55230</td>\n",
       "      <td>1</td>\n",
       "      <td>0</td>\n",
       "      <td>1</td>\n",
       "      <td>0</td>\n",
       "    </tr>\n",
       "    <tr>\n",
       "      <th>2</th>\n",
       "      <td>28</td>\n",
       "      <td>33.000</td>\n",
       "      <td>3</td>\n",
       "      <td>0</td>\n",
       "      <td>4449.46200</td>\n",
       "      <td>1</td>\n",
       "      <td>0</td>\n",
       "      <td>1</td>\n",
       "      <td>0</td>\n",
       "    </tr>\n",
       "    <tr>\n",
       "      <th>3</th>\n",
       "      <td>33</td>\n",
       "      <td>22.705</td>\n",
       "      <td>0</td>\n",
       "      <td>0</td>\n",
       "      <td>21984.47061</td>\n",
       "      <td>1</td>\n",
       "      <td>1</td>\n",
       "      <td>0</td>\n",
       "      <td>0</td>\n",
       "    </tr>\n",
       "    <tr>\n",
       "      <th>4</th>\n",
       "      <td>32</td>\n",
       "      <td>28.880</td>\n",
       "      <td>0</td>\n",
       "      <td>0</td>\n",
       "      <td>3866.85520</td>\n",
       "      <td>1</td>\n",
       "      <td>1</td>\n",
       "      <td>0</td>\n",
       "      <td>0</td>\n",
       "    </tr>\n",
       "  </tbody>\n",
       "</table>\n",
       "</div>"
      ],
      "text/plain": [
       "   age     bmi  children  smoker      charges  sex_male  region_northwest  region_southeast  region_southwest\n",
       "0   19  27.900         0       1  16884.92400         0                 0                 0                 1\n",
       "1   18  33.770         1       0   1725.55230         1                 0                 1                 0\n",
       "2   28  33.000         3       0   4449.46200         1                 0                 1                 0\n",
       "3   33  22.705         0       0  21984.47061         1                 1                 0                 0\n",
       "4   32  28.880         0       0   3866.85520         1                 1                 0                 0"
      ]
     },
     "execution_count": 9,
     "metadata": {},
     "output_type": "execute_result"
    }
   ],
   "source": [
    "data.head()"
   ]
  },
  {
   "cell_type": "code",
   "execution_count": 10,
   "id": "0c17bb8b",
   "metadata": {},
   "outputs": [
    {
     "data": {
      "text/plain": [
       "(1338, 9)"
      ]
     },
     "execution_count": 10,
     "metadata": {},
     "output_type": "execute_result"
    }
   ],
   "source": [
    "data.shape"
   ]
  },
  {
   "cell_type": "code",
   "execution_count": 11,
   "id": "03340ad6",
   "metadata": {},
   "outputs": [],
   "source": [
    "y = data[\"charges\"]\n",
    "x = data.drop(\"charges\", axis = 1)"
   ]
  },
  {
   "cell_type": "code",
   "execution_count": 15,
   "id": "3dd01217",
   "metadata": {},
   "outputs": [],
   "source": [
    "x_train, x_test, y_train, y_true = train_test_split(x, y, test_size = 0.2, random_state = 42)"
   ]
  },
  {
   "cell_type": "code",
   "execution_count": 65,
   "id": "3fc79aba",
   "metadata": {},
   "outputs": [],
   "source": [
    "model = Sequential()\n",
    "model.add(Dense(units = 9, activation = 'relu'))\n",
    "model.add(Dense(units = 15, activation = 'relu'))\n",
    "model.add(Dense(units = 150, activation = 'relu'))\n",
    "model.add(Dense(units = 150, activation = 'relu'))\n",
    "\n",
    "model.add(Dense(units = 150, activation = 'relu'))\n",
    "\n",
    "model.add(Dense(units = 50, activation = 'relu'))\n",
    "model.add(Dense(units = 30, activation = 'relu'))\n",
    "model.add(Dense(units = 10, activation = 'relu'))\n",
    "model.add(Dense(units = 1, activation = 'linear'))\n",
    "model.compile(optimizer = 'adam', loss = 'mse')"
   ]
  },
  {
   "cell_type": "code",
   "execution_count": 66,
   "id": "903690f0",
   "metadata": {},
   "outputs": [
    {
     "name": "stdout",
     "output_type": "stream",
     "text": [
      "Epoch 1/100\n",
      "34/34 [==============================] - 1s 5ms/step - loss: 321787232.0000 - val_loss: 318723648.0000\n",
      "Epoch 2/100\n",
      "34/34 [==============================] - 0s 2ms/step - loss: 246403104.0000 - val_loss: 149424512.0000\n",
      "Epoch 3/100\n",
      "34/34 [==============================] - 0s 2ms/step - loss: 135300656.0000 - val_loss: 135236992.0000\n",
      "Epoch 4/100\n",
      "34/34 [==============================] - 0s 2ms/step - loss: 130617904.0000 - val_loss: 135379104.0000\n",
      "Epoch 5/100\n",
      "34/34 [==============================] - 0s 2ms/step - loss: 130562904.0000 - val_loss: 135125760.0000\n",
      "Epoch 6/100\n",
      "34/34 [==============================] - 0s 2ms/step - loss: 131514600.0000 - val_loss: 136883952.0000\n",
      "Epoch 7/100\n",
      "34/34 [==============================] - 0s 2ms/step - loss: 131432232.0000 - val_loss: 135437680.0000\n",
      "Epoch 8/100\n",
      "34/34 [==============================] - 0s 2ms/step - loss: 129072512.0000 - val_loss: 133624712.0000\n",
      "Epoch 9/100\n",
      "34/34 [==============================] - 0s 2ms/step - loss: 129138304.0000 - val_loss: 134108528.0000\n",
      "Epoch 10/100\n",
      "34/34 [==============================] - 0s 2ms/step - loss: 128978320.0000 - val_loss: 133207360.0000\n",
      "Epoch 11/100\n",
      "34/34 [==============================] - 0s 2ms/step - loss: 128990240.0000 - val_loss: 131825848.0000\n",
      "Epoch 12/100\n",
      "34/34 [==============================] - 0s 2ms/step - loss: 129009928.0000 - val_loss: 131294512.0000\n",
      "Epoch 13/100\n",
      "34/34 [==============================] - 0s 2ms/step - loss: 127457072.0000 - val_loss: 132070816.0000\n",
      "Epoch 14/100\n",
      "34/34 [==============================] - 0s 2ms/step - loss: 128167496.0000 - val_loss: 131920144.0000\n",
      "Epoch 15/100\n",
      "34/34 [==============================] - 0s 2ms/step - loss: 126333376.0000 - val_loss: 129403352.0000\n",
      "Epoch 16/100\n",
      "34/34 [==============================] - 0s 2ms/step - loss: 124893192.0000 - val_loss: 129574496.0000\n",
      "Epoch 17/100\n",
      "34/34 [==============================] - 0s 2ms/step - loss: 124759432.0000 - val_loss: 126804064.0000\n",
      "Epoch 18/100\n",
      "34/34 [==============================] - 0s 2ms/step - loss: 122015184.0000 - val_loss: 130244008.0000\n",
      "Epoch 19/100\n",
      "34/34 [==============================] - 0s 2ms/step - loss: 123443632.0000 - val_loss: 125546400.0000\n",
      "Epoch 20/100\n",
      "34/34 [==============================] - 0s 2ms/step - loss: 118310840.0000 - val_loss: 120455144.0000\n",
      "Epoch 21/100\n",
      "34/34 [==============================] - 0s 2ms/step - loss: 116458056.0000 - val_loss: 119102424.0000\n",
      "Epoch 22/100\n",
      "34/34 [==============================] - 0s 2ms/step - loss: 111670488.0000 - val_loss: 111428928.0000\n",
      "Epoch 23/100\n",
      "34/34 [==============================] - 0s 2ms/step - loss: 107538488.0000 - val_loss: 105475232.0000\n",
      "Epoch 24/100\n",
      "34/34 [==============================] - 0s 2ms/step - loss: 95246512.0000 - val_loss: 87708248.0000\n",
      "Epoch 25/100\n",
      "34/34 [==============================] - 0s 2ms/step - loss: 79929216.0000 - val_loss: 78774912.0000\n",
      "Epoch 26/100\n",
      "34/34 [==============================] - 0s 2ms/step - loss: 70054840.0000 - val_loss: 57289816.0000\n",
      "Epoch 27/100\n",
      "34/34 [==============================] - 0s 2ms/step - loss: 56810548.0000 - val_loss: 42582284.0000\n",
      "Epoch 28/100\n",
      "34/34 [==============================] - 0s 2ms/step - loss: 48345532.0000 - val_loss: 40168492.0000\n",
      "Epoch 29/100\n",
      "34/34 [==============================] - 0s 2ms/step - loss: 48330712.0000 - val_loss: 39483484.0000\n",
      "Epoch 30/100\n",
      "34/34 [==============================] - 0s 2ms/step - loss: 42888548.0000 - val_loss: 35397668.0000\n",
      "Epoch 31/100\n",
      "34/34 [==============================] - 0s 2ms/step - loss: 41647420.0000 - val_loss: 39504204.0000\n",
      "Epoch 32/100\n",
      "34/34 [==============================] - 0s 2ms/step - loss: 42725684.0000 - val_loss: 38980516.0000\n",
      "Epoch 33/100\n",
      "34/34 [==============================] - 0s 2ms/step - loss: 40819108.0000 - val_loss: 34288936.0000\n",
      "Epoch 34/100\n",
      "34/34 [==============================] - 0s 2ms/step - loss: 39747524.0000 - val_loss: 34821540.0000\n",
      "Epoch 35/100\n",
      "34/34 [==============================] - 0s 2ms/step - loss: 40249908.0000 - val_loss: 34715872.0000\n",
      "Epoch 36/100\n",
      "34/34 [==============================] - 0s 2ms/step - loss: 38978440.0000 - val_loss: 33797908.0000\n",
      "Epoch 37/100\n",
      "34/34 [==============================] - 0s 2ms/step - loss: 37886100.0000 - val_loss: 35487128.0000\n",
      "Epoch 38/100\n",
      "34/34 [==============================] - 0s 2ms/step - loss: 38130876.0000 - val_loss: 32343204.0000\n",
      "Epoch 39/100\n",
      "34/34 [==============================] - 0s 2ms/step - loss: 39115824.0000 - val_loss: 34611292.0000\n",
      "Epoch 40/100\n",
      "34/34 [==============================] - 0s 2ms/step - loss: 37411776.0000 - val_loss: 31729274.0000\n",
      "Epoch 41/100\n",
      "34/34 [==============================] - 0s 2ms/step - loss: 38434660.0000 - val_loss: 31396682.0000\n",
      "Epoch 42/100\n",
      "34/34 [==============================] - 0s 2ms/step - loss: 37736436.0000 - val_loss: 32658890.0000\n",
      "Epoch 43/100\n",
      "34/34 [==============================] - 0s 2ms/step - loss: 37268048.0000 - val_loss: 31146176.0000\n",
      "Epoch 44/100\n",
      "34/34 [==============================] - 0s 2ms/step - loss: 36379788.0000 - val_loss: 31248074.0000\n",
      "Epoch 45/100\n",
      "34/34 [==============================] - 0s 2ms/step - loss: 35950992.0000 - val_loss: 31030482.0000\n",
      "Epoch 46/100\n",
      "34/34 [==============================] - 0s 2ms/step - loss: 35983560.0000 - val_loss: 30648732.0000\n",
      "Epoch 47/100\n",
      "34/34 [==============================] - 0s 2ms/step - loss: 37338632.0000 - val_loss: 31788678.0000\n",
      "Epoch 48/100\n",
      "34/34 [==============================] - 0s 2ms/step - loss: 36214272.0000 - val_loss: 30105902.0000\n",
      "Epoch 49/100\n",
      "34/34 [==============================] - 0s 2ms/step - loss: 36078676.0000 - val_loss: 30563664.0000\n",
      "Epoch 50/100\n",
      "34/34 [==============================] - 0s 2ms/step - loss: 35169692.0000 - val_loss: 30435780.0000\n",
      "Epoch 51/100\n",
      "34/34 [==============================] - 0s 2ms/step - loss: 35335480.0000 - val_loss: 30113112.0000\n",
      "Epoch 52/100\n",
      "34/34 [==============================] - 0s 2ms/step - loss: 34609260.0000 - val_loss: 40444296.0000\n",
      "Epoch 53/100\n",
      "34/34 [==============================] - 0s 2ms/step - loss: 39363852.0000 - val_loss: 30874438.0000\n",
      "Epoch 54/100\n",
      "34/34 [==============================] - 0s 2ms/step - loss: 35233480.0000 - val_loss: 29994630.0000\n",
      "Epoch 55/100\n",
      "34/34 [==============================] - 0s 2ms/step - loss: 34582980.0000 - val_loss: 32711022.0000\n",
      "Epoch 56/100\n",
      "34/34 [==============================] - 0s 2ms/step - loss: 34281016.0000 - val_loss: 30796728.0000\n",
      "Epoch 57/100\n",
      "34/34 [==============================] - 0s 2ms/step - loss: 34289336.0000 - val_loss: 28644284.0000\n",
      "Epoch 58/100\n",
      "34/34 [==============================] - 0s 2ms/step - loss: 33809556.0000 - val_loss: 30641960.0000\n",
      "Epoch 59/100\n",
      "34/34 [==============================] - 0s 2ms/step - loss: 34851676.0000 - val_loss: 31117242.0000\n",
      "Epoch 60/100\n",
      "34/34 [==============================] - 0s 2ms/step - loss: 33733292.0000 - val_loss: 28215668.0000\n",
      "Epoch 61/100\n",
      "34/34 [==============================] - 0s 2ms/step - loss: 33296442.0000 - val_loss: 35168892.0000\n",
      "Epoch 62/100\n",
      "34/34 [==============================] - 0s 2ms/step - loss: 34142104.0000 - val_loss: 28377870.0000\n",
      "Epoch 63/100\n",
      "34/34 [==============================] - 0s 2ms/step - loss: 33287844.0000 - val_loss: 27727256.0000\n",
      "Epoch 64/100\n",
      "34/34 [==============================] - 0s 2ms/step - loss: 34605796.0000 - val_loss: 29660086.0000\n",
      "Epoch 65/100\n",
      "34/34 [==============================] - 0s 2ms/step - loss: 33511310.0000 - val_loss: 28436068.0000\n",
      "Epoch 66/100\n",
      "34/34 [==============================] - 0s 2ms/step - loss: 34765544.0000 - val_loss: 27756840.0000\n",
      "Epoch 67/100\n",
      "34/34 [==============================] - 0s 2ms/step - loss: 33601384.0000 - val_loss: 27800020.0000\n",
      "Epoch 68/100\n",
      "34/34 [==============================] - 0s 2ms/step - loss: 32471108.0000 - val_loss: 31012648.0000\n",
      "Epoch 69/100\n",
      "34/34 [==============================] - 0s 2ms/step - loss: 32387804.0000 - val_loss: 27016546.0000\n",
      "Epoch 70/100\n",
      "34/34 [==============================] - 0s 2ms/step - loss: 33814340.0000 - val_loss: 27522752.0000\n",
      "Epoch 71/100\n",
      "34/34 [==============================] - 0s 2ms/step - loss: 32776490.0000 - val_loss: 28320948.0000\n",
      "Epoch 72/100\n"
     ]
    },
    {
     "name": "stdout",
     "output_type": "stream",
     "text": [
      "34/34 [==============================] - 0s 2ms/step - loss: 35552120.0000 - val_loss: 31125482.0000\n",
      "Epoch 73/100\n",
      "34/34 [==============================] - 0s 3ms/step - loss: 34535152.0000 - val_loss: 29972018.0000\n",
      "Epoch 74/100\n",
      "34/34 [==============================] - 0s 2ms/step - loss: 32394892.0000 - val_loss: 27389834.0000\n",
      "Epoch 75/100\n",
      "34/34 [==============================] - 0s 2ms/step - loss: 32275496.0000 - val_loss: 26929962.0000\n",
      "Epoch 76/100\n",
      "34/34 [==============================] - 0s 2ms/step - loss: 31594284.0000 - val_loss: 26493080.0000\n",
      "Epoch 77/100\n",
      "34/34 [==============================] - 0s 2ms/step - loss: 31224060.0000 - val_loss: 27952842.0000\n",
      "Epoch 78/100\n",
      "34/34 [==============================] - 0s 2ms/step - loss: 30992506.0000 - val_loss: 25958020.0000\n",
      "Epoch 79/100\n",
      "34/34 [==============================] - 0s 2ms/step - loss: 33180916.0000 - val_loss: 26643508.0000\n",
      "Epoch 80/100\n",
      "34/34 [==============================] - 0s 2ms/step - loss: 31417036.0000 - val_loss: 25915064.0000\n",
      "Epoch 81/100\n",
      "34/34 [==============================] - 0s 2ms/step - loss: 31241834.0000 - val_loss: 28380416.0000\n",
      "Epoch 82/100\n",
      "34/34 [==============================] - 0s 2ms/step - loss: 31005244.0000 - val_loss: 26225302.0000\n",
      "Epoch 83/100\n",
      "34/34 [==============================] - 0s 2ms/step - loss: 31985420.0000 - val_loss: 25379422.0000\n",
      "Epoch 84/100\n",
      "34/34 [==============================] - 0s 2ms/step - loss: 31120538.0000 - val_loss: 25387078.0000\n",
      "Epoch 85/100\n",
      "34/34 [==============================] - 0s 2ms/step - loss: 30190236.0000 - val_loss: 25322424.0000\n",
      "Epoch 86/100\n",
      "34/34 [==============================] - 0s 2ms/step - loss: 30802074.0000 - val_loss: 27885100.0000\n",
      "Epoch 87/100\n",
      "34/34 [==============================] - 0s 2ms/step - loss: 32235696.0000 - val_loss: 26650868.0000\n",
      "Epoch 88/100\n",
      "34/34 [==============================] - 0s 2ms/step - loss: 30368794.0000 - val_loss: 24885020.0000\n",
      "Epoch 89/100\n",
      "34/34 [==============================] - 0s 2ms/step - loss: 30643164.0000 - val_loss: 24947402.0000\n",
      "Epoch 90/100\n",
      "34/34 [==============================] - 0s 2ms/step - loss: 30832822.0000 - val_loss: 24979260.0000\n",
      "Epoch 91/100\n",
      "34/34 [==============================] - 0s 2ms/step - loss: 30502778.0000 - val_loss: 28670650.0000\n",
      "Epoch 92/100\n",
      "34/34 [==============================] - 0s 2ms/step - loss: 30174468.0000 - val_loss: 25103842.0000\n",
      "Epoch 93/100\n",
      "34/34 [==============================] - 0s 2ms/step - loss: 30918658.0000 - val_loss: 25150784.0000\n",
      "Epoch 94/100\n",
      "34/34 [==============================] - 0s 2ms/step - loss: 30412120.0000 - val_loss: 27801824.0000\n",
      "Epoch 95/100\n",
      "34/34 [==============================] - 0s 2ms/step - loss: 30007844.0000 - val_loss: 24826416.0000\n",
      "Epoch 96/100\n",
      "34/34 [==============================] - 0s 2ms/step - loss: 29738184.0000 - val_loss: 26355110.0000\n",
      "Epoch 97/100\n",
      "34/34 [==============================] - 0s 2ms/step - loss: 29772444.0000 - val_loss: 24381194.0000\n",
      "Epoch 98/100\n",
      "34/34 [==============================] - 0s 2ms/step - loss: 29279700.0000 - val_loss: 24221908.0000\n",
      "Epoch 99/100\n",
      "34/34 [==============================] - 0s 2ms/step - loss: 29874780.0000 - val_loss: 24380652.0000\n",
      "Epoch 100/100\n",
      "34/34 [==============================] - 0s 2ms/step - loss: 28941044.0000 - val_loss: 25517772.0000\n"
     ]
    }
   ],
   "source": [
    "history = model.fit(x_train, y_train, validation_data = (x_test, y_true), epochs = 100, verbose = 1)"
   ]
  },
  {
   "cell_type": "code",
   "execution_count": 67,
   "id": "6e5d54ee",
   "metadata": {},
   "outputs": [
    {
     "data": {
      "text/plain": [
       "<AxesSubplot:>"
      ]
     },
     "execution_count": 67,
     "metadata": {},
     "output_type": "execute_result"
    },
    {
     "data": {
      "image/png": "[encoded data removed]",
      "text/plain": [
       "<Figure size 432x288 with 1 Axes>"
      ]
     },
     "metadata": {
      "needs_background": "light"
     },
     "output_type": "display_data"
    }
   ],
   "source": [
    "kayip = pd.DataFrame(history.history)\n",
    "kayip.plot()"
   ]
  },
  {
   "cell_type": "code",
   "execution_count": 68,
   "id": "4fac5441",
   "metadata": {},
   "outputs": [
    {
     "name": "stdout",
     "output_type": "stream",
     "text": [
      "9/9 [==============================] - 0s 873us/step\n"
     ]
    }
   ],
   "source": [
    "tahmin = model.predict(x_test)"
   ]
  },
  {
   "cell_type": "code",
   "execution_count": 69,
   "id": "0e38bf5b",
   "metadata": {},
   "outputs": [
    {
     "data": {
      "text/plain": [
       "5051.511962687947"
      ]
     },
     "execution_count": 69,
     "metadata": {},
     "output_type": "execute_result"
    }
   ],
   "source": [
    "mean_squared_error(tahmin, y_true) ** 0.5"
   ]
  },
  {
   "cell_type": "code",
   "execution_count": 70,
   "id": "332da90a",
   "metadata": {},
   "outputs": [
    {
     "data": {
      "text/plain": [
       "75.85291525495622"
      ]
     },
     "execution_count": 70,
     "metadata": {},
     "output_type": "execute_result"
    }
   ],
   "source": [
    "r2_score(tahmin, y_true) * 100"
   ]
  },
  {
   "cell_type": "code",
   "execution_count": 64,
   "id": "8cc1df45",
   "metadata": {},
   "outputs": [
    {
     "data": {
      "text/plain": [
       "[<matplotlib.lines.Line2D at 0x22d191a60a0>]"
      ]
     },
     "execution_count": 64,
     "metadata": {},
     "output_type": "execute_result"
    },
    {
     "data": {
      "image/png": "[encoded data removed]",
      "text/plain": [
       "<Figure size 576x432 with 1 Axes>"
      ]
     },
     "metadata": {
      "needs_background": "light"
     },
     "output_type": "display_data"
    }
   ],
   "source": [
    "fig = plt.figure(figsize = (8, 6))\n",
    "plt.scatter(y_true, tahmin)\n",
    "plt.plot(y_true.values, y_true.values, 'r')"
   ]
  },
  {
   "cell_type": "code",
   "execution_count": null,
   "id": "f2f63f57",
   "metadata": {},
   "outputs": [],
   "source": []
  }
 ],
 "metadata": {
  "kernelspec": {
   "display_name": "Python 3 (ipykernel)",
   "language": "python",
   "name": "python3"
  },
  "language_info": {
   "codemirror_mode": {
    "name": "ipython",
    "version": 3
   },
   "file_extension": ".py",
   "mimetype": "text/x-python",
   "name": "python",
   "nbconvert_exporter": "python",
   "pygments_lexer": "ipython3",
   "version": "3.9.12"
  }
 },
 "nbformat": 4,
 "nbformat_minor": 5
}
