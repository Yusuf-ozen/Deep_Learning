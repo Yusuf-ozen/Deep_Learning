{
 "cells": [
  {
   "cell_type": "code",
   "execution_count": 212,
   "id": "8025f046",
   "metadata": {},
   "outputs": [],
   "source": [
    "# libraries\n",
    "import numpy as np\n",
    "import pandas as pd\n",
    "import matplotlib.pyplot as plt\n",
    "import seaborn as sbn\n",
    "from sklearn.model_selection import train_test_split\n",
    "from sklearn.preprocessing import MinMaxScaler\n",
    "from tensorflow.keras.models import Sequential\n",
    "from tensorflow.keras.layers import Dense\n",
    "from sklearn.metrics import mean_absolute_error, mean_squared_error\n",
    "from tensorflow.keras.models import load_model"
   ]
  },
  {
   "cell_type": "code",
   "execution_count": 144,
   "id": "fa835580",
   "metadata": {},
   "outputs": [
    {
     "data": {
      "text/html": [
       "<div>\n",
       "<style scoped>\n",
       "    .dataframe tbody tr th:only-of-type {\n",
       "        vertical-align: middle;\n",
       "    }\n",
       "\n",
       "    .dataframe tbody tr th {\n",
       "        vertical-align: top;\n",
       "    }\n",
       "\n",
       "    .dataframe thead th {\n",
       "        text-align: right;\n",
       "    }\n",
       "</style>\n",
       "<table border=\"1\" class=\"dataframe\">\n",
       "  <thead>\n",
       "    <tr style=\"text-align: right;\">\n",
       "      <th></th>\n",
       "      <th>year</th>\n",
       "      <th>price</th>\n",
       "      <th>transmission</th>\n",
       "      <th>mileage</th>\n",
       "      <th>tax</th>\n",
       "      <th>mpg</th>\n",
       "      <th>engineSize</th>\n",
       "    </tr>\n",
       "  </thead>\n",
       "  <tbody>\n",
       "    <tr>\n",
       "      <th>0</th>\n",
       "      <td>2005</td>\n",
       "      <td>5200</td>\n",
       "      <td>Automatic</td>\n",
       "      <td>63000</td>\n",
       "      <td>325</td>\n",
       "      <td>32.1</td>\n",
       "      <td>1.8</td>\n",
       "    </tr>\n",
       "    <tr>\n",
       "      <th>1</th>\n",
       "      <td>2017</td>\n",
       "      <td>34948</td>\n",
       "      <td>Automatic</td>\n",
       "      <td>27000</td>\n",
       "      <td>20</td>\n",
       "      <td>61.4</td>\n",
       "      <td>2.1</td>\n",
       "    </tr>\n",
       "    <tr>\n",
       "      <th>2</th>\n",
       "      <td>2016</td>\n",
       "      <td>49948</td>\n",
       "      <td>Automatic</td>\n",
       "      <td>6200</td>\n",
       "      <td>555</td>\n",
       "      <td>28.0</td>\n",
       "      <td>5.5</td>\n",
       "    </tr>\n",
       "    <tr>\n",
       "      <th>3</th>\n",
       "      <td>2016</td>\n",
       "      <td>61948</td>\n",
       "      <td>Automatic</td>\n",
       "      <td>16000</td>\n",
       "      <td>325</td>\n",
       "      <td>30.4</td>\n",
       "      <td>4.0</td>\n",
       "    </tr>\n",
       "    <tr>\n",
       "      <th>4</th>\n",
       "      <td>2016</td>\n",
       "      <td>73948</td>\n",
       "      <td>Automatic</td>\n",
       "      <td>4000</td>\n",
       "      <td>325</td>\n",
       "      <td>30.1</td>\n",
       "      <td>4.0</td>\n",
       "    </tr>\n",
       "  </tbody>\n",
       "</table>\n",
       "</div>"
      ],
      "text/plain": [
       "   year  price transmission  mileage  tax   mpg  engineSize\n",
       "0  2005   5200    Automatic    63000  325  32.1         1.8\n",
       "1  2017  34948    Automatic    27000   20  61.4         2.1\n",
       "2  2016  49948    Automatic     6200  555  28.0         5.5\n",
       "3  2016  61948    Automatic    16000  325  30.4         4.0\n",
       "4  2016  73948    Automatic     4000  325  30.1         4.0"
      ]
     },
     "execution_count": 144,
     "metadata": {},
     "output_type": "execute_result"
    }
   ],
   "source": [
    "data = pd.read_excel(\"merc.xlsx\")\n",
    "data.head()"
   ]
  },
  {
   "cell_type": "code",
   "execution_count": 145,
   "id": "68186cf6",
   "metadata": {},
   "outputs": [
    {
     "name": "stdout",
     "output_type": "stream",
     "text": [
      "<class 'pandas.core.frame.DataFrame'>\n",
      "RangeIndex: 13119 entries, 0 to 13118\n",
      "Data columns (total 7 columns):\n",
      " #   Column        Non-Null Count  Dtype  \n",
      "---  ------        --------------  -----  \n",
      " 0   year          13119 non-null  int64  \n",
      " 1   price         13119 non-null  int64  \n",
      " 2   transmission  13119 non-null  object \n",
      " 3   mileage       13119 non-null  int64  \n",
      " 4   tax           13119 non-null  int64  \n",
      " 5   mpg           13119 non-null  float64\n",
      " 6   engineSize    13119 non-null  float64\n",
      "dtypes: float64(2), int64(4), object(1)\n",
      "memory usage: 717.6+ KB\n"
     ]
    }
   ],
   "source": [
    "data.info()"
   ]
  },
  {
   "cell_type": "code",
   "execution_count": 146,
   "id": "bbf96019",
   "metadata": {},
   "outputs": [
    {
     "data": {
      "text/plain": [
       "13119"
      ]
     },
     "execution_count": 146,
     "metadata": {},
     "output_type": "execute_result"
    }
   ],
   "source": [
    "len(data)"
   ]
  },
  {
   "cell_type": "code",
   "execution_count": 147,
   "id": "249f3f51",
   "metadata": {},
   "outputs": [
    {
     "data": {
      "text/plain": [
       "Index(['year', 'price', 'transmission', 'mileage', 'tax', 'mpg', 'engineSize'], dtype='object')"
      ]
     },
     "execution_count": 147,
     "metadata": {},
     "output_type": "execute_result"
    }
   ],
   "source": [
    "data.columns"
   ]
  },
  {
   "cell_type": "code",
   "execution_count": 148,
   "id": "415194e1",
   "metadata": {},
   "outputs": [
    {
     "data": {
      "text/html": [
       "<div>\n",
       "<style scoped>\n",
       "    .dataframe tbody tr th:only-of-type {\n",
       "        vertical-align: middle;\n",
       "    }\n",
       "\n",
       "    .dataframe tbody tr th {\n",
       "        vertical-align: top;\n",
       "    }\n",
       "\n",
       "    .dataframe thead th {\n",
       "        text-align: right;\n",
       "    }\n",
       "</style>\n",
       "<table border=\"1\" class=\"dataframe\">\n",
       "  <thead>\n",
       "    <tr style=\"text-align: right;\">\n",
       "      <th></th>\n",
       "      <th>year</th>\n",
       "      <th>price</th>\n",
       "      <th>mileage</th>\n",
       "      <th>tax</th>\n",
       "      <th>mpg</th>\n",
       "      <th>engineSize</th>\n",
       "    </tr>\n",
       "  </thead>\n",
       "  <tbody>\n",
       "    <tr>\n",
       "      <th>count</th>\n",
       "      <td>13119.000000</td>\n",
       "      <td>13119.000000</td>\n",
       "      <td>13119.000000</td>\n",
       "      <td>13119.000000</td>\n",
       "      <td>13119.000000</td>\n",
       "      <td>13119.000000</td>\n",
       "    </tr>\n",
       "    <tr>\n",
       "      <th>mean</th>\n",
       "      <td>2017.296288</td>\n",
       "      <td>24698.596920</td>\n",
       "      <td>21949.559037</td>\n",
       "      <td>129.972178</td>\n",
       "      <td>55.155843</td>\n",
       "      <td>2.071530</td>\n",
       "    </tr>\n",
       "    <tr>\n",
       "      <th>std</th>\n",
       "      <td>2.224709</td>\n",
       "      <td>11842.675542</td>\n",
       "      <td>21176.512267</td>\n",
       "      <td>65.260286</td>\n",
       "      <td>15.220082</td>\n",
       "      <td>0.572426</td>\n",
       "    </tr>\n",
       "    <tr>\n",
       "      <th>min</th>\n",
       "      <td>1970.000000</td>\n",
       "      <td>650.000000</td>\n",
       "      <td>1.000000</td>\n",
       "      <td>0.000000</td>\n",
       "      <td>1.100000</td>\n",
       "      <td>0.000000</td>\n",
       "    </tr>\n",
       "    <tr>\n",
       "      <th>25%</th>\n",
       "      <td>2016.000000</td>\n",
       "      <td>17450.000000</td>\n",
       "      <td>6097.500000</td>\n",
       "      <td>125.000000</td>\n",
       "      <td>45.600000</td>\n",
       "      <td>1.800000</td>\n",
       "    </tr>\n",
       "    <tr>\n",
       "      <th>50%</th>\n",
       "      <td>2018.000000</td>\n",
       "      <td>22480.000000</td>\n",
       "      <td>15189.000000</td>\n",
       "      <td>145.000000</td>\n",
       "      <td>56.500000</td>\n",
       "      <td>2.000000</td>\n",
       "    </tr>\n",
       "    <tr>\n",
       "      <th>75%</th>\n",
       "      <td>2019.000000</td>\n",
       "      <td>28980.000000</td>\n",
       "      <td>31779.500000</td>\n",
       "      <td>145.000000</td>\n",
       "      <td>64.200000</td>\n",
       "      <td>2.100000</td>\n",
       "    </tr>\n",
       "    <tr>\n",
       "      <th>max</th>\n",
       "      <td>2020.000000</td>\n",
       "      <td>159999.000000</td>\n",
       "      <td>259000.000000</td>\n",
       "      <td>580.000000</td>\n",
       "      <td>217.300000</td>\n",
       "      <td>6.200000</td>\n",
       "    </tr>\n",
       "  </tbody>\n",
       "</table>\n",
       "</div>"
      ],
      "text/plain": [
       "               year          price        mileage           tax           mpg  \\\n",
       "count  13119.000000   13119.000000   13119.000000  13119.000000  13119.000000   \n",
       "mean    2017.296288   24698.596920   21949.559037    129.972178     55.155843   \n",
       "std        2.224709   11842.675542   21176.512267     65.260286     15.220082   \n",
       "min     1970.000000     650.000000       1.000000      0.000000      1.100000   \n",
       "25%     2016.000000   17450.000000    6097.500000    125.000000     45.600000   \n",
       "50%     2018.000000   22480.000000   15189.000000    145.000000     56.500000   \n",
       "75%     2019.000000   28980.000000   31779.500000    145.000000     64.200000   \n",
       "max     2020.000000  159999.000000  259000.000000    580.000000    217.300000   \n",
       "\n",
       "         engineSize  \n",
       "count  13119.000000  \n",
       "mean       2.071530  \n",
       "std        0.572426  \n",
       "min        0.000000  \n",
       "25%        1.800000  \n",
       "50%        2.000000  \n",
       "75%        2.100000  \n",
       "max        6.200000  "
      ]
     },
     "execution_count": 148,
     "metadata": {},
     "output_type": "execute_result"
    }
   ],
   "source": [
    "data.describe()"
   ]
  },
  {
   "cell_type": "code",
   "execution_count": 149,
   "id": "da1c6f0c",
   "metadata": {},
   "outputs": [
    {
     "data": {
      "text/html": [
       "<div>\n",
       "<style scoped>\n",
       "    .dataframe tbody tr th:only-of-type {\n",
       "        vertical-align: middle;\n",
       "    }\n",
       "\n",
       "    .dataframe tbody tr th {\n",
       "        vertical-align: top;\n",
       "    }\n",
       "\n",
       "    .dataframe thead th {\n",
       "        text-align: right;\n",
       "    }\n",
       "</style>\n",
       "<table border=\"1\" class=\"dataframe\">\n",
       "  <thead>\n",
       "    <tr style=\"text-align: right;\">\n",
       "      <th></th>\n",
       "      <th>year</th>\n",
       "      <th>price</th>\n",
       "      <th>mileage</th>\n",
       "      <th>tax</th>\n",
       "      <th>mpg</th>\n",
       "      <th>engineSize</th>\n",
       "    </tr>\n",
       "  </thead>\n",
       "  <tbody>\n",
       "    <tr>\n",
       "      <th>year</th>\n",
       "      <td>1.000000</td>\n",
       "      <td>0.520712</td>\n",
       "      <td>-0.738027</td>\n",
       "      <td>0.012480</td>\n",
       "      <td>-0.094626</td>\n",
       "      <td>-0.142147</td>\n",
       "    </tr>\n",
       "    <tr>\n",
       "      <th>price</th>\n",
       "      <td>0.520712</td>\n",
       "      <td>1.000000</td>\n",
       "      <td>-0.537214</td>\n",
       "      <td>0.268717</td>\n",
       "      <td>-0.438445</td>\n",
       "      <td>0.516126</td>\n",
       "    </tr>\n",
       "    <tr>\n",
       "      <th>mileage</th>\n",
       "      <td>-0.738027</td>\n",
       "      <td>-0.537214</td>\n",
       "      <td>1.000000</td>\n",
       "      <td>-0.160223</td>\n",
       "      <td>0.202850</td>\n",
       "      <td>0.063652</td>\n",
       "    </tr>\n",
       "    <tr>\n",
       "      <th>tax</th>\n",
       "      <td>0.012480</td>\n",
       "      <td>0.268717</td>\n",
       "      <td>-0.160223</td>\n",
       "      <td>1.000000</td>\n",
       "      <td>-0.513742</td>\n",
       "      <td>0.338341</td>\n",
       "    </tr>\n",
       "    <tr>\n",
       "      <th>mpg</th>\n",
       "      <td>-0.094626</td>\n",
       "      <td>-0.438445</td>\n",
       "      <td>0.202850</td>\n",
       "      <td>-0.513742</td>\n",
       "      <td>1.000000</td>\n",
       "      <td>-0.339862</td>\n",
       "    </tr>\n",
       "    <tr>\n",
       "      <th>engineSize</th>\n",
       "      <td>-0.142147</td>\n",
       "      <td>0.516126</td>\n",
       "      <td>0.063652</td>\n",
       "      <td>0.338341</td>\n",
       "      <td>-0.339862</td>\n",
       "      <td>1.000000</td>\n",
       "    </tr>\n",
       "  </tbody>\n",
       "</table>\n",
       "</div>"
      ],
      "text/plain": [
       "                year     price   mileage       tax       mpg  engineSize\n",
       "year        1.000000  0.520712 -0.738027  0.012480 -0.094626   -0.142147\n",
       "price       0.520712  1.000000 -0.537214  0.268717 -0.438445    0.516126\n",
       "mileage    -0.738027 -0.537214  1.000000 -0.160223  0.202850    0.063652\n",
       "tax         0.012480  0.268717 -0.160223  1.000000 -0.513742    0.338341\n",
       "mpg        -0.094626 -0.438445  0.202850 -0.513742  1.000000   -0.339862\n",
       "engineSize -0.142147  0.516126  0.063652  0.338341 -0.339862    1.000000"
      ]
     },
     "execution_count": 149,
     "metadata": {},
     "output_type": "execute_result"
    }
   ],
   "source": [
    "data.corr()"
   ]
  },
  {
   "cell_type": "code",
   "execution_count": 150,
   "id": "62a64bd9",
   "metadata": {},
   "outputs": [
    {
     "name": "stderr",
     "output_type": "stream",
     "text": [
      "C:\\Users\\90531\\anaconda3\\lib\\site-packages\\seaborn\\distributions.py:2619: FutureWarning: `distplot` is a deprecated function and will be removed in a future version. Please adapt your code to use either `displot` (a figure-level function with similar flexibility) or `histplot` (an axes-level function for histograms).\n",
      "  warnings.warn(msg, FutureWarning)\n"
     ]
    },
    {
     "data": {
      "text/plain": [
       "<AxesSubplot:xlabel='price', ylabel='Density'>"
      ]
     },
     "execution_count": 150,
     "metadata": {},
     "output_type": "execute_result"
    },
    {
     "data": {
      "image/png": "[encoded data removed]",
      "text/plain": [
       "<Figure size 504x360 with 1 Axes>"
      ]
     },
     "metadata": {
      "needs_background": "light"
     },
     "output_type": "display_data"
    }
   ],
   "source": [
    "plt.figure(figsize = (7, 5))\n",
    "sbn.distplot(data[\"price\"])  ## graph of columns"
   ]
  },
  {
   "cell_type": "code",
   "execution_count": 151,
   "id": "7883a7f2",
   "metadata": {},
   "outputs": [
    {
     "name": "stderr",
     "output_type": "stream",
     "text": [
      "C:\\Users\\90531\\anaconda3\\lib\\site-packages\\seaborn\\_decorators.py:36: FutureWarning: Pass the following variable as a keyword arg: x. From version 0.12, the only valid positional argument will be `data`, and passing other arguments without an explicit keyword will result in an error or misinterpretation.\n",
      "  warnings.warn(\n"
     ]
    },
    {
     "data": {
      "text/plain": [
       "<AxesSubplot:xlabel='year', ylabel='count'>"
      ]
     },
     "execution_count": 151,
     "metadata": {},
     "output_type": "execute_result"
    },
    {
     "data": {
      "image/png": "[encoded data removed]",
      "text/plain": [
       "<Figure size 576x360 with 1 Axes>"
      ]
     },
     "metadata": {
      "needs_background": "light"
     },
     "output_type": "display_data"
    }
   ],
   "source": [
    "plt.figure(figsize = (8, 5))\n",
    "sbn.countplot(data[\"year\"])"
   ]
  },
  {
   "cell_type": "code",
   "execution_count": 152,
   "id": "e44ec908",
   "metadata": {},
   "outputs": [
    {
     "data": {
      "text/plain": [
       "mileage      -0.537214\n",
       "mpg          -0.438445\n",
       "tax           0.268717\n",
       "engineSize    0.516126\n",
       "year          0.520712\n",
       "price         1.000000\n",
       "Name: price, dtype: float64"
      ]
     },
     "execution_count": 152,
     "metadata": {},
     "output_type": "execute_result"
    }
   ],
   "source": [
    "data.corr()[\"price\"].sort_values()"
   ]
  },
  {
   "cell_type": "code",
   "execution_count": 153,
   "id": "adba643a",
   "metadata": {},
   "outputs": [
    {
     "data": {
      "text/plain": [
       "<AxesSubplot:xlabel='mileage', ylabel='price'>"
      ]
     },
     "execution_count": 153,
     "metadata": {},
     "output_type": "execute_result"
    },
    {
     "data": {
      "image/png": "[encoded data removed]",
      "text/plain": [
       "<Figure size 432x288 with 1 Axes>"
      ]
     },
     "metadata": {
      "needs_background": "light"
     },
     "output_type": "display_data"
    }
   ],
   "source": [
    "sbn.scatterplot(x = \"mileage\", y = \"price\", data = data)"
   ]
  },
  {
   "cell_type": "code",
   "execution_count": 154,
   "id": "88ca74ca",
   "metadata": {},
   "outputs": [
    {
     "data": {
      "text/html": [
       "<div>\n",
       "<style scoped>\n",
       "    .dataframe tbody tr th:only-of-type {\n",
       "        vertical-align: middle;\n",
       "    }\n",
       "\n",
       "    .dataframe tbody tr th {\n",
       "        vertical-align: top;\n",
       "    }\n",
       "\n",
       "    .dataframe thead th {\n",
       "        text-align: right;\n",
       "    }\n",
       "</style>\n",
       "<table border=\"1\" class=\"dataframe\">\n",
       "  <thead>\n",
       "    <tr style=\"text-align: right;\">\n",
       "      <th></th>\n",
       "      <th>year</th>\n",
       "      <th>price</th>\n",
       "      <th>transmission</th>\n",
       "      <th>mileage</th>\n",
       "      <th>tax</th>\n",
       "      <th>mpg</th>\n",
       "      <th>engineSize</th>\n",
       "    </tr>\n",
       "  </thead>\n",
       "  <tbody>\n",
       "    <tr>\n",
       "      <th>6199</th>\n",
       "      <td>2020</td>\n",
       "      <td>159999</td>\n",
       "      <td>Semi-Auto</td>\n",
       "      <td>1350</td>\n",
       "      <td>145</td>\n",
       "      <td>21.4</td>\n",
       "      <td>4.0</td>\n",
       "    </tr>\n",
       "    <tr>\n",
       "      <th>10044</th>\n",
       "      <td>2020</td>\n",
       "      <td>154998</td>\n",
       "      <td>Automatic</td>\n",
       "      <td>3000</td>\n",
       "      <td>150</td>\n",
       "      <td>21.4</td>\n",
       "      <td>4.0</td>\n",
       "    </tr>\n",
       "    <tr>\n",
       "      <th>5</th>\n",
       "      <td>2011</td>\n",
       "      <td>149948</td>\n",
       "      <td>Automatic</td>\n",
       "      <td>3000</td>\n",
       "      <td>570</td>\n",
       "      <td>21.4</td>\n",
       "      <td>6.2</td>\n",
       "    </tr>\n",
       "    <tr>\n",
       "      <th>8737</th>\n",
       "      <td>2019</td>\n",
       "      <td>140319</td>\n",
       "      <td>Semi-Auto</td>\n",
       "      <td>785</td>\n",
       "      <td>150</td>\n",
       "      <td>22.1</td>\n",
       "      <td>4.0</td>\n",
       "    </tr>\n",
       "    <tr>\n",
       "      <th>6386</th>\n",
       "      <td>2018</td>\n",
       "      <td>139995</td>\n",
       "      <td>Semi-Auto</td>\n",
       "      <td>13046</td>\n",
       "      <td>145</td>\n",
       "      <td>21.4</td>\n",
       "      <td>4.0</td>\n",
       "    </tr>\n",
       "    <tr>\n",
       "      <th>8</th>\n",
       "      <td>2019</td>\n",
       "      <td>139948</td>\n",
       "      <td>Automatic</td>\n",
       "      <td>12000</td>\n",
       "      <td>145</td>\n",
       "      <td>21.4</td>\n",
       "      <td>4.0</td>\n",
       "    </tr>\n",
       "    <tr>\n",
       "      <th>9133</th>\n",
       "      <td>2019</td>\n",
       "      <td>139559</td>\n",
       "      <td>Semi-Auto</td>\n",
       "      <td>1000</td>\n",
       "      <td>145</td>\n",
       "      <td>22.1</td>\n",
       "      <td>4.0</td>\n",
       "    </tr>\n",
       "    <tr>\n",
       "      <th>8821</th>\n",
       "      <td>2020</td>\n",
       "      <td>138439</td>\n",
       "      <td>Semi-Auto</td>\n",
       "      <td>1000</td>\n",
       "      <td>145</td>\n",
       "      <td>22.1</td>\n",
       "      <td>4.0</td>\n",
       "    </tr>\n",
       "    <tr>\n",
       "      <th>5902</th>\n",
       "      <td>2018</td>\n",
       "      <td>135771</td>\n",
       "      <td>Semi-Auto</td>\n",
       "      <td>19000</td>\n",
       "      <td>145</td>\n",
       "      <td>21.4</td>\n",
       "      <td>4.0</td>\n",
       "    </tr>\n",
       "    <tr>\n",
       "      <th>7864</th>\n",
       "      <td>2018</td>\n",
       "      <td>135124</td>\n",
       "      <td>Semi-Auto</td>\n",
       "      <td>18234</td>\n",
       "      <td>150</td>\n",
       "      <td>21.4</td>\n",
       "      <td>4.0</td>\n",
       "    </tr>\n",
       "    <tr>\n",
       "      <th>8673</th>\n",
       "      <td>2019</td>\n",
       "      <td>134219</td>\n",
       "      <td>Semi-Auto</td>\n",
       "      <td>1000</td>\n",
       "      <td>145</td>\n",
       "      <td>24.8</td>\n",
       "      <td>4.0</td>\n",
       "    </tr>\n",
       "    <tr>\n",
       "      <th>6210</th>\n",
       "      <td>2019</td>\n",
       "      <td>129990</td>\n",
       "      <td>Automatic</td>\n",
       "      <td>1000</td>\n",
       "      <td>145</td>\n",
       "      <td>24.8</td>\n",
       "      <td>4.0</td>\n",
       "    </tr>\n",
       "    <tr>\n",
       "      <th>4759</th>\n",
       "      <td>2019</td>\n",
       "      <td>126000</td>\n",
       "      <td>Automatic</td>\n",
       "      <td>250</td>\n",
       "      <td>145</td>\n",
       "      <td>24.6</td>\n",
       "      <td>4.0</td>\n",
       "    </tr>\n",
       "    <tr>\n",
       "      <th>2647</th>\n",
       "      <td>2019</td>\n",
       "      <td>125796</td>\n",
       "      <td>Automatic</td>\n",
       "      <td>637</td>\n",
       "      <td>145</td>\n",
       "      <td>24.8</td>\n",
       "      <td>4.0</td>\n",
       "    </tr>\n",
       "    <tr>\n",
       "      <th>6223</th>\n",
       "      <td>2019</td>\n",
       "      <td>124999</td>\n",
       "      <td>Automatic</td>\n",
       "      <td>1500</td>\n",
       "      <td>145</td>\n",
       "      <td>31.7</td>\n",
       "      <td>4.0</td>\n",
       "    </tr>\n",
       "    <tr>\n",
       "      <th>4094</th>\n",
       "      <td>2019</td>\n",
       "      <td>124366</td>\n",
       "      <td>Semi-Auto</td>\n",
       "      <td>880</td>\n",
       "      <td>145</td>\n",
       "      <td>24.8</td>\n",
       "      <td>4.0</td>\n",
       "    </tr>\n",
       "    <tr>\n",
       "      <th>2629</th>\n",
       "      <td>2019</td>\n",
       "      <td>123846</td>\n",
       "      <td>Semi-Auto</td>\n",
       "      <td>2951</td>\n",
       "      <td>145</td>\n",
       "      <td>22.1</td>\n",
       "      <td>4.0</td>\n",
       "    </tr>\n",
       "    <tr>\n",
       "      <th>7134</th>\n",
       "      <td>2019</td>\n",
       "      <td>115359</td>\n",
       "      <td>Semi-Auto</td>\n",
       "      <td>1000</td>\n",
       "      <td>145</td>\n",
       "      <td>30.1</td>\n",
       "      <td>4.0</td>\n",
       "    </tr>\n",
       "    <tr>\n",
       "      <th>9159</th>\n",
       "      <td>2019</td>\n",
       "      <td>114199</td>\n",
       "      <td>Semi-Auto</td>\n",
       "      <td>891</td>\n",
       "      <td>145</td>\n",
       "      <td>22.6</td>\n",
       "      <td>4.0</td>\n",
       "    </tr>\n",
       "    <tr>\n",
       "      <th>1980</th>\n",
       "      <td>2019</td>\n",
       "      <td>109995</td>\n",
       "      <td>Semi-Auto</td>\n",
       "      <td>4688</td>\n",
       "      <td>150</td>\n",
       "      <td>31.7</td>\n",
       "      <td>4.0</td>\n",
       "    </tr>\n",
       "  </tbody>\n",
       "</table>\n",
       "</div>"
      ],
      "text/plain": [
       "       year   price transmission  mileage  tax   mpg  engineSize\n",
       "6199   2020  159999    Semi-Auto     1350  145  21.4         4.0\n",
       "10044  2020  154998    Automatic     3000  150  21.4         4.0\n",
       "5      2011  149948    Automatic     3000  570  21.4         6.2\n",
       "8737   2019  140319    Semi-Auto      785  150  22.1         4.0\n",
       "6386   2018  139995    Semi-Auto    13046  145  21.4         4.0\n",
       "8      2019  139948    Automatic    12000  145  21.4         4.0\n",
       "9133   2019  139559    Semi-Auto     1000  145  22.1         4.0\n",
       "8821   2020  138439    Semi-Auto     1000  145  22.1         4.0\n",
       "5902   2018  135771    Semi-Auto    19000  145  21.4         4.0\n",
       "7864   2018  135124    Semi-Auto    18234  150  21.4         4.0\n",
       "8673   2019  134219    Semi-Auto     1000  145  24.8         4.0\n",
       "6210   2019  129990    Automatic     1000  145  24.8         4.0\n",
       "4759   2019  126000    Automatic      250  145  24.6         4.0\n",
       "2647   2019  125796    Automatic      637  145  24.8         4.0\n",
       "6223   2019  124999    Automatic     1500  145  31.7         4.0\n",
       "4094   2019  124366    Semi-Auto      880  145  24.8         4.0\n",
       "2629   2019  123846    Semi-Auto     2951  145  22.1         4.0\n",
       "7134   2019  115359    Semi-Auto     1000  145  30.1         4.0\n",
       "9159   2019  114199    Semi-Auto      891  145  22.6         4.0\n",
       "1980   2019  109995    Semi-Auto     4688  150  31.7         4.0"
      ]
     },
     "execution_count": 154,
     "metadata": {},
     "output_type": "execute_result"
    }
   ],
   "source": [
    "data.sort_values(\"price\", ascending = False).head(20)"
   ]
  },
  {
   "cell_type": "code",
   "execution_count": 155,
   "id": "55c15c8d",
   "metadata": {},
   "outputs": [
    {
     "data": {
      "text/html": [
       "<div>\n",
       "<style scoped>\n",
       "    .dataframe tbody tr th:only-of-type {\n",
       "        vertical-align: middle;\n",
       "    }\n",
       "\n",
       "    .dataframe tbody tr th {\n",
       "        vertical-align: top;\n",
       "    }\n",
       "\n",
       "    .dataframe thead th {\n",
       "        text-align: right;\n",
       "    }\n",
       "</style>\n",
       "<table border=\"1\" class=\"dataframe\">\n",
       "  <thead>\n",
       "    <tr style=\"text-align: right;\">\n",
       "      <th></th>\n",
       "      <th>year</th>\n",
       "      <th>price</th>\n",
       "      <th>transmission</th>\n",
       "      <th>mileage</th>\n",
       "      <th>tax</th>\n",
       "      <th>mpg</th>\n",
       "      <th>engineSize</th>\n",
       "    </tr>\n",
       "  </thead>\n",
       "  <tbody>\n",
       "    <tr>\n",
       "      <th>11816</th>\n",
       "      <td>2003</td>\n",
       "      <td>650</td>\n",
       "      <td>Manual</td>\n",
       "      <td>109090</td>\n",
       "      <td>235</td>\n",
       "      <td>40.0</td>\n",
       "      <td>1.4</td>\n",
       "    </tr>\n",
       "    <tr>\n",
       "      <th>12008</th>\n",
       "      <td>2010</td>\n",
       "      <td>1350</td>\n",
       "      <td>Manual</td>\n",
       "      <td>116126</td>\n",
       "      <td>145</td>\n",
       "      <td>54.3</td>\n",
       "      <td>2.0</td>\n",
       "    </tr>\n",
       "    <tr>\n",
       "      <th>11765</th>\n",
       "      <td>2000</td>\n",
       "      <td>1490</td>\n",
       "      <td>Automatic</td>\n",
       "      <td>87000</td>\n",
       "      <td>265</td>\n",
       "      <td>27.2</td>\n",
       "      <td>3.2</td>\n",
       "    </tr>\n",
       "    <tr>\n",
       "      <th>11549</th>\n",
       "      <td>2002</td>\n",
       "      <td>1495</td>\n",
       "      <td>Automatic</td>\n",
       "      <td>13800</td>\n",
       "      <td>305</td>\n",
       "      <td>39.8</td>\n",
       "      <td>2.7</td>\n",
       "    </tr>\n",
       "    <tr>\n",
       "      <th>12594</th>\n",
       "      <td>2004</td>\n",
       "      <td>1495</td>\n",
       "      <td>Manual</td>\n",
       "      <td>119000</td>\n",
       "      <td>300</td>\n",
       "      <td>34.5</td>\n",
       "      <td>1.8</td>\n",
       "    </tr>\n",
       "    <tr>\n",
       "      <th>11174</th>\n",
       "      <td>2001</td>\n",
       "      <td>1695</td>\n",
       "      <td>Automatic</td>\n",
       "      <td>108800</td>\n",
       "      <td>325</td>\n",
       "      <td>31.7</td>\n",
       "      <td>3.2</td>\n",
       "    </tr>\n",
       "    <tr>\n",
       "      <th>12710</th>\n",
       "      <td>2006</td>\n",
       "      <td>1695</td>\n",
       "      <td>Automatic</td>\n",
       "      <td>153000</td>\n",
       "      <td>300</td>\n",
       "      <td>33.6</td>\n",
       "      <td>1.8</td>\n",
       "    </tr>\n",
       "    <tr>\n",
       "      <th>12766</th>\n",
       "      <td>2004</td>\n",
       "      <td>1780</td>\n",
       "      <td>Automatic</td>\n",
       "      <td>118000</td>\n",
       "      <td>265</td>\n",
       "      <td>41.5</td>\n",
       "      <td>2.2</td>\n",
       "    </tr>\n",
       "    <tr>\n",
       "      <th>12009</th>\n",
       "      <td>2007</td>\n",
       "      <td>1800</td>\n",
       "      <td>Automatic</td>\n",
       "      <td>84000</td>\n",
       "      <td>200</td>\n",
       "      <td>42.8</td>\n",
       "      <td>1.5</td>\n",
       "    </tr>\n",
       "    <tr>\n",
       "      <th>11764</th>\n",
       "      <td>1998</td>\n",
       "      <td>1990</td>\n",
       "      <td>Automatic</td>\n",
       "      <td>99300</td>\n",
       "      <td>265</td>\n",
       "      <td>32.1</td>\n",
       "      <td>2.3</td>\n",
       "    </tr>\n",
       "    <tr>\n",
       "      <th>11808</th>\n",
       "      <td>1998</td>\n",
       "      <td>1990</td>\n",
       "      <td>Automatic</td>\n",
       "      <td>113557</td>\n",
       "      <td>265</td>\n",
       "      <td>32.1</td>\n",
       "      <td>2.3</td>\n",
       "    </tr>\n",
       "    <tr>\n",
       "      <th>11383</th>\n",
       "      <td>2005</td>\n",
       "      <td>1995</td>\n",
       "      <td>Automatic</td>\n",
       "      <td>105000</td>\n",
       "      <td>260</td>\n",
       "      <td>43.5</td>\n",
       "      <td>2.1</td>\n",
       "    </tr>\n",
       "    <tr>\n",
       "      <th>11378</th>\n",
       "      <td>2004</td>\n",
       "      <td>1995</td>\n",
       "      <td>Semi-Auto</td>\n",
       "      <td>165000</td>\n",
       "      <td>330</td>\n",
       "      <td>20.0</td>\n",
       "      <td>3.7</td>\n",
       "    </tr>\n",
       "    <tr>\n",
       "      <th>11857</th>\n",
       "      <td>2002</td>\n",
       "      <td>2140</td>\n",
       "      <td>Automatic</td>\n",
       "      <td>52700</td>\n",
       "      <td>325</td>\n",
       "      <td>31.4</td>\n",
       "      <td>2.0</td>\n",
       "    </tr>\n",
       "    <tr>\n",
       "      <th>11906</th>\n",
       "      <td>2007</td>\n",
       "      <td>2478</td>\n",
       "      <td>Automatic</td>\n",
       "      <td>81000</td>\n",
       "      <td>160</td>\n",
       "      <td>49.6</td>\n",
       "      <td>2.0</td>\n",
       "    </tr>\n",
       "    <tr>\n",
       "      <th>11795</th>\n",
       "      <td>2005</td>\n",
       "      <td>2490</td>\n",
       "      <td>Automatic</td>\n",
       "      <td>101980</td>\n",
       "      <td>200</td>\n",
       "      <td>47.9</td>\n",
       "      <td>2.0</td>\n",
       "    </tr>\n",
       "    <tr>\n",
       "      <th>12765</th>\n",
       "      <td>2004</td>\n",
       "      <td>2495</td>\n",
       "      <td>Automatic</td>\n",
       "      <td>104000</td>\n",
       "      <td>325</td>\n",
       "      <td>31.7</td>\n",
       "      <td>1.8</td>\n",
       "    </tr>\n",
       "    <tr>\n",
       "      <th>11943</th>\n",
       "      <td>2005</td>\n",
       "      <td>2690</td>\n",
       "      <td>Automatic</td>\n",
       "      <td>109000</td>\n",
       "      <td>325</td>\n",
       "      <td>32.1</td>\n",
       "      <td>1.8</td>\n",
       "    </tr>\n",
       "    <tr>\n",
       "      <th>11263</th>\n",
       "      <td>2007</td>\n",
       "      <td>2795</td>\n",
       "      <td>Manual</td>\n",
       "      <td>79485</td>\n",
       "      <td>200</td>\n",
       "      <td>45.6</td>\n",
       "      <td>1.5</td>\n",
       "    </tr>\n",
       "    <tr>\n",
       "      <th>49</th>\n",
       "      <td>2006</td>\n",
       "      <td>2880</td>\n",
       "      <td>Automatic</td>\n",
       "      <td>66000</td>\n",
       "      <td>160</td>\n",
       "      <td>52.3</td>\n",
       "      <td>2.0</td>\n",
       "    </tr>\n",
       "  </tbody>\n",
       "</table>\n",
       "</div>"
      ],
      "text/plain": [
       "       year  price transmission  mileage  tax   mpg  engineSize\n",
       "11816  2003    650       Manual   109090  235  40.0         1.4\n",
       "12008  2010   1350       Manual   116126  145  54.3         2.0\n",
       "11765  2000   1490    Automatic    87000  265  27.2         3.2\n",
       "11549  2002   1495    Automatic    13800  305  39.8         2.7\n",
       "12594  2004   1495       Manual   119000  300  34.5         1.8\n",
       "11174  2001   1695    Automatic   108800  325  31.7         3.2\n",
       "12710  2006   1695    Automatic   153000  300  33.6         1.8\n",
       "12766  2004   1780    Automatic   118000  265  41.5         2.2\n",
       "12009  2007   1800    Automatic    84000  200  42.8         1.5\n",
       "11764  1998   1990    Automatic    99300  265  32.1         2.3\n",
       "11808  1998   1990    Automatic   113557  265  32.1         2.3\n",
       "11383  2005   1995    Automatic   105000  260  43.5         2.1\n",
       "11378  2004   1995    Semi-Auto   165000  330  20.0         3.7\n",
       "11857  2002   2140    Automatic    52700  325  31.4         2.0\n",
       "11906  2007   2478    Automatic    81000  160  49.6         2.0\n",
       "11795  2005   2490    Automatic   101980  200  47.9         2.0\n",
       "12765  2004   2495    Automatic   104000  325  31.7         1.8\n",
       "11943  2005   2690    Automatic   109000  325  32.1         1.8\n",
       "11263  2007   2795       Manual    79485  200  45.6         1.5\n",
       "49     2006   2880    Automatic    66000  160  52.3         2.0"
      ]
     },
     "execution_count": 155,
     "metadata": {},
     "output_type": "execute_result"
    }
   ],
   "source": [
    "data.sort_values(\"price\", ascending = True).head(20)\n",
    "#data.sort_values(\"price\", ascending = False).tail(20)"
   ]
  },
  {
   "cell_type": "code",
   "execution_count": 156,
   "id": "919df222",
   "metadata": {},
   "outputs": [
    {
     "data": {
      "text/plain": [
       "131.19"
      ]
     },
     "execution_count": 156,
     "metadata": {},
     "output_type": "execute_result"
    }
   ],
   "source": [
    "len(data) * 0.01   ## %99 luk kısmı alıcaz cunku bazıları fiyatta problem yaratıyor."
   ]
  },
  {
   "cell_type": "code",
   "execution_count": 157,
   "id": "ac615073",
   "metadata": {},
   "outputs": [
    {
     "data": {
      "text/html": [
       "<div>\n",
       "<style scoped>\n",
       "    .dataframe tbody tr th:only-of-type {\n",
       "        vertical-align: middle;\n",
       "    }\n",
       "\n",
       "    .dataframe tbody tr th {\n",
       "        vertical-align: top;\n",
       "    }\n",
       "\n",
       "    .dataframe thead th {\n",
       "        text-align: right;\n",
       "    }\n",
       "</style>\n",
       "<table border=\"1\" class=\"dataframe\">\n",
       "  <thead>\n",
       "    <tr style=\"text-align: right;\">\n",
       "      <th></th>\n",
       "      <th>year</th>\n",
       "      <th>price</th>\n",
       "      <th>transmission</th>\n",
       "      <th>mileage</th>\n",
       "      <th>tax</th>\n",
       "      <th>mpg</th>\n",
       "      <th>engineSize</th>\n",
       "    </tr>\n",
       "  </thead>\n",
       "  <tbody>\n",
       "    <tr>\n",
       "      <th>6177</th>\n",
       "      <td>2019</td>\n",
       "      <td>65990</td>\n",
       "      <td>Semi-Auto</td>\n",
       "      <td>5076</td>\n",
       "      <td>150</td>\n",
       "      <td>30.4</td>\n",
       "      <td>3.0</td>\n",
       "    </tr>\n",
       "    <tr>\n",
       "      <th>5779</th>\n",
       "      <td>2020</td>\n",
       "      <td>65990</td>\n",
       "      <td>Semi-Auto</td>\n",
       "      <td>999</td>\n",
       "      <td>145</td>\n",
       "      <td>28.0</td>\n",
       "      <td>4.0</td>\n",
       "    </tr>\n",
       "    <tr>\n",
       "      <th>3191</th>\n",
       "      <td>2020</td>\n",
       "      <td>65980</td>\n",
       "      <td>Semi-Auto</td>\n",
       "      <td>3999</td>\n",
       "      <td>145</td>\n",
       "      <td>28.0</td>\n",
       "      <td>4.0</td>\n",
       "    </tr>\n",
       "    <tr>\n",
       "      <th>4727</th>\n",
       "      <td>2019</td>\n",
       "      <td>65000</td>\n",
       "      <td>Semi-Auto</td>\n",
       "      <td>3398</td>\n",
       "      <td>145</td>\n",
       "      <td>27.2</td>\n",
       "      <td>4.0</td>\n",
       "    </tr>\n",
       "    <tr>\n",
       "      <th>8814</th>\n",
       "      <td>2019</td>\n",
       "      <td>64999</td>\n",
       "      <td>Semi-Auto</td>\n",
       "      <td>119</td>\n",
       "      <td>145</td>\n",
       "      <td>40.9</td>\n",
       "      <td>3.0</td>\n",
       "    </tr>\n",
       "  </tbody>\n",
       "</table>\n",
       "</div>"
      ],
      "text/plain": [
       "      year  price transmission  mileage  tax   mpg  engineSize\n",
       "6177  2019  65990    Semi-Auto     5076  150  30.4         3.0\n",
       "5779  2020  65990    Semi-Auto      999  145  28.0         4.0\n",
       "3191  2020  65980    Semi-Auto     3999  145  28.0         4.0\n",
       "4727  2019  65000    Semi-Auto     3398  145  27.2         4.0\n",
       "8814  2019  64999    Semi-Auto      119  145  40.9         3.0"
      ]
     },
     "execution_count": 157,
     "metadata": {},
     "output_type": "execute_result"
    }
   ],
   "source": [
    "new_data = data.sort_values(\"price\", ascending = False).iloc[131:, :]\n",
    "new_data.head()"
   ]
  },
  {
   "cell_type": "code",
   "execution_count": 158,
   "id": "5cc5ef8e",
   "metadata": {},
   "outputs": [
    {
     "data": {
      "text/html": [
       "<div>\n",
       "<style scoped>\n",
       "    .dataframe tbody tr th:only-of-type {\n",
       "        vertical-align: middle;\n",
       "    }\n",
       "\n",
       "    .dataframe tbody tr th {\n",
       "        vertical-align: top;\n",
       "    }\n",
       "\n",
       "    .dataframe thead th {\n",
       "        text-align: right;\n",
       "    }\n",
       "</style>\n",
       "<table border=\"1\" class=\"dataframe\">\n",
       "  <thead>\n",
       "    <tr style=\"text-align: right;\">\n",
       "      <th></th>\n",
       "      <th>year</th>\n",
       "      <th>price</th>\n",
       "      <th>mileage</th>\n",
       "      <th>tax</th>\n",
       "      <th>mpg</th>\n",
       "      <th>engineSize</th>\n",
       "    </tr>\n",
       "  </thead>\n",
       "  <tbody>\n",
       "    <tr>\n",
       "      <th>count</th>\n",
       "      <td>12988.000000</td>\n",
       "      <td>12988.000000</td>\n",
       "      <td>12988.000000</td>\n",
       "      <td>12988.000000</td>\n",
       "      <td>12988.000000</td>\n",
       "      <td>12988.000000</td>\n",
       "    </tr>\n",
       "    <tr>\n",
       "      <th>mean</th>\n",
       "      <td>2017.281876</td>\n",
       "      <td>24074.926933</td>\n",
       "      <td>22132.741146</td>\n",
       "      <td>129.689714</td>\n",
       "      <td>55.437142</td>\n",
       "      <td>2.050901</td>\n",
       "    </tr>\n",
       "    <tr>\n",
       "      <th>std</th>\n",
       "      <td>2.228515</td>\n",
       "      <td>9866.224575</td>\n",
       "      <td>21196.776401</td>\n",
       "      <td>65.183076</td>\n",
       "      <td>15.025999</td>\n",
       "      <td>0.532596</td>\n",
       "    </tr>\n",
       "    <tr>\n",
       "      <th>min</th>\n",
       "      <td>1970.000000</td>\n",
       "      <td>650.000000</td>\n",
       "      <td>1.000000</td>\n",
       "      <td>0.000000</td>\n",
       "      <td>1.100000</td>\n",
       "      <td>0.000000</td>\n",
       "    </tr>\n",
       "    <tr>\n",
       "      <th>25%</th>\n",
       "      <td>2016.000000</td>\n",
       "      <td>17357.500000</td>\n",
       "      <td>6322.000000</td>\n",
       "      <td>125.000000</td>\n",
       "      <td>45.600000</td>\n",
       "      <td>1.675000</td>\n",
       "    </tr>\n",
       "    <tr>\n",
       "      <th>50%</th>\n",
       "      <td>2018.000000</td>\n",
       "      <td>22299.000000</td>\n",
       "      <td>15369.500000</td>\n",
       "      <td>145.000000</td>\n",
       "      <td>56.500000</td>\n",
       "      <td>2.000000</td>\n",
       "    </tr>\n",
       "    <tr>\n",
       "      <th>75%</th>\n",
       "      <td>2019.000000</td>\n",
       "      <td>28706.000000</td>\n",
       "      <td>31982.250000</td>\n",
       "      <td>145.000000</td>\n",
       "      <td>64.200000</td>\n",
       "      <td>2.100000</td>\n",
       "    </tr>\n",
       "    <tr>\n",
       "      <th>max</th>\n",
       "      <td>2020.000000</td>\n",
       "      <td>65990.000000</td>\n",
       "      <td>259000.000000</td>\n",
       "      <td>580.000000</td>\n",
       "      <td>217.300000</td>\n",
       "      <td>6.200000</td>\n",
       "    </tr>\n",
       "  </tbody>\n",
       "</table>\n",
       "</div>"
      ],
      "text/plain": [
       "               year         price        mileage           tax           mpg  \\\n",
       "count  12988.000000  12988.000000   12988.000000  12988.000000  12988.000000   \n",
       "mean    2017.281876  24074.926933   22132.741146    129.689714     55.437142   \n",
       "std        2.228515   9866.224575   21196.776401     65.183076     15.025999   \n",
       "min     1970.000000    650.000000       1.000000      0.000000      1.100000   \n",
       "25%     2016.000000  17357.500000    6322.000000    125.000000     45.600000   \n",
       "50%     2018.000000  22299.000000   15369.500000    145.000000     56.500000   \n",
       "75%     2019.000000  28706.000000   31982.250000    145.000000     64.200000   \n",
       "max     2020.000000  65990.000000  259000.000000    580.000000    217.300000   \n",
       "\n",
       "         engineSize  \n",
       "count  12988.000000  \n",
       "mean       2.050901  \n",
       "std        0.532596  \n",
       "min        0.000000  \n",
       "25%        1.675000  \n",
       "50%        2.000000  \n",
       "75%        2.100000  \n",
       "max        6.200000  "
      ]
     },
     "execution_count": 158,
     "metadata": {},
     "output_type": "execute_result"
    }
   ],
   "source": [
    "new_data.describe()"
   ]
  },
  {
   "cell_type": "code",
   "execution_count": 159,
   "id": "881a8c9a",
   "metadata": {},
   "outputs": [
    {
     "name": "stderr",
     "output_type": "stream",
     "text": [
      "C:\\Users\\90531\\anaconda3\\lib\\site-packages\\seaborn\\distributions.py:2619: FutureWarning: `distplot` is a deprecated function and will be removed in a future version. Please adapt your code to use either `displot` (a figure-level function with similar flexibility) or `histplot` (an axes-level function for histograms).\n",
      "  warnings.warn(msg, FutureWarning)\n"
     ]
    },
    {
     "data": {
      "text/plain": [
       "<AxesSubplot:xlabel='price', ylabel='Density'>"
      ]
     },
     "execution_count": 159,
     "metadata": {},
     "output_type": "execute_result"
    },
    {
     "data": {
      "image/png": "[encoded data removed]",
      "text/plain": [
       "<Figure size 504x360 with 1 Axes>"
      ]
     },
     "metadata": {
      "needs_background": "light"
     },
     "output_type": "display_data"
    }
   ],
   "source": [
    "plt.figure(figsize = (7, 5))\n",
    "sbn.distplot(new_data[\"price\"])  ## graph of columns\n",
    "## daha guzel bir dağilim elde ettik."
   ]
  },
  {
   "cell_type": "code",
   "execution_count": 160,
   "id": "e5998f9e",
   "metadata": {},
   "outputs": [
    {
     "data": {
      "text/plain": [
       "year\n",
       "1970    24999.000000\n",
       "1997     9995.000000\n",
       "1998     8605.000000\n",
       "1999     5995.000000\n",
       "2000     5743.333333\n",
       "2001     4957.900000\n",
       "2002     5820.444444\n",
       "2003     4878.000000\n",
       "2004     4727.615385\n",
       "2005     4426.111111\n",
       "2006     4036.875000\n",
       "2007     5136.045455\n",
       "2008     6967.437500\n",
       "2009     6166.764706\n",
       "2010     8308.473684\n",
       "2011    12624.894737\n",
       "2012    10845.140351\n",
       "2013    11939.842466\n",
       "2014    14042.936864\n",
       "2015    16731.780020\n",
       "2016    19307.892948\n",
       "2017    21514.307854\n",
       "2018    25720.162918\n",
       "2019    31290.020865\n",
       "2020    35433.282337\n",
       "Name: price, dtype: float64"
      ]
     },
     "execution_count": 160,
     "metadata": {},
     "output_type": "execute_result"
    }
   ],
   "source": [
    "data.groupby(\"year\").mean()[\"price\"]"
   ]
  },
  {
   "cell_type": "code",
   "execution_count": 161,
   "id": "288e06c0",
   "metadata": {},
   "outputs": [
    {
     "data": {
      "text/plain": [
       "year\n",
       "1970    24999.000000\n",
       "1997     9995.000000\n",
       "1998     8605.000000\n",
       "1999     5995.000000\n",
       "2000     5743.333333\n",
       "2001     4957.900000\n",
       "2002     5820.444444\n",
       "2003     4878.000000\n",
       "2004     4727.615385\n",
       "2005     4426.111111\n",
       "2006     4036.875000\n",
       "2007     5136.045455\n",
       "2008     6967.437500\n",
       "2009     6166.764706\n",
       "2010     8308.473684\n",
       "2011     8913.459459\n",
       "2012    10845.140351\n",
       "2013    11939.842466\n",
       "2014    14042.936864\n",
       "2015    16647.822222\n",
       "2016    19223.558943\n",
       "2017    21356.280421\n",
       "2018    24800.844506\n",
       "2019    30289.524832\n",
       "2020    34234.794872\n",
       "Name: price, dtype: float64"
      ]
     },
     "execution_count": 161,
     "metadata": {},
     "output_type": "execute_result"
    }
   ],
   "source": [
    "new_data.groupby(\"year\").mean()[\"price\"]"
   ]
  },
  {
   "cell_type": "code",
   "execution_count": 162,
   "id": "8bc55b22",
   "metadata": {},
   "outputs": [
    {
     "data": {
      "text/plain": [
       "year\n",
       "1997     9995.000000\n",
       "1998     8605.000000\n",
       "1999     5995.000000\n",
       "2000     5743.333333\n",
       "2001     4957.900000\n",
       "2002     5820.444444\n",
       "2003     4878.000000\n",
       "2004     4727.615385\n",
       "2005     4426.111111\n",
       "2006     4036.875000\n",
       "2007     5136.045455\n",
       "2008     6967.437500\n",
       "2009     6166.764706\n",
       "2010     8308.473684\n",
       "2011    12624.894737\n",
       "2012    10845.140351\n",
       "2013    11939.842466\n",
       "2014    14042.936864\n",
       "2015    16731.780020\n",
       "2016    19307.892948\n",
       "2017    21514.307854\n",
       "2018    25720.162918\n",
       "2019    31290.020865\n",
       "2020    35433.282337\n",
       "Name: price, dtype: float64"
      ]
     },
     "execution_count": 162,
     "metadata": {},
     "output_type": "execute_result"
    }
   ],
   "source": [
    "data[data.year != 1970].groupby(\"year\").mean()[\"price\"]"
   ]
  },
  {
   "cell_type": "code",
   "execution_count": 163,
   "id": "1b488c68",
   "metadata": {},
   "outputs": [
    {
     "data": {
      "text/plain": [
       "year\n",
       "1997     9995.000000\n",
       "1998     8605.000000\n",
       "1999     5995.000000\n",
       "2000     5743.333333\n",
       "2001     4957.900000\n",
       "2002     5820.444444\n",
       "2003     4878.000000\n",
       "2004     4727.615385\n",
       "2005     4426.111111\n",
       "2006     4036.875000\n",
       "2007     5136.045455\n",
       "2008     6967.437500\n",
       "2009     6166.764706\n",
       "2010     8308.473684\n",
       "2011     8913.459459\n",
       "2012    10845.140351\n",
       "2013    11939.842466\n",
       "2014    14042.936864\n",
       "2015    16647.822222\n",
       "2016    19223.558943\n",
       "2017    21356.280421\n",
       "2018    24800.844506\n",
       "2019    30289.524832\n",
       "2020    34234.794872\n",
       "Name: price, dtype: float64"
      ]
     },
     "execution_count": 163,
     "metadata": {},
     "output_type": "execute_result"
    }
   ],
   "source": [
    "new_data = new_data[new_data.year != 1970]\n",
    "new_data.groupby(\"year\").mean()[\"price\"]"
   ]
  },
  {
   "cell_type": "code",
   "execution_count": 164,
   "id": "4afb0dfe",
   "metadata": {},
   "outputs": [
    {
     "data": {
      "text/html": [
       "<div>\n",
       "<style scoped>\n",
       "    .dataframe tbody tr th:only-of-type {\n",
       "        vertical-align: middle;\n",
       "    }\n",
       "\n",
       "    .dataframe tbody tr th {\n",
       "        vertical-align: top;\n",
       "    }\n",
       "\n",
       "    .dataframe thead th {\n",
       "        text-align: right;\n",
       "    }\n",
       "</style>\n",
       "<table border=\"1\" class=\"dataframe\">\n",
       "  <thead>\n",
       "    <tr style=\"text-align: right;\">\n",
       "      <th></th>\n",
       "      <th>year</th>\n",
       "      <th>price</th>\n",
       "      <th>mileage</th>\n",
       "      <th>tax</th>\n",
       "      <th>mpg</th>\n",
       "      <th>engineSize</th>\n",
       "    </tr>\n",
       "  </thead>\n",
       "  <tbody>\n",
       "    <tr>\n",
       "      <th>6177</th>\n",
       "      <td>2019</td>\n",
       "      <td>65990</td>\n",
       "      <td>5076</td>\n",
       "      <td>150</td>\n",
       "      <td>30.4</td>\n",
       "      <td>3.0</td>\n",
       "    </tr>\n",
       "    <tr>\n",
       "      <th>5779</th>\n",
       "      <td>2020</td>\n",
       "      <td>65990</td>\n",
       "      <td>999</td>\n",
       "      <td>145</td>\n",
       "      <td>28.0</td>\n",
       "      <td>4.0</td>\n",
       "    </tr>\n",
       "    <tr>\n",
       "      <th>3191</th>\n",
       "      <td>2020</td>\n",
       "      <td>65980</td>\n",
       "      <td>3999</td>\n",
       "      <td>145</td>\n",
       "      <td>28.0</td>\n",
       "      <td>4.0</td>\n",
       "    </tr>\n",
       "    <tr>\n",
       "      <th>4727</th>\n",
       "      <td>2019</td>\n",
       "      <td>65000</td>\n",
       "      <td>3398</td>\n",
       "      <td>145</td>\n",
       "      <td>27.2</td>\n",
       "      <td>4.0</td>\n",
       "    </tr>\n",
       "    <tr>\n",
       "      <th>8814</th>\n",
       "      <td>2019</td>\n",
       "      <td>64999</td>\n",
       "      <td>119</td>\n",
       "      <td>145</td>\n",
       "      <td>40.9</td>\n",
       "      <td>3.0</td>\n",
       "    </tr>\n",
       "  </tbody>\n",
       "</table>\n",
       "</div>"
      ],
      "text/plain": [
       "      year  price  mileage  tax   mpg  engineSize\n",
       "6177  2019  65990     5076  150  30.4         3.0\n",
       "5779  2020  65990      999  145  28.0         4.0\n",
       "3191  2020  65980     3999  145  28.0         4.0\n",
       "4727  2019  65000     3398  145  27.2         4.0\n",
       "8814  2019  64999      119  145  40.9         3.0"
      ]
     },
     "execution_count": 164,
     "metadata": {},
     "output_type": "execute_result"
    }
   ],
   "source": [
    "new_data = new_data.drop([\"transmission\"], axis = 1)\n",
    "## drop transmission column\n",
    "new_data.head()"
   ]
  },
  {
   "cell_type": "code",
   "execution_count": 165,
   "id": "08172d31",
   "metadata": {},
   "outputs": [
    {
     "data": {
      "text/plain": [
       "numpy.ndarray"
      ]
     },
     "execution_count": 165,
     "metadata": {},
     "output_type": "execute_result"
    }
   ],
   "source": [
    "y = new_data[\"price\"].values\n",
    "type(y)  ## array"
   ]
  },
  {
   "cell_type": "code",
   "execution_count": 166,
   "id": "cdda7b44",
   "metadata": {},
   "outputs": [
    {
     "data": {
      "text/plain": [
       "(12987,)"
      ]
     },
     "execution_count": 166,
     "metadata": {},
     "output_type": "execute_result"
    }
   ],
   "source": [
    "y.shape"
   ]
  },
  {
   "cell_type": "code",
   "execution_count": 167,
   "id": "369ab042",
   "metadata": {},
   "outputs": [
    {
     "data": {
      "text/plain": [
       "numpy.ndarray"
      ]
     },
     "execution_count": 167,
     "metadata": {},
     "output_type": "execute_result"
    }
   ],
   "source": [
    "x = new_data.drop([\"price\"], axis = 1).values\n",
    "type(x)"
   ]
  },
  {
   "cell_type": "code",
   "execution_count": 168,
   "id": "b67399cb",
   "metadata": {},
   "outputs": [
    {
     "data": {
      "text/plain": [
       "(12987, 5)"
      ]
     },
     "execution_count": 168,
     "metadata": {},
     "output_type": "execute_result"
    }
   ],
   "source": [
    "x.shape"
   ]
  },
  {
   "cell_type": "code",
   "execution_count": 169,
   "id": "dc573bf8",
   "metadata": {},
   "outputs": [
    {
     "data": {
      "text/plain": [
       "array([65990, 65980, 65000, 64999, 64999], dtype=int64)"
      ]
     },
     "execution_count": 169,
     "metadata": {},
     "output_type": "execute_result"
    }
   ],
   "source": [
    "y[1:6]"
   ]
  },
  {
   "cell_type": "code",
   "execution_count": 170,
   "id": "6dbbf6e3",
   "metadata": {},
   "outputs": [
    {
     "data": {
      "text/plain": [
       "array([[2.0200e+03, 9.9900e+02, 1.4500e+02, 2.8000e+01, 4.0000e+00],\n",
       "       [2.0200e+03, 3.9990e+03, 1.4500e+02, 2.8000e+01, 4.0000e+00],\n",
       "       [2.0190e+03, 3.3980e+03, 1.4500e+02, 2.7200e+01, 4.0000e+00],\n",
       "       [2.0190e+03, 1.1900e+02, 1.4500e+02, 4.0900e+01, 3.0000e+00],\n",
       "       [2.0180e+03, 4.1102e+04, 1.4500e+02, 2.3000e+01, 5.5000e+00]])"
      ]
     },
     "execution_count": 170,
     "metadata": {},
     "output_type": "execute_result"
    }
   ],
   "source": [
    "x[1:6]"
   ]
  },
  {
   "cell_type": "code",
   "execution_count": 171,
   "id": "c01844b0",
   "metadata": {},
   "outputs": [],
   "source": [
    "## test and train\n",
    "x_train, x_test, y_train, y_true = train_test_split(x, y, test_size = 0.3, random_state = 0)"
   ]
  },
  {
   "cell_type": "code",
   "execution_count": 172,
   "id": "3663475b",
   "metadata": {},
   "outputs": [
    {
     "data": {
      "text/plain": [
       "(3897, 5)"
      ]
     },
     "execution_count": 172,
     "metadata": {},
     "output_type": "execute_result"
    }
   ],
   "source": [
    "x_test.shape"
   ]
  },
  {
   "cell_type": "code",
   "execution_count": 173,
   "id": "a16d6d5e",
   "metadata": {},
   "outputs": [
    {
     "data": {
      "text/plain": [
       "(9090, 5)"
      ]
     },
     "execution_count": 173,
     "metadata": {},
     "output_type": "execute_result"
    }
   ],
   "source": [
    "x_train.shape"
   ]
  },
  {
   "cell_type": "code",
   "execution_count": 174,
   "id": "aefd2188",
   "metadata": {},
   "outputs": [
    {
     "data": {
      "text/plain": [
       "(9090,)"
      ]
     },
     "execution_count": 174,
     "metadata": {},
     "output_type": "execute_result"
    }
   ],
   "source": [
    "y_train.shape"
   ]
  },
  {
   "cell_type": "code",
   "execution_count": 175,
   "id": "ce8a88f5",
   "metadata": {},
   "outputs": [
    {
     "data": {
      "text/plain": [
       "(3897,)"
      ]
     },
     "execution_count": 175,
     "metadata": {},
     "output_type": "execute_result"
    }
   ],
   "source": [
    "y_true.shape"
   ]
  },
  {
   "cell_type": "code",
   "execution_count": 176,
   "id": "90d524f5",
   "metadata": {},
   "outputs": [],
   "source": [
    "## scaling\n",
    "scale = MinMaxScaler()\n",
    "x_train = scale.fit_transform(x_train)\n",
    "x_test = scale.fit_transform(x_test)  ## transform"
   ]
  },
  {
   "cell_type": "code",
   "execution_count": 177,
   "id": "22ca2d9a",
   "metadata": {},
   "outputs": [
    {
     "data": {
      "text/plain": [
       "array([[0.86363636, 0.11412399, 0.03448276, 0.33781764, 0.24193548],\n",
       "       [0.77272727, 0.24324032, 0.21551724, 0.27603388, 0.33870968],\n",
       "       [0.95454545, 0.03794609, 0.25      , 0.26507225, 0.32258065],\n",
       "       [0.77272727, 0.12605068, 0.        , 0.36472347, 0.24193548],\n",
       "       [0.77272727, 0.25891606, 0.03448276, 0.33781764, 0.33870968]])"
      ]
     },
     "execution_count": 177,
     "metadata": {},
     "output_type": "execute_result"
    }
   ],
   "source": [
    "x_test[1:6]"
   ]
  },
  {
   "cell_type": "code",
   "execution_count": 178,
   "id": "79e4d33e",
   "metadata": {},
   "outputs": [],
   "source": [
    "## layers\n",
    "model = Sequential()\n",
    "\n",
    "model.add(Dense(15, activation = \"relu\"))\n",
    "model.add(Dense(15, activation = \"relu\"))\n",
    "model.add(Dense(15, activation = \"relu\"))\n",
    "model.add(Dense(15, activation = \"relu\"))\n",
    "\n",
    "model.add(Dense(1))\n",
    "\n",
    "model.compile(optimizer = \"adam\", loss = \"mse\") # rmsprop"
   ]
  },
  {
   "cell_type": "code",
   "execution_count": 179,
   "id": "eba511c8",
   "metadata": {},
   "outputs": [
    {
     "name": "stdout",
     "output_type": "stream",
     "text": [
      "Epoch 1/300\n",
      "36/36 [==============================] - 2s 9ms/step - loss: 684405504.0000 - val_loss: 659505984.0000\n",
      "Epoch 2/300\n",
      "36/36 [==============================] - 0s 4ms/step - loss: 684386496.0000 - val_loss: 659477312.0000\n",
      "Epoch 3/300\n",
      "36/36 [==============================] - 0s 4ms/step - loss: 684331520.0000 - val_loss: 659380736.0000\n",
      "Epoch 4/300\n",
      "36/36 [==============================] - 0s 4ms/step - loss: 684148992.0000 - val_loss: 659065344.0000\n",
      "Epoch 5/300\n",
      "36/36 [==============================] - 0s 4ms/step - loss: 683546304.0000 - val_loss: 658034304.0000\n",
      "Epoch 6/300\n",
      "36/36 [==============================] - 0s 4ms/step - loss: 681754944.0000 - val_loss: 655218496.0000\n",
      "Epoch 7/300\n",
      "36/36 [==============================] - 0s 4ms/step - loss: 677263680.0000 - val_loss: 648615168.0000\n",
      "Epoch 8/300\n",
      "36/36 [==============================] - 0s 4ms/step - loss: 667548608.0000 - val_loss: 635163008.0000\n",
      "Epoch 9/300\n",
      "36/36 [==============================] - 0s 4ms/step - loss: 648808256.0000 - val_loss: 610440320.0000\n",
      "Epoch 10/300\n",
      "36/36 [==============================] - 0s 4ms/step - loss: 615909952.0000 - val_loss: 568692864.0000\n",
      "Epoch 11/300\n",
      "36/36 [==============================] - 0s 4ms/step - loss: 563190208.0000 - val_loss: 505390656.0000\n",
      "Epoch 12/300\n",
      "36/36 [==============================] - 0s 4ms/step - loss: 487591008.0000 - val_loss: 419772608.0000\n",
      "Epoch 13/300\n",
      "36/36 [==============================] - 0s 4ms/step - loss: 391425184.0000 - val_loss: 318495712.0000\n",
      "Epoch 14/300\n",
      "36/36 [==============================] - 0s 4ms/step - loss: 286304480.0000 - val_loss: 218337504.0000\n",
      "Epoch 15/300\n",
      "36/36 [==============================] - 0s 4ms/step - loss: 192015152.0000 - val_loss: 141529152.0000\n",
      "Epoch 16/300\n",
      "36/36 [==============================] - 0s 4ms/step - loss: 129133200.0000 - val_loss: 100408008.0000\n",
      "Epoch 17/300\n",
      "36/36 [==============================] - 0s 4ms/step - loss: 100554888.0000 - val_loss: 87399648.0000\n",
      "Epoch 18/300\n",
      "36/36 [==============================] - 0s 4ms/step - loss: 92213024.0000 - val_loss: 85072024.0000\n",
      "Epoch 19/300\n",
      "36/36 [==============================] - 0s 4ms/step - loss: 90315432.0000 - val_loss: 84462200.0000\n",
      "Epoch 20/300\n",
      "36/36 [==============================] - 0s 4ms/step - loss: 89517392.0000 - val_loss: 83991664.0000\n",
      "Epoch 21/300\n",
      "36/36 [==============================] - 0s 4ms/step - loss: 88854120.0000 - val_loss: 83401584.0000\n",
      "Epoch 22/300\n",
      "36/36 [==============================] - 0s 4ms/step - loss: 88255424.0000 - val_loss: 82873464.0000\n",
      "Epoch 23/300\n",
      "36/36 [==============================] - 0s 4ms/step - loss: 87689208.0000 - val_loss: 82369952.0000\n",
      "Epoch 24/300\n",
      "36/36 [==============================] - 0s 4ms/step - loss: 87142568.0000 - val_loss: 81871816.0000\n",
      "Epoch 25/300\n",
      "36/36 [==============================] - 0s 4ms/step - loss: 86602376.0000 - val_loss: 81418536.0000\n",
      "Epoch 26/300\n",
      "36/36 [==============================] - 0s 4ms/step - loss: 86077416.0000 - val_loss: 80940248.0000\n",
      "Epoch 27/300\n",
      "36/36 [==============================] - 0s 4ms/step - loss: 85566760.0000 - val_loss: 80487224.0000\n",
      "Epoch 28/300\n",
      "36/36 [==============================] - 0s 4ms/step - loss: 85062464.0000 - val_loss: 79994240.0000\n",
      "Epoch 29/300\n",
      "36/36 [==============================] - 0s 4ms/step - loss: 84567048.0000 - val_loss: 79533952.0000\n",
      "Epoch 30/300\n",
      "36/36 [==============================] - 0s 4ms/step - loss: 84079552.0000 - val_loss: 79091784.0000\n",
      "Epoch 31/300\n",
      "36/36 [==============================] - 0s 4ms/step - loss: 83592224.0000 - val_loss: 78684008.0000\n",
      "Epoch 32/300\n",
      "36/36 [==============================] - 0s 4ms/step - loss: 83108952.0000 - val_loss: 78203760.0000\n",
      "Epoch 33/300\n",
      "36/36 [==============================] - 0s 4ms/step - loss: 82643488.0000 - val_loss: 77735112.0000\n",
      "Epoch 34/300\n",
      "36/36 [==============================] - 0s 4ms/step - loss: 82159960.0000 - val_loss: 77307064.0000\n",
      "Epoch 35/300\n",
      "36/36 [==============================] - 0s 4ms/step - loss: 81690784.0000 - val_loss: 76881888.0000\n",
      "Epoch 36/300\n",
      "36/36 [==============================] - 0s 4ms/step - loss: 81221032.0000 - val_loss: 76481296.0000\n",
      "Epoch 37/300\n",
      "36/36 [==============================] - 0s 4ms/step - loss: 80749584.0000 - val_loss: 75980800.0000\n",
      "Epoch 38/300\n",
      "36/36 [==============================] - 0s 4ms/step - loss: 80279088.0000 - val_loss: 75563336.0000\n",
      "Epoch 39/300\n",
      "36/36 [==============================] - 0s 4ms/step - loss: 79828656.0000 - val_loss: 75163416.0000\n",
      "Epoch 40/300\n",
      "36/36 [==============================] - 0s 4ms/step - loss: 79363928.0000 - val_loss: 74655224.0000\n",
      "Epoch 41/300\n",
      "36/36 [==============================] - 0s 4ms/step - loss: 78882392.0000 - val_loss: 74286936.0000\n",
      "Epoch 42/300\n",
      "36/36 [==============================] - 0s 4ms/step - loss: 78417144.0000 - val_loss: 73813976.0000\n",
      "Epoch 43/300\n",
      "36/36 [==============================] - 0s 4ms/step - loss: 77953056.0000 - val_loss: 73400792.0000\n",
      "Epoch 44/300\n",
      "36/36 [==============================] - 0s 4ms/step - loss: 77493248.0000 - val_loss: 72887928.0000\n",
      "Epoch 45/300\n",
      "36/36 [==============================] - 0s 4ms/step - loss: 77030672.0000 - val_loss: 72462272.0000\n",
      "Epoch 46/300\n",
      "36/36 [==============================] - 0s 4ms/step - loss: 76550016.0000 - val_loss: 72079104.0000\n",
      "Epoch 47/300\n",
      "36/36 [==============================] - 0s 4ms/step - loss: 76086656.0000 - val_loss: 71596888.0000\n",
      "Epoch 48/300\n",
      "36/36 [==============================] - 0s 4ms/step - loss: 75614728.0000 - val_loss: 71169504.0000\n",
      "Epoch 49/300\n",
      "36/36 [==============================] - 0s 4ms/step - loss: 75136248.0000 - val_loss: 70684000.0000\n",
      "Epoch 50/300\n",
      "36/36 [==============================] - 0s 4ms/step - loss: 74667832.0000 - val_loss: 70245048.0000\n",
      "Epoch 51/300\n",
      "36/36 [==============================] - 0s 4ms/step - loss: 74191128.0000 - val_loss: 69788880.0000\n",
      "Epoch 52/300\n",
      "36/36 [==============================] - 0s 4ms/step - loss: 73709528.0000 - val_loss: 69366104.0000\n",
      "Epoch 53/300\n",
      "36/36 [==============================] - 0s 4ms/step - loss: 73235128.0000 - val_loss: 68882424.0000\n",
      "Epoch 54/300\n",
      "36/36 [==============================] - 0s 4ms/step - loss: 72753168.0000 - val_loss: 68421072.0000\n",
      "Epoch 55/300\n",
      "36/36 [==============================] - 0s 4ms/step - loss: 72251120.0000 - val_loss: 67952720.0000\n",
      "Epoch 56/300\n",
      "36/36 [==============================] - 0s 4ms/step - loss: 71771040.0000 - val_loss: 67524728.0000\n",
      "Epoch 57/300\n",
      "36/36 [==============================] - 0s 4ms/step - loss: 71270768.0000 - val_loss: 67021464.0000\n",
      "Epoch 58/300\n",
      "36/36 [==============================] - 0s 4ms/step - loss: 70783808.0000 - val_loss: 66496364.0000\n",
      "Epoch 59/300\n",
      "36/36 [==============================] - 0s 4ms/step - loss: 70275728.0000 - val_loss: 66086472.0000\n",
      "Epoch 60/300\n",
      "36/36 [==============================] - 0s 4ms/step - loss: 69773264.0000 - val_loss: 65551056.0000\n",
      "Epoch 61/300\n",
      "36/36 [==============================] - 0s 4ms/step - loss: 69253136.0000 - val_loss: 65137808.0000\n",
      "Epoch 62/300\n",
      "36/36 [==============================] - 0s 4ms/step - loss: 68734744.0000 - val_loss: 64540480.0000\n",
      "Epoch 63/300\n",
      "36/36 [==============================] - 0s 4ms/step - loss: 68223928.0000 - val_loss: 64086300.0000\n",
      "Epoch 64/300\n",
      "36/36 [==============================] - 0s 4ms/step - loss: 67698928.0000 - val_loss: 63572944.0000\n",
      "Epoch 65/300\n",
      "36/36 [==============================] - 0s 4ms/step - loss: 67192424.0000 - val_loss: 63028496.0000\n",
      "Epoch 66/300\n",
      "36/36 [==============================] - 0s 4ms/step - loss: 66676212.0000 - val_loss: 62574184.0000\n",
      "Epoch 67/300\n",
      "36/36 [==============================] - 0s 4ms/step - loss: 66099992.0000 - val_loss: 62029416.0000\n",
      "Epoch 68/300\n",
      "36/36 [==============================] - 0s 4ms/step - loss: 65546376.0000 - val_loss: 61465148.0000\n",
      "Epoch 69/300\n",
      "36/36 [==============================] - 0s 4ms/step - loss: 64956356.0000 - val_loss: 60892120.0000\n",
      "Epoch 70/300\n",
      "36/36 [==============================] - 0s 4ms/step - loss: 64402384.0000 - val_loss: 60398764.0000\n",
      "Epoch 71/300\n",
      "36/36 [==============================] - 0s 4ms/step - loss: 63821452.0000 - val_loss: 59825344.0000\n",
      "Epoch 72/300\n"
     ]
    },
    {
     "name": "stdout",
     "output_type": "stream",
     "text": [
      "36/36 [==============================] - 0s 4ms/step - loss: 63243608.0000 - val_loss: 59265068.0000\n",
      "Epoch 73/300\n",
      "36/36 [==============================] - 0s 4ms/step - loss: 62657088.0000 - val_loss: 58675364.0000\n",
      "Epoch 74/300\n",
      "36/36 [==============================] - 0s 4ms/step - loss: 62042096.0000 - val_loss: 58111664.0000\n",
      "Epoch 75/300\n",
      "36/36 [==============================] - 0s 4ms/step - loss: 61427136.0000 - val_loss: 57487064.0000\n",
      "Epoch 76/300\n",
      "36/36 [==============================] - 0s 4ms/step - loss: 60811512.0000 - val_loss: 56924776.0000\n",
      "Epoch 77/300\n",
      "36/36 [==============================] - 0s 4ms/step - loss: 60173880.0000 - val_loss: 56288344.0000\n",
      "Epoch 78/300\n",
      "36/36 [==============================] - 0s 4ms/step - loss: 59531908.0000 - val_loss: 55639024.0000\n",
      "Epoch 79/300\n",
      "36/36 [==============================] - 0s 4ms/step - loss: 58877332.0000 - val_loss: 55000900.0000\n",
      "Epoch 80/300\n",
      "36/36 [==============================] - 0s 4ms/step - loss: 58208800.0000 - val_loss: 54385872.0000\n",
      "Epoch 81/300\n",
      "36/36 [==============================] - 0s 4ms/step - loss: 57532544.0000 - val_loss: 53679388.0000\n",
      "Epoch 82/300\n",
      "36/36 [==============================] - 0s 4ms/step - loss: 56836420.0000 - val_loss: 53056408.0000\n",
      "Epoch 83/300\n",
      "36/36 [==============================] - 0s 4ms/step - loss: 56134008.0000 - val_loss: 52321608.0000\n",
      "Epoch 84/300\n",
      "36/36 [==============================] - 0s 4ms/step - loss: 55428592.0000 - val_loss: 51623980.0000\n",
      "Epoch 85/300\n",
      "36/36 [==============================] - 0s 4ms/step - loss: 54705896.0000 - val_loss: 50938708.0000\n",
      "Epoch 86/300\n",
      "36/36 [==============================] - 0s 4ms/step - loss: 53962376.0000 - val_loss: 50204620.0000\n",
      "Epoch 87/300\n",
      "36/36 [==============================] - 0s 4ms/step - loss: 53208336.0000 - val_loss: 49475500.0000\n",
      "Epoch 88/300\n",
      "36/36 [==============================] - 0s 4ms/step - loss: 52447684.0000 - val_loss: 48749424.0000\n",
      "Epoch 89/300\n",
      "36/36 [==============================] - 0s 4ms/step - loss: 51672488.0000 - val_loss: 48004212.0000\n",
      "Epoch 90/300\n",
      "36/36 [==============================] - 0s 4ms/step - loss: 50912120.0000 - val_loss: 47226084.0000\n",
      "Epoch 91/300\n",
      "36/36 [==============================] - 0s 4ms/step - loss: 50094724.0000 - val_loss: 46442352.0000\n",
      "Epoch 92/300\n",
      "36/36 [==============================] - 0s 4ms/step - loss: 49285476.0000 - val_loss: 45634572.0000\n",
      "Epoch 93/300\n",
      "36/36 [==============================] - 0s 4ms/step - loss: 48474152.0000 - val_loss: 44844432.0000\n",
      "Epoch 94/300\n",
      "36/36 [==============================] - 0s 4ms/step - loss: 47636776.0000 - val_loss: 44065388.0000\n",
      "Epoch 95/300\n",
      "36/36 [==============================] - 0s 4ms/step - loss: 46812940.0000 - val_loss: 43279844.0000\n",
      "Epoch 96/300\n",
      "36/36 [==============================] - 0s 4ms/step - loss: 45980616.0000 - val_loss: 42452000.0000\n",
      "Epoch 97/300\n",
      "36/36 [==============================] - 0s 4ms/step - loss: 45130640.0000 - val_loss: 41660336.0000\n",
      "Epoch 98/300\n",
      "36/36 [==============================] - 0s 4ms/step - loss: 44316112.0000 - val_loss: 40830160.0000\n",
      "Epoch 99/300\n",
      "36/36 [==============================] - 0s 4ms/step - loss: 43471916.0000 - val_loss: 40017388.0000\n",
      "Epoch 100/300\n",
      "36/36 [==============================] - 0s 4ms/step - loss: 42633376.0000 - val_loss: 39231800.0000\n",
      "Epoch 101/300\n",
      "36/36 [==============================] - 0s 4ms/step - loss: 41792496.0000 - val_loss: 38430368.0000\n",
      "Epoch 102/300\n",
      "36/36 [==============================] - 0s 4ms/step - loss: 40958544.0000 - val_loss: 37638472.0000\n",
      "Epoch 103/300\n",
      "36/36 [==============================] - 0s 4ms/step - loss: 40143424.0000 - val_loss: 36875548.0000\n",
      "Epoch 104/300\n",
      "36/36 [==============================] - 0s 4ms/step - loss: 39345444.0000 - val_loss: 36096424.0000\n",
      "Epoch 105/300\n",
      "36/36 [==============================] - 0s 4ms/step - loss: 38546084.0000 - val_loss: 35370108.0000\n",
      "Epoch 106/300\n",
      "36/36 [==============================] - 0s 4ms/step - loss: 37801652.0000 - val_loss: 34643176.0000\n",
      "Epoch 107/300\n",
      "36/36 [==============================] - 0s 4ms/step - loss: 37040396.0000 - val_loss: 33963352.0000\n",
      "Epoch 108/300\n",
      "36/36 [==============================] - 0s 4ms/step - loss: 36334400.0000 - val_loss: 33298028.0000\n",
      "Epoch 109/300\n",
      "36/36 [==============================] - 0s 4ms/step - loss: 35629344.0000 - val_loss: 32662028.0000\n",
      "Epoch 110/300\n",
      "36/36 [==============================] - 0s 4ms/step - loss: 34961184.0000 - val_loss: 32043324.0000\n",
      "Epoch 111/300\n",
      "36/36 [==============================] - 0s 4ms/step - loss: 34319716.0000 - val_loss: 31472272.0000\n",
      "Epoch 112/300\n",
      "36/36 [==============================] - 0s 4ms/step - loss: 33726184.0000 - val_loss: 30911380.0000\n",
      "Epoch 113/300\n",
      "36/36 [==============================] - 0s 4ms/step - loss: 33152334.0000 - val_loss: 30449610.0000\n",
      "Epoch 114/300\n",
      "36/36 [==============================] - 0s 4ms/step - loss: 32601834.0000 - val_loss: 29993824.0000\n",
      "Epoch 115/300\n",
      "36/36 [==============================] - 0s 4ms/step - loss: 32069400.0000 - val_loss: 29437978.0000\n",
      "Epoch 116/300\n",
      "36/36 [==============================] - 0s 4ms/step - loss: 31572184.0000 - val_loss: 28970138.0000\n",
      "Epoch 117/300\n",
      "36/36 [==============================] - 0s 4ms/step - loss: 31107690.0000 - val_loss: 28559376.0000\n",
      "Epoch 118/300\n",
      "36/36 [==============================] - 0s 4ms/step - loss: 30635758.0000 - val_loss: 28122230.0000\n",
      "Epoch 119/300\n",
      "36/36 [==============================] - 0s 4ms/step - loss: 30181038.0000 - val_loss: 27715708.0000\n",
      "Epoch 120/300\n",
      "36/36 [==============================] - 0s 4ms/step - loss: 29768260.0000 - val_loss: 27310698.0000\n",
      "Epoch 121/300\n",
      "36/36 [==============================] - 0s 4ms/step - loss: 29352118.0000 - val_loss: 27083662.0000\n",
      "Epoch 122/300\n",
      "36/36 [==============================] - 0s 4ms/step - loss: 28896358.0000 - val_loss: 26628558.0000\n",
      "Epoch 123/300\n",
      "36/36 [==============================] - 0s 4ms/step - loss: 28476232.0000 - val_loss: 26121232.0000\n",
      "Epoch 124/300\n",
      "36/36 [==============================] - 0s 4ms/step - loss: 28058300.0000 - val_loss: 25806334.0000\n",
      "Epoch 125/300\n",
      "36/36 [==============================] - 0s 4ms/step - loss: 27664426.0000 - val_loss: 25432698.0000\n",
      "Epoch 126/300\n",
      "36/36 [==============================] - 0s 4ms/step - loss: 27286814.0000 - val_loss: 25095232.0000\n",
      "Epoch 127/300\n",
      "36/36 [==============================] - 0s 4ms/step - loss: 26936902.0000 - val_loss: 24744798.0000\n",
      "Epoch 128/300\n",
      "36/36 [==============================] - 0s 4ms/step - loss: 26587934.0000 - val_loss: 24597350.0000\n",
      "Epoch 129/300\n",
      "36/36 [==============================] - 0s 4ms/step - loss: 26266936.0000 - val_loss: 24176956.0000\n",
      "Epoch 130/300\n",
      "36/36 [==============================] - 0s 4ms/step - loss: 25994880.0000 - val_loss: 24016580.0000\n",
      "Epoch 131/300\n",
      "36/36 [==============================] - 0s 4ms/step - loss: 25723510.0000 - val_loss: 23936994.0000\n",
      "Epoch 132/300\n",
      "36/36 [==============================] - 0s 4ms/step - loss: 25476660.0000 - val_loss: 23599630.0000\n",
      "Epoch 133/300\n",
      "36/36 [==============================] - 0s 4ms/step - loss: 25243800.0000 - val_loss: 23362182.0000\n",
      "Epoch 134/300\n",
      "36/36 [==============================] - 0s 4ms/step - loss: 25062172.0000 - val_loss: 23280486.0000\n",
      "Epoch 135/300\n",
      "36/36 [==============================] - 0s 4ms/step - loss: 24861022.0000 - val_loss: 23000190.0000\n",
      "Epoch 136/300\n",
      "36/36 [==============================] - 0s 4ms/step - loss: 24663310.0000 - val_loss: 23046944.0000\n",
      "Epoch 137/300\n",
      "36/36 [==============================] - 0s 4ms/step - loss: 24498664.0000 - val_loss: 22811758.0000\n",
      "Epoch 138/300\n",
      "36/36 [==============================] - 0s 4ms/step - loss: 24338248.0000 - val_loss: 22611482.0000\n",
      "Epoch 139/300\n",
      "36/36 [==============================] - 0s 4ms/step - loss: 24185800.0000 - val_loss: 22565330.0000\n",
      "Epoch 140/300\n",
      "36/36 [==============================] - 0s 4ms/step - loss: 24057608.0000 - val_loss: 22413154.0000\n",
      "Epoch 141/300\n",
      "36/36 [==============================] - 0s 4ms/step - loss: 23940348.0000 - val_loss: 22589472.0000\n",
      "Epoch 142/300\n",
      "36/36 [==============================] - 0s 4ms/step - loss: 23835224.0000 - val_loss: 22249522.0000\n",
      "Epoch 143/300\n"
     ]
    },
    {
     "name": "stdout",
     "output_type": "stream",
     "text": [
      "36/36 [==============================] - 0s 4ms/step - loss: 23719740.0000 - val_loss: 22134754.0000\n",
      "Epoch 144/300\n",
      "36/36 [==============================] - 0s 4ms/step - loss: 23605216.0000 - val_loss: 22080928.0000\n",
      "Epoch 145/300\n",
      "36/36 [==============================] - 0s 4ms/step - loss: 23502436.0000 - val_loss: 21884952.0000\n",
      "Epoch 146/300\n",
      "36/36 [==============================] - 0s 4ms/step - loss: 23381086.0000 - val_loss: 22370954.0000\n",
      "Epoch 147/300\n",
      "36/36 [==============================] - 0s 4ms/step - loss: 23338004.0000 - val_loss: 21757544.0000\n",
      "Epoch 148/300\n",
      "36/36 [==============================] - 0s 4ms/step - loss: 23219220.0000 - val_loss: 21671136.0000\n",
      "Epoch 149/300\n",
      "36/36 [==============================] - 0s 4ms/step - loss: 23161816.0000 - val_loss: 21597040.0000\n",
      "Epoch 150/300\n",
      "36/36 [==============================] - 0s 4ms/step - loss: 23070220.0000 - val_loss: 21769986.0000\n",
      "Epoch 151/300\n",
      "36/36 [==============================] - 0s 4ms/step - loss: 23006922.0000 - val_loss: 21720776.0000\n",
      "Epoch 152/300\n",
      "36/36 [==============================] - 0s 4ms/step - loss: 22905340.0000 - val_loss: 21870978.0000\n",
      "Epoch 153/300\n",
      "36/36 [==============================] - 0s 4ms/step - loss: 22867040.0000 - val_loss: 21530380.0000\n",
      "Epoch 154/300\n",
      "36/36 [==============================] - 0s 4ms/step - loss: 22736456.0000 - val_loss: 21330946.0000\n",
      "Epoch 155/300\n",
      "36/36 [==============================] - 0s 4ms/step - loss: 22675624.0000 - val_loss: 21288530.0000\n",
      "Epoch 156/300\n",
      "36/36 [==============================] - 0s 4ms/step - loss: 22604218.0000 - val_loss: 21227312.0000\n",
      "Epoch 157/300\n",
      "36/36 [==============================] - 0s 4ms/step - loss: 22522926.0000 - val_loss: 21258242.0000\n",
      "Epoch 158/300\n",
      "36/36 [==============================] - 0s 4ms/step - loss: 22462992.0000 - val_loss: 21230758.0000\n",
      "Epoch 159/300\n",
      "36/36 [==============================] - 0s 4ms/step - loss: 22389690.0000 - val_loss: 21106718.0000\n",
      "Epoch 160/300\n",
      "36/36 [==============================] - 0s 4ms/step - loss: 22365868.0000 - val_loss: 20983330.0000\n",
      "Epoch 161/300\n",
      "36/36 [==============================] - 0s 4ms/step - loss: 22265662.0000 - val_loss: 21050360.0000\n",
      "Epoch 162/300\n",
      "36/36 [==============================] - 0s 4ms/step - loss: 22221042.0000 - val_loss: 20908650.0000\n",
      "Epoch 163/300\n",
      "36/36 [==============================] - 0s 4ms/step - loss: 22153618.0000 - val_loss: 20866336.0000\n",
      "Epoch 164/300\n",
      "36/36 [==============================] - 0s 4ms/step - loss: 22103914.0000 - val_loss: 20807644.0000\n",
      "Epoch 165/300\n",
      "36/36 [==============================] - 0s 4ms/step - loss: 22082100.0000 - val_loss: 20682784.0000\n",
      "Epoch 166/300\n",
      "36/36 [==============================] - 0s 4ms/step - loss: 22010000.0000 - val_loss: 20728566.0000\n",
      "Epoch 167/300\n",
      "36/36 [==============================] - 0s 4ms/step - loss: 21958360.0000 - val_loss: 20668124.0000\n",
      "Epoch 168/300\n",
      "36/36 [==============================] - 0s 4ms/step - loss: 21895038.0000 - val_loss: 20722392.0000\n",
      "Epoch 169/300\n",
      "36/36 [==============================] - 0s 4ms/step - loss: 21871828.0000 - val_loss: 20566416.0000\n",
      "Epoch 170/300\n",
      "36/36 [==============================] - 0s 4ms/step - loss: 21816818.0000 - val_loss: 20527954.0000\n",
      "Epoch 171/300\n",
      "36/36 [==============================] - 0s 4ms/step - loss: 21789786.0000 - val_loss: 20606054.0000\n",
      "Epoch 172/300\n",
      "36/36 [==============================] - 0s 4ms/step - loss: 21731602.0000 - val_loss: 20404246.0000\n",
      "Epoch 173/300\n",
      "36/36 [==============================] - 0s 4ms/step - loss: 21700974.0000 - val_loss: 20563122.0000\n",
      "Epoch 174/300\n",
      "36/36 [==============================] - 0s 4ms/step - loss: 21681898.0000 - val_loss: 20579606.0000\n",
      "Epoch 175/300\n",
      "36/36 [==============================] - 0s 4ms/step - loss: 21649778.0000 - val_loss: 20768494.0000\n",
      "Epoch 176/300\n",
      "36/36 [==============================] - 0s 4ms/step - loss: 21625370.0000 - val_loss: 20493458.0000\n",
      "Epoch 177/300\n",
      "36/36 [==============================] - 0s 4ms/step - loss: 21570530.0000 - val_loss: 20325340.0000\n",
      "Epoch 178/300\n",
      "36/36 [==============================] - 0s 4ms/step - loss: 21558168.0000 - val_loss: 20352972.0000\n",
      "Epoch 179/300\n",
      "36/36 [==============================] - 0s 4ms/step - loss: 21516598.0000 - val_loss: 20419414.0000\n",
      "Epoch 180/300\n",
      "36/36 [==============================] - 0s 4ms/step - loss: 21499644.0000 - val_loss: 20236836.0000\n",
      "Epoch 181/300\n",
      "36/36 [==============================] - 0s 4ms/step - loss: 21525674.0000 - val_loss: 20197298.0000\n",
      "Epoch 182/300\n",
      "36/36 [==============================] - 0s 4ms/step - loss: 21439872.0000 - val_loss: 20172722.0000\n",
      "Epoch 183/300\n",
      "36/36 [==============================] - 0s 4ms/step - loss: 21409630.0000 - val_loss: 20321070.0000\n",
      "Epoch 184/300\n",
      "36/36 [==============================] - 0s 4ms/step - loss: 21379402.0000 - val_loss: 20101396.0000\n",
      "Epoch 185/300\n",
      "36/36 [==============================] - 0s 4ms/step - loss: 21357840.0000 - val_loss: 20410256.0000\n",
      "Epoch 186/300\n",
      "36/36 [==============================] - 0s 4ms/step - loss: 21354996.0000 - val_loss: 20141576.0000\n",
      "Epoch 187/300\n",
      "36/36 [==============================] - 0s 4ms/step - loss: 21351804.0000 - val_loss: 20218002.0000\n",
      "Epoch 188/300\n",
      "36/36 [==============================] - 0s 4ms/step - loss: 21297772.0000 - val_loss: 20085632.0000\n",
      "Epoch 189/300\n",
      "36/36 [==============================] - 0s 4ms/step - loss: 21271240.0000 - val_loss: 20020872.0000\n",
      "Epoch 190/300\n",
      "36/36 [==============================] - 0s 4ms/step - loss: 21276230.0000 - val_loss: 20120378.0000\n",
      "Epoch 191/300\n",
      "36/36 [==============================] - 0s 4ms/step - loss: 21223764.0000 - val_loss: 20075282.0000\n",
      "Epoch 192/300\n",
      "36/36 [==============================] - 0s 4ms/step - loss: 21208326.0000 - val_loss: 19907250.0000\n",
      "Epoch 193/300\n",
      "36/36 [==============================] - 0s 4ms/step - loss: 21186124.0000 - val_loss: 20075220.0000\n",
      "Epoch 194/300\n",
      "36/36 [==============================] - 0s 4ms/step - loss: 21181240.0000 - val_loss: 19963440.0000\n",
      "Epoch 195/300\n",
      "36/36 [==============================] - 0s 4ms/step - loss: 21136378.0000 - val_loss: 19828990.0000\n",
      "Epoch 196/300\n",
      "36/36 [==============================] - 0s 4ms/step - loss: 21126290.0000 - val_loss: 19816844.0000\n",
      "Epoch 197/300\n",
      "36/36 [==============================] - 0s 4ms/step - loss: 21112474.0000 - val_loss: 19868236.0000\n",
      "Epoch 198/300\n",
      "36/36 [==============================] - 0s 4ms/step - loss: 21069878.0000 - val_loss: 20019586.0000\n",
      "Epoch 199/300\n",
      "36/36 [==============================] - 0s 3ms/step - loss: 21066062.0000 - val_loss: 20049248.0000\n",
      "Epoch 200/300\n",
      "36/36 [==============================] - 0s 4ms/step - loss: 21053344.0000 - val_loss: 19874050.0000\n",
      "Epoch 201/300\n",
      "36/36 [==============================] - 0s 4ms/step - loss: 21012856.0000 - val_loss: 19865070.0000\n",
      "Epoch 202/300\n",
      "36/36 [==============================] - 0s 4ms/step - loss: 20983966.0000 - val_loss: 19740426.0000\n",
      "Epoch 203/300\n",
      "36/36 [==============================] - 0s 4ms/step - loss: 20991158.0000 - val_loss: 19646978.0000\n",
      "Epoch 204/300\n",
      "36/36 [==============================] - 0s 4ms/step - loss: 20952266.0000 - val_loss: 19707972.0000\n",
      "Epoch 205/300\n",
      "36/36 [==============================] - 0s 4ms/step - loss: 20928352.0000 - val_loss: 19811730.0000\n",
      "Epoch 206/300\n",
      "36/36 [==============================] - 0s 3ms/step - loss: 20912134.0000 - val_loss: 19629152.0000\n",
      "Epoch 207/300\n",
      "36/36 [==============================] - 0s 4ms/step - loss: 20918082.0000 - val_loss: 19823596.0000\n",
      "Epoch 208/300\n",
      "36/36 [==============================] - 0s 4ms/step - loss: 20896668.0000 - val_loss: 19751082.0000\n",
      "Epoch 209/300\n",
      "36/36 [==============================] - 0s 4ms/step - loss: 20872796.0000 - val_loss: 19693394.0000\n",
      "Epoch 210/300\n",
      "36/36 [==============================] - 0s 4ms/step - loss: 20837318.0000 - val_loss: 19582390.0000\n",
      "Epoch 211/300\n",
      "36/36 [==============================] - 0s 4ms/step - loss: 20849706.0000 - val_loss: 19497208.0000\n",
      "Epoch 212/300\n",
      "36/36 [==============================] - 0s 4ms/step - loss: 20798016.0000 - val_loss: 19650504.0000\n",
      "Epoch 213/300\n",
      "36/36 [==============================] - 0s 4ms/step - loss: 20805502.0000 - val_loss: 19477564.0000\n",
      "Epoch 214/300\n"
     ]
    },
    {
     "name": "stdout",
     "output_type": "stream",
     "text": [
      "36/36 [==============================] - 0s 4ms/step - loss: 20805238.0000 - val_loss: 19438850.0000\n",
      "Epoch 215/300\n",
      "36/36 [==============================] - 0s 4ms/step - loss: 20761846.0000 - val_loss: 19578734.0000\n",
      "Epoch 216/300\n",
      "36/36 [==============================] - 0s 4ms/step - loss: 20750510.0000 - val_loss: 19601778.0000\n",
      "Epoch 217/300\n",
      "36/36 [==============================] - 0s 4ms/step - loss: 20724244.0000 - val_loss: 19677828.0000\n",
      "Epoch 218/300\n",
      "36/36 [==============================] - 0s 4ms/step - loss: 20724912.0000 - val_loss: 19451870.0000\n",
      "Epoch 219/300\n",
      "36/36 [==============================] - 0s 4ms/step - loss: 20747918.0000 - val_loss: 19642438.0000\n",
      "Epoch 220/300\n",
      "36/36 [==============================] - 0s 4ms/step - loss: 20696310.0000 - val_loss: 19624036.0000\n",
      "Epoch 221/300\n",
      "36/36 [==============================] - 0s 4ms/step - loss: 20677192.0000 - val_loss: 19395774.0000\n",
      "Epoch 222/300\n",
      "36/36 [==============================] - 0s 4ms/step - loss: 20666254.0000 - val_loss: 19396954.0000\n",
      "Epoch 223/300\n",
      "36/36 [==============================] - 0s 4ms/step - loss: 20649088.0000 - val_loss: 19537636.0000\n",
      "Epoch 224/300\n",
      "36/36 [==============================] - 0s 4ms/step - loss: 20668096.0000 - val_loss: 19349058.0000\n",
      "Epoch 225/300\n",
      "36/36 [==============================] - 0s 4ms/step - loss: 20626166.0000 - val_loss: 19510420.0000\n",
      "Epoch 226/300\n",
      "36/36 [==============================] - 0s 4ms/step - loss: 20641192.0000 - val_loss: 19532128.0000\n",
      "Epoch 227/300\n",
      "36/36 [==============================] - 0s 4ms/step - loss: 20596970.0000 - val_loss: 19399036.0000\n",
      "Epoch 228/300\n",
      "36/36 [==============================] - 0s 4ms/step - loss: 20593042.0000 - val_loss: 19253770.0000\n",
      "Epoch 229/300\n",
      "36/36 [==============================] - 0s 4ms/step - loss: 20608752.0000 - val_loss: 19398654.0000\n",
      "Epoch 230/300\n",
      "36/36 [==============================] - 0s 4ms/step - loss: 20559800.0000 - val_loss: 19331036.0000\n",
      "Epoch 231/300\n",
      "36/36 [==============================] - 0s 4ms/step - loss: 20542918.0000 - val_loss: 19391688.0000\n",
      "Epoch 232/300\n",
      "36/36 [==============================] - 0s 4ms/step - loss: 20546324.0000 - val_loss: 19247704.0000\n",
      "Epoch 233/300\n",
      "36/36 [==============================] - 0s 4ms/step - loss: 20517412.0000 - val_loss: 19411102.0000\n",
      "Epoch 234/300\n",
      "36/36 [==============================] - 0s 4ms/step - loss: 20510108.0000 - val_loss: 19208116.0000\n",
      "Epoch 235/300\n",
      "36/36 [==============================] - 0s 5ms/step - loss: 20490026.0000 - val_loss: 19329384.0000\n",
      "Epoch 236/300\n",
      "36/36 [==============================] - 0s 5ms/step - loss: 20487576.0000 - val_loss: 19284000.0000\n",
      "Epoch 237/300\n",
      "36/36 [==============================] - 0s 6ms/step - loss: 20467192.0000 - val_loss: 19215464.0000\n",
      "Epoch 238/300\n",
      "36/36 [==============================] - 0s 5ms/step - loss: 20456846.0000 - val_loss: 19337472.0000\n",
      "Epoch 239/300\n",
      "36/36 [==============================] - 0s 4ms/step - loss: 20464208.0000 - val_loss: 19342360.0000\n",
      "Epoch 240/300\n",
      "36/36 [==============================] - 0s 4ms/step - loss: 20436056.0000 - val_loss: 19145140.0000\n",
      "Epoch 241/300\n",
      "36/36 [==============================] - 0s 4ms/step - loss: 20427114.0000 - val_loss: 19199200.0000\n",
      "Epoch 242/300\n",
      "36/36 [==============================] - 0s 4ms/step - loss: 20416134.0000 - val_loss: 19166804.0000\n",
      "Epoch 243/300\n",
      "36/36 [==============================] - 0s 4ms/step - loss: 20409688.0000 - val_loss: 19081870.0000\n",
      "Epoch 244/300\n",
      "36/36 [==============================] - 0s 4ms/step - loss: 20404286.0000 - val_loss: 19130788.0000\n",
      "Epoch 245/300\n",
      "36/36 [==============================] - 0s 4ms/step - loss: 20373244.0000 - val_loss: 19211032.0000\n",
      "Epoch 246/300\n",
      "36/36 [==============================] - 0s 4ms/step - loss: 20366182.0000 - val_loss: 19076466.0000\n",
      "Epoch 247/300\n",
      "36/36 [==============================] - 0s 5ms/step - loss: 20357658.0000 - val_loss: 19176652.0000\n",
      "Epoch 248/300\n",
      "36/36 [==============================] - 0s 5ms/step - loss: 20361096.0000 - val_loss: 18985662.0000\n",
      "Epoch 249/300\n",
      "36/36 [==============================] - 0s 4ms/step - loss: 20325212.0000 - val_loss: 19039902.0000\n",
      "Epoch 250/300\n",
      "36/36 [==============================] - 0s 4ms/step - loss: 20322620.0000 - val_loss: 19184672.0000\n",
      "Epoch 251/300\n",
      "36/36 [==============================] - 0s 5ms/step - loss: 20323546.0000 - val_loss: 19191746.0000\n",
      "Epoch 252/300\n",
      "36/36 [==============================] - 0s 4ms/step - loss: 20286034.0000 - val_loss: 19017240.0000\n",
      "Epoch 253/300\n",
      "36/36 [==============================] - 0s 4ms/step - loss: 20286026.0000 - val_loss: 18904222.0000\n",
      "Epoch 254/300\n",
      "36/36 [==============================] - 0s 5ms/step - loss: 20321022.0000 - val_loss: 18975860.0000\n",
      "Epoch 255/300\n",
      "36/36 [==============================] - 0s 5ms/step - loss: 20261164.0000 - val_loss: 18906186.0000\n",
      "Epoch 256/300\n",
      "36/36 [==============================] - 0s 6ms/step - loss: 20258216.0000 - val_loss: 18846688.0000\n",
      "Epoch 257/300\n",
      "36/36 [==============================] - 0s 6ms/step - loss: 20263040.0000 - val_loss: 18912210.0000\n",
      "Epoch 258/300\n",
      "36/36 [==============================] - 0s 5ms/step - loss: 20217452.0000 - val_loss: 19221710.0000\n",
      "Epoch 259/300\n",
      "36/36 [==============================] - 0s 4ms/step - loss: 20235876.0000 - val_loss: 19033944.0000\n",
      "Epoch 260/300\n",
      "36/36 [==============================] - 0s 4ms/step - loss: 20196776.0000 - val_loss: 18966586.0000\n",
      "Epoch 261/300\n",
      "36/36 [==============================] - 0s 4ms/step - loss: 20186290.0000 - val_loss: 19154306.0000\n",
      "Epoch 262/300\n",
      "36/36 [==============================] - 0s 4ms/step - loss: 20185332.0000 - val_loss: 18891962.0000\n",
      "Epoch 263/300\n",
      "36/36 [==============================] - 0s 4ms/step - loss: 20209808.0000 - val_loss: 18967578.0000\n",
      "Epoch 264/300\n",
      "36/36 [==============================] - 0s 4ms/step - loss: 20160214.0000 - val_loss: 18917018.0000\n",
      "Epoch 265/300\n",
      "36/36 [==============================] - 0s 4ms/step - loss: 20128206.0000 - val_loss: 18768710.0000\n",
      "Epoch 266/300\n",
      "36/36 [==============================] - 0s 4ms/step - loss: 20144306.0000 - val_loss: 18940720.0000\n",
      "Epoch 267/300\n",
      "36/36 [==============================] - 0s 4ms/step - loss: 20129778.0000 - val_loss: 19034510.0000\n",
      "Epoch 268/300\n",
      "36/36 [==============================] - 0s 4ms/step - loss: 20099026.0000 - val_loss: 18820426.0000\n",
      "Epoch 269/300\n",
      "36/36 [==============================] - 0s 4ms/step - loss: 20104536.0000 - val_loss: 18927614.0000\n",
      "Epoch 270/300\n",
      "36/36 [==============================] - 0s 4ms/step - loss: 20088600.0000 - val_loss: 18896204.0000\n",
      "Epoch 271/300\n",
      "36/36 [==============================] - 0s 4ms/step - loss: 20075372.0000 - val_loss: 18850736.0000\n",
      "Epoch 272/300\n",
      "36/36 [==============================] - 0s 4ms/step - loss: 20056588.0000 - val_loss: 18827062.0000\n",
      "Epoch 273/300\n",
      "36/36 [==============================] - 0s 4ms/step - loss: 20044446.0000 - val_loss: 18956052.0000\n",
      "Epoch 274/300\n",
      "36/36 [==============================] - 0s 5ms/step - loss: 20033546.0000 - val_loss: 18799118.0000\n",
      "Epoch 275/300\n",
      "36/36 [==============================] - 0s 6ms/step - loss: 20026266.0000 - val_loss: 18837096.0000\n",
      "Epoch 276/300\n",
      "36/36 [==============================] - 0s 5ms/step - loss: 20027368.0000 - val_loss: 18941544.0000\n",
      "Epoch 277/300\n",
      "36/36 [==============================] - 0s 4ms/step - loss: 20003124.0000 - val_loss: 18814578.0000\n",
      "Epoch 278/300\n",
      "36/36 [==============================] - 0s 4ms/step - loss: 20008960.0000 - val_loss: 18721614.0000\n",
      "Epoch 279/300\n",
      "36/36 [==============================] - 0s 4ms/step - loss: 20010978.0000 - val_loss: 18764980.0000\n",
      "Epoch 280/300\n",
      "36/36 [==============================] - 0s 4ms/step - loss: 20005292.0000 - val_loss: 18746696.0000\n",
      "Epoch 281/300\n",
      "36/36 [==============================] - 0s 5ms/step - loss: 19957638.0000 - val_loss: 18803242.0000\n",
      "Epoch 282/300\n",
      "36/36 [==============================] - 0s 5ms/step - loss: 19958746.0000 - val_loss: 18698794.0000\n",
      "Epoch 283/300\n",
      "36/36 [==============================] - 0s 5ms/step - loss: 19942678.0000 - val_loss: 18746166.0000\n",
      "Epoch 284/300\n",
      "36/36 [==============================] - 0s 6ms/step - loss: 19934538.0000 - val_loss: 18760982.0000\n",
      "Epoch 285/300\n"
     ]
    },
    {
     "name": "stdout",
     "output_type": "stream",
     "text": [
      "36/36 [==============================] - 0s 6ms/step - loss: 19910974.0000 - val_loss: 18808338.0000\n",
      "Epoch 286/300\n",
      "36/36 [==============================] - 0s 5ms/step - loss: 19921276.0000 - val_loss: 18770040.0000\n",
      "Epoch 287/300\n",
      "36/36 [==============================] - 0s 6ms/step - loss: 19911200.0000 - val_loss: 18884414.0000\n",
      "Epoch 288/300\n",
      "36/36 [==============================] - 0s 4ms/step - loss: 19914754.0000 - val_loss: 18744920.0000\n",
      "Epoch 289/300\n",
      "36/36 [==============================] - 0s 4ms/step - loss: 19881422.0000 - val_loss: 18654506.0000\n",
      "Epoch 290/300\n",
      "36/36 [==============================] - 0s 4ms/step - loss: 19879862.0000 - val_loss: 18741044.0000\n",
      "Epoch 291/300\n",
      "36/36 [==============================] - 0s 4ms/step - loss: 19883234.0000 - val_loss: 18646720.0000\n",
      "Epoch 292/300\n",
      "36/36 [==============================] - 0s 4ms/step - loss: 19850918.0000 - val_loss: 18665208.0000\n",
      "Epoch 293/300\n",
      "36/36 [==============================] - 0s 4ms/step - loss: 19835262.0000 - val_loss: 18654260.0000\n",
      "Epoch 294/300\n",
      "36/36 [==============================] - 0s 4ms/step - loss: 19826844.0000 - val_loss: 18597612.0000\n",
      "Epoch 295/300\n",
      "36/36 [==============================] - 0s 4ms/step - loss: 19835818.0000 - val_loss: 18595122.0000\n",
      "Epoch 296/300\n",
      "36/36 [==============================] - 0s 4ms/step - loss: 19805416.0000 - val_loss: 18666772.0000\n",
      "Epoch 297/300\n",
      "36/36 [==============================] - 0s 4ms/step - loss: 19819510.0000 - val_loss: 18697368.0000\n",
      "Epoch 298/300\n",
      "36/36 [==============================] - 0s 4ms/step - loss: 19823972.0000 - val_loss: 18616390.0000\n",
      "Epoch 299/300\n",
      "36/36 [==============================] - 0s 4ms/step - loss: 19814530.0000 - val_loss: 18647724.0000\n",
      "Epoch 300/300\n",
      "36/36 [==============================] - 0s 4ms/step - loss: 19762826.0000 - val_loss: 18689808.0000\n"
     ]
    },
    {
     "data": {
      "text/plain": [
       "<keras.callbacks.History at 0x18372a4d790>"
      ]
     },
     "execution_count": 179,
     "metadata": {},
     "output_type": "execute_result"
    }
   ],
   "source": [
    "model.fit(x = x_train, y = y_train, validation_data = (x_test, y_true), batch_size = 256, epochs = 300)"
   ]
  },
  {
   "cell_type": "code",
   "execution_count": 180,
   "id": "6571d879",
   "metadata": {},
   "outputs": [
    {
     "data": {
      "text/html": [
       "<div>\n",
       "<style scoped>\n",
       "    .dataframe tbody tr th:only-of-type {\n",
       "        vertical-align: middle;\n",
       "    }\n",
       "\n",
       "    .dataframe tbody tr th {\n",
       "        vertical-align: top;\n",
       "    }\n",
       "\n",
       "    .dataframe thead th {\n",
       "        text-align: right;\n",
       "    }\n",
       "</style>\n",
       "<table border=\"1\" class=\"dataframe\">\n",
       "  <thead>\n",
       "    <tr style=\"text-align: right;\">\n",
       "      <th></th>\n",
       "      <th>loss</th>\n",
       "      <th>val_loss</th>\n",
       "    </tr>\n",
       "  </thead>\n",
       "  <tbody>\n",
       "    <tr>\n",
       "      <th>0</th>\n",
       "      <td>684405504.0</td>\n",
       "      <td>659505984.0</td>\n",
       "    </tr>\n",
       "    <tr>\n",
       "      <th>1</th>\n",
       "      <td>684386496.0</td>\n",
       "      <td>659477312.0</td>\n",
       "    </tr>\n",
       "    <tr>\n",
       "      <th>2</th>\n",
       "      <td>684331520.0</td>\n",
       "      <td>659380736.0</td>\n",
       "    </tr>\n",
       "    <tr>\n",
       "      <th>3</th>\n",
       "      <td>684148992.0</td>\n",
       "      <td>659065344.0</td>\n",
       "    </tr>\n",
       "    <tr>\n",
       "      <th>4</th>\n",
       "      <td>683546304.0</td>\n",
       "      <td>658034304.0</td>\n",
       "    </tr>\n",
       "  </tbody>\n",
       "</table>\n",
       "</div>"
      ],
      "text/plain": [
       "          loss     val_loss\n",
       "0  684405504.0  659505984.0\n",
       "1  684386496.0  659477312.0\n",
       "2  684331520.0  659380736.0\n",
       "3  684148992.0  659065344.0\n",
       "4  683546304.0  658034304.0"
      ]
     },
     "execution_count": 180,
     "metadata": {},
     "output_type": "execute_result"
    }
   ],
   "source": [
    "loss_values = pd.DataFrame(model.history.history)\n",
    "loss_values.head()"
   ]
  },
  {
   "cell_type": "code",
   "execution_count": 181,
   "id": "0d63c51c",
   "metadata": {},
   "outputs": [
    {
     "data": {
      "text/plain": [
       "<AxesSubplot:>"
      ]
     },
     "execution_count": 181,
     "metadata": {},
     "output_type": "execute_result"
    },
    {
     "data": {
      "image/png": "[encoded data removed]",
      "text/plain": [
       "<Figure size 432x288 with 1 Axes>"
      ]
     },
     "metadata": {
      "needs_background": "light"
     },
     "output_type": "display_data"
    }
   ],
   "source": [
    "loss_values.plot()"
   ]
  },
  {
   "cell_type": "code",
   "execution_count": 182,
   "id": "3184962d",
   "metadata": {},
   "outputs": [
    {
     "name": "stdout",
     "output_type": "stream",
     "text": [
      "122/122 [==============================] - 0s 1ms/step\n"
     ]
    },
    {
     "data": {
      "text/plain": [
       "array([[22775.31 ],\n",
       "       [16152.508],\n",
       "       [14678.225],\n",
       "       ...,\n",
       "       [22928.607],\n",
       "       [17153.635],\n",
       "       [26092.955]], dtype=float32)"
      ]
     },
     "execution_count": 182,
     "metadata": {},
     "output_type": "execute_result"
    }
   ],
   "source": [
    "## scores\n",
    "y_pred = model.predict(x_test)\n",
    "y_pred"
   ]
  },
  {
   "cell_type": "code",
   "execution_count": 183,
   "id": "cf50b999",
   "metadata": {},
   "outputs": [],
   "source": [
    "abs_mean = mean_absolute_error(y_true, y_pred)\n",
    "sqrd_mean = mean_squared_error(y_true, y_pred)"
   ]
  },
  {
   "cell_type": "code",
   "execution_count": 184,
   "id": "ad5d4983",
   "metadata": {},
   "outputs": [
    {
     "data": {
      "text/plain": [
       "3066.273257041424"
      ]
     },
     "execution_count": 184,
     "metadata": {},
     "output_type": "execute_result"
    }
   ],
   "source": [
    "abs_mean"
   ]
  },
  {
   "cell_type": "code",
   "execution_count": 185,
   "id": "0c1d1ba6",
   "metadata": {},
   "outputs": [
    {
     "data": {
      "text/plain": [
       "18689807.13882043"
      ]
     },
     "execution_count": 185,
     "metadata": {},
     "output_type": "execute_result"
    }
   ],
   "source": [
    "sqrd_mean"
   ]
  },
  {
   "cell_type": "code",
   "execution_count": 186,
   "id": "dcbae484",
   "metadata": {},
   "outputs": [
    {
     "data": {
      "text/plain": [
       "[<matplotlib.lines.Line2D at 0x183731a2370>]"
      ]
     },
     "execution_count": 186,
     "metadata": {},
     "output_type": "execute_result"
    },
    {
     "data": {
      "image/png": "[encoded data removed]",
      "text/plain": [
       "<Figure size 576x432 with 1 Axes>"
      ]
     },
     "metadata": {
      "needs_background": "light"
     },
     "output_type": "display_data"
    }
   ],
   "source": [
    "plt.figure(figsize = (8, 6))\n",
    "plt.scatter(y_true, y_pred, color = \"g\")\n",
    "plt.plot(y_true, y_true, \"r-\")"
   ]
  },
  {
   "cell_type": "code",
   "execution_count": 187,
   "id": "ea398024",
   "metadata": {},
   "outputs": [
    {
     "data": {
      "text/plain": [
       "pandas.core.series.Series"
      ]
     },
     "execution_count": 187,
     "metadata": {},
     "output_type": "execute_result"
    }
   ],
   "source": [
    "test_data = new_data.iloc[10]  ## for test\n",
    "test_data\n",
    "type(test_data)"
   ]
  },
  {
   "cell_type": "code",
   "execution_count": 188,
   "id": "f9c56db6",
   "metadata": {},
   "outputs": [
    {
     "data": {
      "text/plain": [
       "year           2020.0\n",
       "price         64359.0\n",
       "mileage        1000.0\n",
       "tax             145.0\n",
       "mpg              29.5\n",
       "engineSize        3.0\n",
       "Name: 8869, dtype: float64"
      ]
     },
     "execution_count": 188,
     "metadata": {},
     "output_type": "execute_result"
    }
   ],
   "source": [
    "test_data"
   ]
  },
  {
   "cell_type": "code",
   "execution_count": 203,
   "id": "940fe3f8",
   "metadata": {},
   "outputs": [
    {
     "data": {
      "text/plain": [
       "year          2020.0\n",
       "mileage       1000.0\n",
       "tax            145.0\n",
       "mpg             29.5\n",
       "engineSize       3.0\n",
       "Name: 8869, dtype: float64"
      ]
     },
     "execution_count": 203,
     "metadata": {},
     "output_type": "execute_result"
    }
   ],
   "source": [
    "#new_data = new_data.drop(new_data.iloc[10,:])\n",
    "test_data = new_data.drop(\"price\", axis = 1).iloc[10]\n",
    "test_data"
   ]
  },
  {
   "cell_type": "code",
   "execution_count": 204,
   "id": "7600d672",
   "metadata": {},
   "outputs": [
    {
     "data": {
      "text/plain": [
       "pandas.core.series.Series"
      ]
     },
     "execution_count": 204,
     "metadata": {},
     "output_type": "execute_result"
    }
   ],
   "source": [
    "type(test_data)"
   ]
  },
  {
   "cell_type": "code",
   "execution_count": 205,
   "id": "ac23adc1",
   "metadata": {},
   "outputs": [
    {
     "data": {
      "text/plain": [
       "(5,)"
      ]
     },
     "execution_count": 205,
     "metadata": {},
     "output_type": "execute_result"
    }
   ],
   "source": [
    "test_data.shape"
   ]
  },
  {
   "cell_type": "code",
   "execution_count": 206,
   "id": "b2dd97a5",
   "metadata": {},
   "outputs": [],
   "source": [
    "test_data = test_data.values"
   ]
  },
  {
   "cell_type": "code",
   "execution_count": 207,
   "id": "2f538c38",
   "metadata": {},
   "outputs": [
    {
     "data": {
      "text/plain": [
       "(1, 5)"
      ]
     },
     "execution_count": 207,
     "metadata": {},
     "output_type": "execute_result"
    }
   ],
   "source": [
    "test_data = test_data.reshape(-1,5)\n",
    "test_data.shape"
   ]
  },
  {
   "cell_type": "code",
   "execution_count": 208,
   "id": "f8cc4be8",
   "metadata": {},
   "outputs": [],
   "source": [
    "test_data = scale.transform(test_data)"
   ]
  },
  {
   "cell_type": "code",
   "execution_count": 209,
   "id": "2851b76f",
   "metadata": {},
   "outputs": [
    {
     "name": "stdout",
     "output_type": "stream",
     "text": [
      "1/1 [==============================] - 0s 12ms/step\n"
     ]
    },
    {
     "data": {
      "text/plain": [
       "array([[51061.836]], dtype=float32)"
      ]
     },
     "execution_count": 209,
     "metadata": {},
     "output_type": "execute_result"
    }
   ],
   "source": [
    "model.predict(test_data)"
   ]
  },
  {
   "cell_type": "code",
   "execution_count": 213,
   "id": "ac4f49fc",
   "metadata": {},
   "outputs": [],
   "source": [
    "## save model\n",
    "model.save(\"car.h5\")"
   ]
  },
  {
   "cell_type": "code",
   "execution_count": 214,
   "id": "4840988a",
   "metadata": {},
   "outputs": [
    {
     "name": "stdout",
     "output_type": "stream",
     "text": [
      "1/1 [==============================] - 0s 66ms/step\n"
     ]
    },
    {
     "data": {
      "text/plain": [
       "array([[50876.418]], dtype=float32)"
      ]
     },
     "execution_count": 214,
     "metadata": {},
     "output_type": "execute_result"
    }
   ],
   "source": [
    "## call the model\n",
    "new_model = load_model(\"car.h5\")\n",
    "new_test = scale.transform([[2020, 1100, 145, 30, 3.0]])\n",
    "new_model.predict(new_test)"
   ]
  },
  {
   "cell_type": "code",
   "execution_count": null,
   "id": "185faec5",
   "metadata": {},
   "outputs": [],
   "source": [
    "## Modelin buldugu sonuc gercek degere cok yakın degil."
   ]
  }
 ],
 "metadata": {
  "kernelspec": {
   "display_name": "Python 3 (ipykernel)",
   "language": "python",
   "name": "python3"
  },
  "language_info": {
   "codemirror_mode": {
    "name": "ipython",
    "version": 3
   },
   "file_extension": ".py",
   "mimetype": "text/x-python",
   "name": "python",
   "nbconvert_exporter": "python",
   "pygments_lexer": "ipython3",
   "version": "3.9.12"
  }
 },
 "nbformat": 4,
 "nbformat_minor": 5
}
